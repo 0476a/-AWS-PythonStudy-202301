{
 "cells": [
  {
   "cell_type": "code",
   "execution_count": 2,
   "id": "79dd4b70",
   "metadata": {},
   "outputs": [
    {
     "name": "stdout",
     "output_type": "stream",
     "text": [
      "myfunction\n"
     ]
    }
   ],
   "source": [
    "# 함수\n",
    "# define(정의한다!)\n",
    "def function_name():\n",
    "    print('myfunction')\n",
    "    \n",
    "function_name()"
   ]
  },
  {
   "cell_type": "code",
   "execution_count": 25,
   "id": "b4114582",
   "metadata": {},
   "outputs": [
    {
     "name": "stdout",
     "output_type": "stream",
     "text": [
      "fn7 start\n",
      "abc def\n"
     ]
    }
   ],
   "source": [
    "# function argument\n",
    "def myfn1():\n",
    "    print('myfn1')\n",
    "\n",
    "def myfn2(arg1):\n",
    "    print(arg1)\n",
    "\n",
    "# def myfn3(arg1, arg2):\n",
    "# print(arg1, arg2)\n",
    "\n",
    "# 디폴트 값을 줄 수 있다.\n",
    "def myfn3(arg1 = 'a', arg2 = 'b'):\n",
    "    print(arg1, arg2)\n",
    "    \n",
    "def myfn4(*arg1):\n",
    "    for i in arg1:\n",
    "        print(i)\n",
    "\n",
    "# \"*\" 이후에는 키워드 아규먼트 (필수 강제)\n",
    "def myfn5(arg1, *, arg2, arg3):\n",
    "    print(arg1, arg2, arg3)\n",
    "\n",
    "# \"/\" 전에는 포지셔널 아규먼트 (필수 강제)\n",
    "def myfn6(arg1, /, arg2, arg3):\n",
    "    print(arg1, arg2, arg3)\n",
    "\n",
    "# 함수를 불러올 수도 있다.\n",
    "def myfn7(arg1, arg2):\n",
    "    print(arg1)\n",
    "    arg2('abc', 'def')\n",
    "\n",
    "# myfn2('abc')\n",
    "# myfn3(10, 20) # 포지셔널 아규먼트 (위치 맞게 출력)\n",
    "# myfn3(arg2 = 10, arg3 = 20) # 키워드 아규먼트 (순서 상관 X)\n",
    "# myfn3()\n",
    "# myfn4(1,2,3,4)\n",
    "# myfn2([1,2,3,4])\n",
    "# myfn5('a', arg3 = 'c', arg2 = 'b')\n",
    "# myfn5(arg1 = 'a', arg3 = 'c', arg2 = 'b')\n",
    "# myfn6('a', 'b', 'c')\n",
    "# myfn6(arg1 = 'a', arg3 = 'c', arg2 = 'b')\n",
    "myfn7('fn7 start', myfn3)\n"
   ]
  },
  {
   "cell_type": "code",
   "execution_count": 28,
   "id": "ef10498c",
   "metadata": {},
   "outputs": [
    {
     "name": "stdout",
     "output_type": "stream",
     "text": [
      "(10, 20)\n"
     ]
    }
   ],
   "source": [
    "# function return\n",
    "# 리턴 값이 없어서 None 출력\n",
    "def myfn8():\n",
    "    print('myfn8')\n",
    "\n",
    "# 리턴 값 10 반환\n",
    "def myfn9():\n",
    "    return 10\n",
    "\n",
    "# 리턴 값이 2개 이상이면 튜플로 출력됨!\n",
    "def myfn10():\n",
    "    return 10, 20\n",
    "\n",
    "# ret_value = myfn8()\n",
    "# ret_value = myfn9()\n",
    "ret_value = myfn10()\n",
    "print(ret_value)"
   ]
  }
 ],
 "metadata": {
  "kernelspec": {
   "display_name": "Python 3 (ipykernel)",
   "language": "python",
   "name": "python3"
  },
  "language_info": {
   "codemirror_mode": {
    "name": "ipython",
    "version": 3
   },
   "file_extension": ".py",
   "mimetype": "text/x-python",
   "name": "python",
   "nbconvert_exporter": "python",
   "pygments_lexer": "ipython3",
   "version": "3.10.9"
  }
 },
 "nbformat": 4,
 "nbformat_minor": 5
}
