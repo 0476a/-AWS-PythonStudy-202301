{
 "cells": [
  {
   "cell_type": "markdown",
   "id": "9a468714",
   "metadata": {},
   "source": [
    "### kosis 부산광역시 가스공급량 2010-2020\n",
    "* 2010-2020 년도별 도시가스 / 프로판 판매량 비율\n",
    "    - 프로판 가스보다 도시가스 사용량이 점점 늘어나는가\n",
    "* 년도별 도시가스, 년도별 프로판 사용량 상관도\n",
    "    - 도시가스 사용량이 점점 많아지고 있는가\n",
    "      프로판 가스 사용량은 점점 줄어들고 있는가.\n",
    "\n",
    "* 도시가스 년도별 겨울(10,11,12,1,2,3) 평균사용량/비겨울(4,5,6,7,8,9) 평균사용량\n",
    "    - test(평균사용량에 차이가 있는가.)\n",
    "    \n",
    "* 같은 분석을, 프로판/ 부탄가스를 대상으로도 실행"
   ]
  },
  {
   "cell_type": "code",
   "execution_count": 1,
   "id": "7fd159d6",
   "metadata": {},
   "outputs": [],
   "source": [
    "import numpy as np\n",
    "import matplotlib.pyplot as plt\n",
    "from scipy import stats\n",
    "\n",
    "np.set_\n",
    "\n",
    "def my_split(s):\n",
    "    block_start = False\n",
    "    start_index = 0\n",
    "    ret_list=[]\n",
    "    for i, c in enumerate(s):\n",
    "        if block_start==False:\n",
    "            if c==',':\n",
    "                ret_list.append(s[start_index:i])\n",
    "                start_index=i+1\n",
    "            elif c=='\"':\n",
    "                block_start=True\n",
    "                start_index = i\n",
    "        else:\n",
    "            if c=='\"':\n",
    "                block_start=False\n",
    "    if s[-1]!=',':\n",
    "        ret_list.append(s[start_index:])\n",
    "    return ret_list\n",
    "\n",
    "def split_len(data_list):\n",
    "    len_list = []\n",
    "    for e in data_list:\n",
    "        len_list.append(len(e))\n",
    "    print(set(len_list))\n",
    "    if len (set(len_list)) > 1:\n",
    "        for i in set(len_list):\n",
    "            print(i, len_list.count(i))"
   ]
  },
  {
   "cell_type": "code",
   "execution_count": 2,
   "id": "1f67b992",
   "metadata": {},
   "outputs": [
    {
     "name": "stdout",
     "output_type": "stream",
     "text": [
      "{8}\n"
     ]
    }
   ],
   "source": [
    "raw_data = []\n",
    "with open('가스공급량_20230217170925.csv') as f:\n",
    "    for line in f:\n",
    "        raw_data.append(line[:-1].split(','))\n",
    "\n",
    "t = set()\n",
    "for e in raw_data:\n",
    "    t.add(len(e))\n",
    "print(t)\n",
    "np_data = np.array(raw_data[2:])\n",
    "np_data = np_data[:, 2:].astype(np.int64)"
   ]
  }
 ],
 "metadata": {
  "kernelspec": {
   "display_name": "Python 3 (ipykernel)",
   "language": "python",
   "name": "python3"
  },
  "language_info": {
   "codemirror_mode": {
    "name": "ipython",
    "version": 3
   },
   "file_extension": ".py",
   "mimetype": "text/x-python",
   "name": "python",
   "nbconvert_exporter": "python",
   "pygments_lexer": "ipython3",
   "version": "3.10.9"
  }
 },
 "nbformat": 4,
 "nbformat_minor": 5
}
