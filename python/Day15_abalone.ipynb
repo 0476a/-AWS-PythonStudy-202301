{
 "cells": [
  {
   "cell_type": "markdown",
   "id": "1cdbd1d2",
   "metadata": {},
   "source": [
    "#### UCI 전복\n",
    "https://archive.ics.uci.edu/ml/machine-learning-databases/abalone/abalone.data\n",
    "\n",
    "1. [함수] requests 패키지를 이용해 데이터 가져와서 ndarray로 변환.\n",
    "\n",
    "2. [함수] 성별이 'M'인 데이터를 필터, Length 와 Diameter 간 상관도를 반환\n",
    "\n",
    "3. __name__ 값이 __main__이면, 1,2 함수를 실행, 2번함수의 반환값을 프린트."
   ]
  },
  {
   "cell_type": "code",
   "execution_count": 30,
   "id": "c88b7d51",
   "metadata": {},
   "outputs": [],
   "source": [
    "import requests\n",
    "import numpy as np\n",
    "import matplotlib.pyplot as plt\n",
    "from scipy import stats\n",
    "\n",
    "np.set_printoptions(precision=5, suppress=True)\n"
   ]
  },
  {
   "cell_type": "code",
   "execution_count": 31,
   "id": "b59da820",
   "metadata": {},
   "outputs": [],
   "source": [
    "def read_data():\n",
    "    raw_data=[]\n",
    "    x = requests.get('https://archive.ics.uci.edu/ml/machine-learning-databases/abalone/abalone.data')\n",
    "    for line in x.text.split('\\n'):\n",
    "        raw_data.append(line.split(','))\n",
    "\n",
    "    raw_data = raw_data[:-1]\n",
    "    np_data = np.array(raw_data)\n",
    "    return np_data\n",
    "\n",
    "def get_corr(np_data):\n",
    "    filter1 = np_data[:, 0] == 'M'\n",
    "    length_list = np_data[filter1][:, 1].astype(np.float64)\n",
    "    diameter_list = np_data[filter1][:, 2].astype(np.float64)\n",
    "\n",
    "    return np.corrcoef(length_list, diameter_list)"
   ]
  },
  {
   "cell_type": "code",
   "execution_count": 32,
   "id": "6bb928bc",
   "metadata": {},
   "outputs": [
    {
     "name": "stdout",
     "output_type": "stream",
     "text": [
      "[[1.      0.98191]\n",
      " [0.98191 1.     ]]\n"
     ]
    }
   ],
   "source": [
    "d = read_data()\n",
    "out = get_corr(d)\n",
    "print(out)"
   ]
  }
 ],
 "metadata": {
  "kernelspec": {
   "display_name": "Python 3 (ipykernel)",
   "language": "python",
   "name": "python3"
  },
  "language_info": {
   "codemirror_mode": {
    "name": "ipython",
    "version": 3
   },
   "file_extension": ".py",
   "mimetype": "text/x-python",
   "name": "python",
   "nbconvert_exporter": "python",
   "pygments_lexer": "ipython3",
   "version": "3.10.9"
  }
 },
 "nbformat": 4,
 "nbformat_minor": 5
}
