{
 "cells": [
  {
   "cell_type": "code",
   "execution_count": 187,
   "id": "da11a59e",
   "metadata": {},
   "outputs": [
    {
     "name": "stdout",
     "output_type": "stream",
     "text": [
      "[4, 1, 3, 5, 6, 2]\n"
     ]
    }
   ],
   "source": [
    "import random\n",
    "\n",
    "lista = [1, 2, 3, 4, 5, 6]\n",
    "random.shuffle(lista)\n",
    "print(lista)"
   ]
  },
  {
   "cell_type": "code",
   "execution_count": 188,
   "id": "3ecdb0fe",
   "metadata": {},
   "outputs": [
    {
     "name": "stdout",
     "output_type": "stream",
     "text": [
      "['Clover', 'Diamond', 'Heart', 'Spade']\n",
      "['Ace', '2', '3', '4', '5', '6', '7', '8', '9', '10', 'Jack', 'Queen', 'King']\n"
     ]
    }
   ],
   "source": [
    "suits = ['Clover', 'Diamond', 'Heart', 'Spade']\n",
    "# rank = ['Ace', '2'...'10', 'Jack', 'Queen', 'King']\n",
    "rank = [str(i) for i in range(2, 11)]\n",
    "rank = ['Ace'] + rank + ['Jack', 'Queen', 'King']\n",
    "print(suits)\n",
    "print(rank)"
   ]
  },
  {
   "cell_type": "code",
   "execution_count": 189,
   "id": "0445bb4a",
   "metadata": {},
   "outputs": [],
   "source": [
    "Deck = []        # 'Clover-Ace', 'Clover-2', ....\n",
    "for s in suits:\n",
    "    for r in rank:\n",
    "        Deck.append(s+'-'+r)                \n",
    "\n",
    "score_list = [i + 1 for i in range(10)]\n",
    "score_list = score_list + [10]*3\n",
    "score_list = score_list*4\n",
    "score_dict = dict(zip(Deck, score_list))\n",
    "# print(score_dict)\n",
    "# print(Deck)\n",
    "# print(score_list)\n",
    "\n",
    "def score_hand(hand):\n",
    "    score = 0\n",
    "    for card in hand:\n",
    "        score = score + score_dict[card]\n",
    "    return score"
   ]
  },
  {
   "cell_type": "code",
   "execution_count": 190,
   "id": "36c754c9",
   "metadata": {},
   "outputs": [
    {
     "name": "stdout",
     "output_type": "stream",
     "text": [
      "['Heart-8', 'Clover-6', 'Clover-9', 'Spade-9', 'Heart-2', 'Diamond-10', 'Heart-3', 'Spade-10', 'Spade-6', 'Diamond-6', 'Diamond-3', 'Spade-7', 'Diamond-9', 'Heart-9', 'Clover-King', 'Diamond-Jack', 'Spade-3', 'Heart-5', 'Heart-Jack', 'Spade-8', 'Clover-5', 'Diamond-King', 'Heart-Queen', 'Heart-4', 'Clover-Queen', 'Heart-King', 'Spade-4', 'Spade-Queen', 'Diamond-Ace', 'Spade-2', 'Diamond-8', 'Diamond-Queen', 'Clover-Ace', 'Diamond-4', 'Clover-3', 'Diamond-7', 'Diamond-5', 'Clover-8', 'Spade-Ace', 'Clover-Jack', 'Spade-5', 'Heart-10', 'Clover-7', 'Heart-7', 'Heart-Ace', 'Diamond-2', 'Heart-6', 'Spade-King', 'Clover-10', 'Clover-4', 'Clover-2', 'Spade-Jack']\n"
     ]
    }
   ],
   "source": [
    "random.shuffle(Deck)\n",
    "print(Deck)"
   ]
  },
  {
   "cell_type": "code",
   "execution_count": 192,
   "id": "71ad73f9",
   "metadata": {},
   "outputs": [
    {
     "name": "stdout",
     "output_type": "stream",
     "text": [
      "Game Start\n",
      "\n",
      "Dealer Hands\n",
      "['Diamond-Queen', 'Clover-Ace'] 11\n",
      "\n",
      "Player Hands\n",
      "['Heart-Queen', 'Spade-Jack'] 20\n",
      "Deal(1) or Stop(0):1\n",
      "['Heart-Queen', 'Spade-Jack', 'Diamond-10'] 30\n",
      "플레이어 승!\n"
     ]
    }
   ],
   "source": [
    "print('Game Start\\n')\n",
    "random.shuffle(Deck)\n",
    "print('Dealer Hands')\n",
    "dealer_hand = [Deck.pop() for _ in range(2)]\n",
    "print(dealer_hand, score_hand(dealer_hand))\n",
    "    \n",
    "print('\\nPlayer Hands')\n",
    "player_hand = [Deck.pop() for _ in range(2)]\n",
    "print(player_hand, score_hand(player_hand))\n",
    "\n",
    "if score_hand(player_hand) < 21:\n",
    "    ans = int(input('Deal(1) or Stop(0):'))\n",
    "    if ans == 1:\n",
    "        player_hand.append(Deck.pop())\n",
    "        print(player_hand, score_hand(player_hand))\n",
    "        \n",
    "# 승부 표시\n",
    "# if score_hand(dealer_hand) > 21 or score_hand(player_hand) > score_hand(dealer_hand) :\n",
    "#     print('플레이어 승!')\n",
    "# elif score_hand(player_hand) > 21 or score_hand(player_hand) < score_hand(dealer_hand) :\n",
    "#     print('딜러 승!')\n",
    "# else :\n",
    "#     print('무승부')"
   ]
  }
 ],
 "metadata": {
  "kernelspec": {
   "display_name": "Python 3 (ipykernel)",
   "language": "python",
   "name": "python3"
  },
  "language_info": {
   "codemirror_mode": {
    "name": "ipython",
    "version": 3
   },
   "file_extension": ".py",
   "mimetype": "text/x-python",
   "name": "python",
   "nbconvert_exporter": "python",
   "pygments_lexer": "ipython3",
   "version": "3.10.9"
  }
 },
 "nbformat": 4,
 "nbformat_minor": 5
}
