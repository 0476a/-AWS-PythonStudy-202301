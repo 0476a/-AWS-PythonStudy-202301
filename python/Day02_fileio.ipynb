{
 "cells": [
  {
   "cell_type": "code",
   "execution_count": 75,
   "id": "ebf83dac",
   "metadata": {},
   "outputs": [],
   "source": [
    "data_list = []\n",
    "with open('부산광역시_노인복지관 현황_20230101.csv', encoding = 'cp949') as f:\n",
    "    for line in f:\n",
    "        data_list.append(line.split(','))\n",
    "data_list = data_list[1:]"
   ]
  },
  {
   "cell_type": "code",
   "execution_count": 6,
   "id": "95bc1ac3",
   "metadata": {},
   "outputs": [
    {
     "ename": "NameError",
     "evalue": "name 'data_list' is not defined",
     "output_type": "error",
     "traceback": [
      "\u001b[1;31m---------------------------------------------------------------------------\u001b[0m",
      "\u001b[1;31mNameError\u001b[0m                                 Traceback (most recent call last)",
      "Cell \u001b[1;32mIn[6], line 3\u001b[0m\n\u001b[0;32m      1\u001b[0m \u001b[38;5;66;03m# 주소만 출력\u001b[39;00m\n\u001b[0;32m      2\u001b[0m gu_list \u001b[38;5;241m=\u001b[39m []\n\u001b[1;32m----> 3\u001b[0m \u001b[38;5;28;01mfor\u001b[39;00m i \u001b[38;5;129;01min\u001b[39;00m \u001b[43mdata_list\u001b[49m:\n\u001b[0;32m      4\u001b[0m     address \u001b[38;5;241m=\u001b[39m i[\u001b[38;5;241m2\u001b[39m]\n\u001b[0;32m      5\u001b[0m     \u001b[38;5;28mprint\u001b[39m(address)\n",
      "\u001b[1;31mNameError\u001b[0m: name 'data_list' is not defined"
     ]
    }
   ],
   "source": [
    "# 주소만 출력\n",
    "gu_list = []\n",
    "for i in data_list:\n",
    "    address = i[2]\n",
    "    address_list = address.split()\n",
    "    gu_list.append(address_list[1])\n",
    "print(gu_list)\n",
    "print(gu_list.index('다대로'))\n",
    "gu_list[21] = '사하구'\n",
    "print(gu_list)"
   ]
  },
  {
   "cell_type": "code",
   "execution_count": 61,
   "id": "9d04780b",
   "metadata": {},
   "outputs": [
    {
     "name": "stdout",
     "output_type": "stream",
     "text": [
      "['수영구', '서구', '동구', '동래구', '사하구', '사상구', '남구', '금정구', '해운대구', '기장군', '영도구', '연제구', '중구', '북구', '강서구', '부산진구']\n",
      "[2, 2, 3, 1, 3, 2, 2, 1, 3, 3, 2, 2, 2, 1, 3, 3]\n"
     ]
    }
   ],
   "source": [
    "gu_set = set(gu_list)\n",
    "d_gu_list = []\n",
    "d_gu_count = []\n",
    "for i in gu_set:\n",
    "    #print(i, gu_list.count(i))\n",
    "    d_gu_list.append(i)\n",
    "    d_gu_count.append(gu_list.count(i))\n",
    "print(d_gu_list)\n",
    "print(d_gu_count)"
   ]
  },
  {
   "cell_type": "code",
   "execution_count": 62,
   "id": "7c730a60",
   "metadata": {},
   "outputs": [
    {
     "name": "stdout",
     "output_type": "stream",
     "text": [
      "{'수영구': 2, '서구': 2, '동구': 3, '동래구': 1, '사하구': 3, '사상구': 2, '남구': 2, '금정구': 1, '해운대구': 3, '기장군': 3, '영도구': 2, '연제구': 2, '중구': 2, '북구': 1, '강서구': 3, '부산진구': 3}\n"
     ]
    }
   ],
   "source": [
    "d1 = dict(zip(d_gu_list, d_gu_count))\n",
    "print(d1)"
   ]
  },
  {
   "cell_type": "code",
   "execution_count": 67,
   "id": "55b9aeaa",
   "metadata": {},
   "outputs": [
    {
     "name": "stdout",
     "output_type": "stream",
     "text": [
      "value 5\n"
     ]
    },
    {
     "data": {
      "text/plain": [
       "<function __main__.<lambda>(n)>"
      ]
     },
     "execution_count": 67,
     "metadata": {},
     "output_type": "execute_result"
    }
   ],
   "source": [
    "def fn1(n):\n",
    "    print('value {}'.format(n))\n",
    "\n",
    "fn1(5)\n",
    "\n",
    "lambda n: print('value{}.format(n)')"
   ]
  },
  {
   "cell_type": "code",
   "execution_count": 74,
   "id": "dc920d3f",
   "metadata": {},
   "outputs": [
    {
     "name": "stdout",
     "output_type": "stream",
     "text": [
      "{'동래구': 1, '금정구': 1, '북구': 1, '수영구': 2, '서구': 2, '사상구': 2, '남구': 2, '영도구': 2, '연제구': 2, '중구': 2, '동구': 3, '사하구': 3, '해운대구': 3, '기장군': 3, '강서구': 3, '부산진구': 3}\n"
     ]
    }
   ],
   "source": [
    "#print(d1.items())\n",
    "def fn10(x):\n",
    "    return x[1]\n",
    "# d1_sorted = dict(sorted(d1.items(), key = lambda x: x[1], reverse = True))\n",
    "d1_sorted = dict(sorted(d1.items(), key = fn10))\n",
    "print(d1_sorted)"
   ]
  },
  {
   "cell_type": "code",
   "execution_count": null,
   "id": "4c570161",
   "metadata": {},
   "outputs": [],
   "source": []
  }
 ],
 "metadata": {
  "kernelspec": {
   "display_name": "Python 3 (ipykernel)",
   "language": "python",
   "name": "python3"
  },
  "language_info": {
   "codemirror_mode": {
    "name": "ipython",
    "version": 3
   },
   "file_extension": ".py",
   "mimetype": "text/x-python",
   "name": "python",
   "nbconvert_exporter": "python",
   "pygments_lexer": "ipython3",
   "version": "3.10.9"
  }
 },
 "nbformat": 4,
 "nbformat_minor": 5
}
