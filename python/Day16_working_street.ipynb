{
 "cells": [
  {
   "cell_type": "markdown",
   "id": "efb4c912",
   "metadata": {},
   "source": [
    "### 전국횡단보도표준데이터\n",
    "* 녹색 신호가 가장 긴 값의 주소 출력\n",
    "* 시별 횡단보도 갯수 구하기\n",
    "* 녹색 신호시간 평균 및 적색 신호 시간 평균\n",
    "### 내가한거"
   ]
  },
  {
   "cell_type": "markdown",
   "id": "e059be4f",
   "metadata": {},
   "source": [
    "### 전국횡단보도표준데이터\n",
    "1. 횡단보도 연장, 녹색신호시간 : 상관도\n",
    "2. 자전거 횡단도 겸용 비율(전체 대비) \n",
    "3. 차로수별 자전거 횡단도 카운트/비율\n",
    "4. 차로수별 보행자 신호등 유무 카운트/비율\n",
    "5. 차로수별 음향신호기설치 유무 카운트/비율\n",
    "\n",
    "### 화면 출력\n",
    "1. 상관도 수치\n",
    "2. 비율 수치\n",
    "3. 카운트, 비율\n",
    "4. 카운트, 비율\n",
    "5. 카운트, 비율"
   ]
  },
  {
   "cell_type": "code",
   "execution_count": 1,
   "id": "f5045455",
   "metadata": {},
   "outputs": [],
   "source": [
    "import requests\n",
    "import numpy as np\n",
    "import matplotlib.pyplot as plt\n",
    "from scipy import stats\n",
    "\n",
    "np.set_printoptions(precision=5, suppress=True)"
   ]
  },
  {
   "cell_type": "code",
   "execution_count": 11,
   "id": "72539a23",
   "metadata": {},
   "outputs": [],
   "source": [
    "def my_split(s):\n",
    "    block_start = False\n",
    "    start_index = 0\n",
    "    ret_list=[]\n",
    "    for i, c in enumerate(s):\n",
    "        if block_start==False:\n",
    "            if c==',':\n",
    "                ret_list.append(s[start_index:i])\n",
    "                start_index=i+1\n",
    "            elif c=='\"':\n",
    "                block_start=True\n",
    "                start_index = i\n",
    "        else:\n",
    "            if c=='\"':\n",
    "                block_start=False\n",
    "    if s[-1]!=',':\n",
    "        ret_list.append(s[start_index:])\n",
    "    return ret_list\n",
    "\n",
    "def split_len(data_list):\n",
    "    len_list = []\n",
    "    for e in data_list:\n",
    "        len_list.append(len(e))\n",
    "    print(set(len_list))\n",
    "    if len (set(len_list)) > 1:\n",
    "        for i in set(len_list):\n",
    "            print(i, len_list.count(i))"
   ]
  },
  {
   "cell_type": "code",
   "execution_count": 16,
   "id": "56d0e908",
   "metadata": {},
   "outputs": [
    {
     "name": "stdout",
     "output_type": "stream",
     "text": [
      "{28}\n",
      "[['경기도' '남양주시' '강변북로' ... '2023-01-31' '3990000' '경기도 남양주시\\n']\n",
      " ['경기도' '남양주시' '강변북로' ... '2023-01-31' '3990000' '경기도 남양주시\\n']\n",
      " ['경기도' '남양주시' '강변북로' ... '2023-01-31' '3990000' '경기도 남양주시\\n']\n",
      " ...\n",
      " ['대전광역시' '대덕구' '대화로' ... '2023-01-05' '6300000' '대전광역시\\n']\n",
      " ['대전광역시' '대덕구' '대화로' ... '2023-01-05' '6300000' '대전광역시\\n']\n",
      " ['대전광역시' '서구' '둔산북로' ... '2023-01-05' '6300000' '대전광역시\\n']]\n"
     ]
    }
   ],
   "source": [
    "# 데이터 정재\n",
    "raw_data = []\n",
    "with open('전국횡단보도표준데이터.csv') as f:\n",
    "    for line in f:\n",
    "        raw_data.append(my_split(line))\n",
    "split_len(raw_data)\n",
    "np_data = np.array(raw_data[1:])\n",
    "print(np_data)"
   ]
  },
  {
   "cell_type": "code",
   "execution_count": 17,
   "id": "3eaadf94",
   "metadata": {},
   "outputs": [
    {
     "name": "stdout",
     "output_type": "stream",
     "text": [
      "(0, '시도명')\n",
      "(1, '시군구명')\n",
      "(2, '도로명')\n",
      "(3, '소재지도로명주소')\n",
      "(4, '소재지지번주소')\n",
      "(5, '횡단보도관리번호')\n",
      "(6, '횡단보도종류')\n",
      "(7, '자전거횡단도겸용여부')\n",
      "(8, '고원식적용여부')\n",
      "(9, '위도')\n",
      "(10, '경도')\n",
      "(11, '차로수')\n",
      "(12, '횡단보도폭')\n",
      "(13, '횡단보도연장')\n",
      "(14, '보행자신호등유무')\n",
      "(15, '보행자작동신호기유무')\n",
      "(16, '음향신호기설치여부')\n",
      "(17, '녹색신호시간')\n",
      "(18, '적색신호시간')\n",
      "(19, '교통섬유무')\n",
      "(20, '보도턱낮춤여부')\n",
      "(21, '점자블록유무')\n",
      "(22, '집중조명시설유무')\n",
      "(23, '관리기관명')\n",
      "(24, '관리기관전화번호')\n",
      "(25, '데이터기준일자')\n",
      "(26, '제공기관코드')\n",
      "(27, '제공기관명\\n')\n"
     ]
    }
   ],
   "source": [
    "for i in enumerate(raw_data[0]):\n",
    "    print(i)"
   ]
  },
  {
   "cell_type": "code",
   "execution_count": 68,
   "id": "26ff51e7",
   "metadata": {},
   "outputs": [
    {
     "name": "stdout",
     "output_type": "stream",
     "text": [
      "0.15847542321039498\n"
     ]
    }
   ],
   "source": [
    "# 횡단보도 연장, 녹색신호시간 : 상관도\n",
    "extend_list = np_data[:, 13].astype(np.float64)\n",
    "green_list = np_data[:, 17]\n",
    "green_list = np.where(green_list == '',0.0 , green_list)\n",
    "green_list = green_list.astype(np.float64)\n",
    "\n",
    "corr_value = np.corrcoef(extend_list, green_list)\n",
    "print(corr_value[0, 1])\n"
   ]
  },
  {
   "cell_type": "code",
   "execution_count": 75,
   "id": "406f015b",
   "metadata": {},
   "outputs": [
    {
     "name": "stdout",
     "output_type": "stream",
     "text": [
      "9.228\n"
     ]
    }
   ],
   "source": [
    "# 자전거 횡단도 겸용 비율(전체 대비)\n",
    "filter1 = np_data[: , 7] == 'Y'\n",
    "bike_list = np_data[filter1]\n",
    "bike_persent = len(bike_list)*100 / len(np_data)\n",
    "print(bike_persent)"
   ]
  },
  {
   "cell_type": "code",
   "execution_count": 83,
   "id": "9b1ebec3",
   "metadata": {},
   "outputs": [
    {
     "name": "stdout",
     "output_type": "stream",
     "text": [
      "['1' '10' '11' '12' '13' '2' '3' '4' '5' '6' '7' '8' '9']\n",
      "[ 423   39   12    7    3  859  489 1002  525  593  371  166  125]\n",
      "[ 9.16775  0.84525  0.26008  0.15171  0.06502 18.61725 10.59818 21.71651\n",
      " 11.37841 12.85219  8.04075  3.59775  2.70915]\n"
     ]
    }
   ],
   "source": [
    "# 차로수별 자전거 횡단도 카운트/비율\n",
    "persent = []\n",
    "yes_bike_road_count = bike_list[:, 11]\n",
    "road, count = np.unique(yes_bike_road_count, return_counts=True)\n",
    "print(road)\n",
    "print(count)\n",
    "for i in count:\n",
    "    persent.append(i * 100 / sum(count))\n",
    "persent = np.array(persent)\n",
    "print(persent)"
   ]
  },
  {
   "cell_type": "code",
   "execution_count": 108,
   "id": "55b5e799",
   "metadata": {},
   "outputs": [
    {
     "name": "stdout",
     "output_type": "stream",
     "text": [
      "[['3' 'Y']\n",
      " ['9' 'Y']\n",
      " ['9' 'Y']\n",
      " ...\n",
      " ['4' 'Y']\n",
      " ['3' 'Y']\n",
      " ['3' 'Y']]\n",
      "3\n",
      "9\n",
      "1\n",
      "4\n",
      "8\n",
      "2\n",
      "11\n",
      "10\n",
      "5\n",
      "6\n",
      "7\n",
      "0\n"
     ]
    }
   ],
   "source": [
    "# 차로수별 보행자 신호등 유무 카운트/비율\n",
    "sub_data = np_data[:, [11, 15]]\n",
    "filter1 = sub_data[:,1] != ' '\n",
    "sub_data = sub_data[filter1]\n",
    "print(sub_data)\n",
    "\n",
    "pass1 = dict()\n",
    "for cnt, ymd in sub_data:\n",
    "#     print(cnt, ymd)\n",
    "    if cnt in pass1.keys():\n",
    "        pass1[cnt].append(ymd)\n",
    "    else:\n",
    "        pass1[cnt] = [ymd]\n",
    "# print(pass1)\n",
    "\n",
    "pass2 = []\n",
    "for cnt in pass1:\n",
    "    val, count = np.unique(pass1[cnt], return_counts=True)\n",
    "    y, ratio = 0, 0\n",
    "    if 'Y' in \n"
   ]
  }
 ],
 "metadata": {
  "kernelspec": {
   "display_name": "Python 3 (ipykernel)",
   "language": "python",
   "name": "python3"
  },
  "language_info": {
   "codemirror_mode": {
    "name": "ipython",
    "version": 3
   },
   "file_extension": ".py",
   "mimetype": "text/x-python",
   "name": "python",
   "nbconvert_exporter": "python",
   "pygments_lexer": "ipython3",
   "version": "3.10.9"
  }
 },
 "nbformat": 4,
 "nbformat_minor": 5
}
