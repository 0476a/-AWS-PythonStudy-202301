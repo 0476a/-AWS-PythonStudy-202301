{
 "cells": [
  {
   "cell_type": "markdown",
   "id": "d3424026",
   "metadata": {},
   "source": [
    "* pd_iris 로부터, petal_length의 평균치를 구하고자 한다.\n",
    "- 결측치, 오류치, 이상치를 어떻게 처리할지 결정하고, (삭제, 다른 적절한 값으로 대체) 결정의 간단한 이유를 제시하시오.\n",
    "\n",
    "- 결측치, 오류치, 이상치를 처리 하시오.\n",
    "\n",
    "- petal_length의 평균치를 구하시오."
   ]
  },
  {
   "cell_type": "code",
   "execution_count": 1,
   "id": "b707b67b",
   "metadata": {},
   "outputs": [],
   "source": [
    "import numpy as np\n",
    "import pandas as pd\n",
    "import random\n",
    "\n",
    "random.seed(123)\n",
    "pd_iris = pd.read_csv('https://archive.ics.uci.edu/ml/machine-learning-databases/iris/iris.data')\n",
    "pd_iris.columns = ['petal_length', 'petal_width', 'sepal_length', 'sepal_width', 'class']\n",
    "rand_axis0 = [random.randint(0,150) for _ in range(5)]\n",
    "rand_axis1 = [random.randint(0, 4) for _ in range(5)]\n",
    "pd_iris.iloc[rand_axis0, rand_axis1] = np.NaN\n",
    "\n",
    "rand_axis0 = [random.randint(0,150) for _ in range(5)]\n",
    "rand_axis1 = [random.randint(0, 4) for _ in range(5)]\n",
    "pd_iris.iloc[rand_axis0, rand_axis1] = 123.4 + random.randint(0,4)/10\n",
    "\n",
    "df1 = pd.DataFrame(np.arange(100, 120).reshape(4,5), dtype='str')\n"
   ]
  },
  {
   "cell_type": "code",
   "execution_count": null,
   "id": "8bfc57fa",
   "metadata": {},
   "outputs": [],
   "source": []
  },
  {
   "cell_type": "code",
   "execution_count": 2,
   "id": "944e8282",
   "metadata": {},
   "outputs": [
    {
     "data": {
      "text/plain": [
       "array([4.9, 4.7, 4.6, 5. , 5.4, 4.4, 4.8, 4.3, nan, 5.7, 5.1, 5.2, 5.5,\n",
       "       4.5, 5.3, 7. , 6.4, 6.9, 6.5, 6.3, 6.6, 5.9, 6. , 6.1, 5.6, 6.7,\n",
       "       5.8, 6.2, 6.8, 7.1, 7.3, 7.2, 7.7, 7.4, 7.9])"
      ]
     },
     "execution_count": 2,
     "metadata": {},
     "output_type": "execute_result"
    }
   ],
   "source": [
    "# 결측치가 존재한다.\n",
    "pd_iris['petal_length'].unique()"
   ]
  },
  {
   "cell_type": "code",
   "execution_count": 3,
   "id": "48e7f46a",
   "metadata": {},
   "outputs": [],
   "source": [
    "# petal_length의 경우 0.0으로 대체할 시에 평균값에서 이상치가 될수 있으므로 삭제시켜주도록 하겠다."
   ]
  },
  {
   "cell_type": "code",
   "execution_count": 4,
   "id": "302df01f",
   "metadata": {},
   "outputs": [],
   "source": [
    "# 결측치를 삭제 해준다.\n",
    "pd_iris = pd_iris.dropna()"
   ]
  },
  {
   "cell_type": "code",
   "execution_count": 5,
   "id": "b9c4eb99",
   "metadata": {},
   "outputs": [
    {
     "data": {
      "text/plain": [
       "array([4.9, 4.7, 4.6, 5. , 5.4, 4.4, 4.8, 4.3, 5.7, 5.1, 5.2, 5.5, 4.5,\n",
       "       5.3, 7. , 6.4, 6.9, 6.5, 6.3, 6.6, 5.9, 6. , 6.1, 5.6, 6.7, 5.8,\n",
       "       6.2, 6.8, 7.1, 7.3, 7.2, 7.7, 7.4, 7.9])"
      ]
     },
     "execution_count": 5,
     "metadata": {},
     "output_type": "execute_result"
    }
   ],
   "source": [
    "# 결측치가 삭제 된 것을 확인된 것을 확인할 수 있다.\n",
    "pd_iris['petal_length'].unique()"
   ]
  },
  {
   "cell_type": "code",
   "execution_count": 6,
   "id": "6ad5859a",
   "metadata": {},
   "outputs": [],
   "source": [
    "# 이상치: np.NaN 값으로 대체 후, dropna()사용해 제거\n",
    "q1, q3 = pd_iris['petal_length'].quantile([.25, .75])\n",
    "iqr = q3 - q1\n",
    "upper = q3 + 1.5*iqr\n",
    "lower = q1 - 1.5*iqr\n",
    "filter1 = pd_iris['petal_length']>upper\n",
    "filter2 = pd_iris['petal_length']<lower\n",
    "pd_iris.loc[filter1, 'petal_length']=np.NaN\n",
    "pd_iris.loc[filter2, 'petal_length']=np.NaN"
   ]
  },
  {
   "cell_type": "code",
   "execution_count": 7,
   "id": "ab20bbc3",
   "metadata": {},
   "outputs": [
    {
     "data": {
      "text/plain": [
       "array([4.9, 4.7, 4.6, 5. , 5.4, 4.4, 4.8, 4.3, 5.7, 5.1, 5.2, 5.5, 4.5,\n",
       "       5.3, 7. , 6.4, 6.9, 6.5, 6.3, 6.6, 5.9, 6. , 6.1, 5.6, 6.7, 5.8,\n",
       "       6.2, 6.8, 7.1, 7.3, 7.2, 7.7, 7.4, 7.9])"
      ]
     },
     "execution_count": 7,
     "metadata": {},
     "output_type": "execute_result"
    }
   ],
   "source": [
    "# 확인 후 NaN으로 바뀐 것이 없으므로 이상치는 없다.\n",
    "pd_iris['petal_length'].unique()"
   ]
  },
  {
   "cell_type": "code",
   "execution_count": 8,
   "id": "c393e7d3",
   "metadata": {},
   "outputs": [],
   "source": [
    "# 오류치는 없다."
   ]
  },
  {
   "cell_type": "code",
   "execution_count": 9,
   "id": "361f3008",
   "metadata": {},
   "outputs": [
    {
     "name": "stdout",
     "output_type": "stream",
     "text": [
      "petal_length 평균:  5.843448275862069\n"
     ]
    }
   ],
   "source": [
    "print('petal_length 평균: ', pd_iris['petal_length'].mean())"
   ]
  },
  {
   "cell_type": "code",
   "execution_count": 11,
   "id": "d2533733",
   "metadata": {},
   "outputs": [
    {
     "name": "stdout",
     "output_type": "stream",
     "text": [
      "petal_length 평균:  5.843448275862069\n"
     ]
    }
   ],
   "source": [
    "import numpy as np\n",
    "\n",
    "import pandas as pd\n",
    "\n",
    "import random\n",
    "\n",
    "random.seed(123)\n",
    "\n",
    "pd_iris = pd.read_csv('https://archive.ics.uci.edu/ml/machine-learning-databases/iris/iris.data')\n",
    "\n",
    "pd_iris.columns = ['petal_length', 'petal_width', 'sepal_length', 'sepal_width', 'class']\n",
    "\n",
    "rand_axis0 = [random.randint(0,150) for _ in range(5)]\n",
    "\n",
    "rand_axis1 = [random.randint(0, 4) for _ in range(5)]\n",
    "\n",
    "pd_iris.iloc[rand_axis0, rand_axis1] = np.NaN\n",
    "\n",
    "\n",
    "\n",
    "rand_axis0 = [random.randint(0,150) for _ in range(5)]\n",
    "\n",
    "rand_axis1 = [random.randint(0, 4) for _ in range(5)]\n",
    "\n",
    "pd_iris.iloc[rand_axis0, rand_axis1] = 123.4 + random.randint(0,4)/10\n",
    "\n",
    "\n",
    "\n",
    "df1 = pd.DataFrame(np.arange(100, 120).reshape(4,5), dtype='str')\n",
    "\n",
    "\n",
    "\n",
    "# 결측치가 존재한다.\n",
    "\n",
    "pd_iris['petal_length'].unique()\n",
    "\n",
    "# petal_length의 경우 0.0으로 대체할 시에 평균값에서 이상치가 될수 있으므로 삭제시켜주도록 하겠다.\n",
    "\n",
    "# 결측치를 삭제 해준다.\n",
    "\n",
    "pd_iris = pd_iris.dropna()\n",
    "\n",
    "# 결측치가 삭제 된 것을 확인된 것을 확인할 수 있다.\n",
    "\n",
    "pd_iris['petal_length'].unique()\n",
    "\n",
    "\n",
    "\n",
    "# 이상치: np.NaN 값으로 대체 후, dropna()사용해 제거\n",
    "\n",
    "q1, q3 = pd_iris['petal_length'].quantile([.25, .75])\n",
    "\n",
    "iqr = q3 - q1\n",
    "\n",
    "upper = q3 + 1.5*iqr\n",
    "\n",
    "lower = q1 - 1.5*iqr\n",
    "\n",
    "filter1 = pd_iris['petal_length']>upper\n",
    "\n",
    "filter2 = pd_iris['petal_length']<lower\n",
    "\n",
    "pd_iris.loc[filter1, 'petal_length']=np.NaN\n",
    "\n",
    "pd_iris.loc[filter2, 'petal_length']=np.NaN\n",
    "\n",
    "# 확인 후 NaN으로 바뀐 것이 없으므로 이상치는 없다.\n",
    "\n",
    "pd_iris['petal_length'].unique()\n",
    "\n",
    "\n",
    "\n",
    "# 오류치는 없다.\n",
    "\n",
    "\n",
    "\n",
    "print('petal_length 평균: ', pd_iris['petal_length'].mean())"
   ]
  },
  {
   "cell_type": "code",
   "execution_count": null,
   "id": "ea1ef881",
   "metadata": {},
   "outputs": [],
   "source": []
  }
 ],
 "metadata": {
  "kernelspec": {
   "display_name": "Python 3 (ipykernel)",
   "language": "python",
   "name": "python3"
  },
  "language_info": {
   "codemirror_mode": {
    "name": "ipython",
    "version": 3
   },
   "file_extension": ".py",
   "mimetype": "text/x-python",
   "name": "python",
   "nbconvert_exporter": "python",
   "pygments_lexer": "ipython3",
   "version": "3.10.9"
  }
 },
 "nbformat": 4,
 "nbformat_minor": 5
}
