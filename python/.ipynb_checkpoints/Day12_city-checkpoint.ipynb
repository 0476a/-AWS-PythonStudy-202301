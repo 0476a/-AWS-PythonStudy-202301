{
 "cells": [
  {
   "cell_type": "markdown",
   "id": "3194d4b9",
   "metadata": {},
   "source": [
    "### 전국공인중개사사무소표준데이터\n",
    "* 공인중개사 / 개업공인중개사 비율\n",
    "* 공제미가입 중개사 count, 전체 대비 비율\n",
    "* 00공인중개.. 중 흔한 상호명\n",
    "* 00공인중개... 가 아닌것은 따로 저장"
   ]
  },
  {
   "cell_type": "code",
   "execution_count": 8,
   "id": "677cb5b4",
   "metadata": {},
   "outputs": [],
   "source": [
    "import numpy as np\n",
    "\n",
    "def my_split(s):\n",
    "    block_start = False\n",
    "    start_index = 0\n",
    "    ret_list=[]\n",
    "    for i, c in enumerate(s):\n",
    "        if block_start==False:\n",
    "            if c==',':\n",
    "                ret_list.append(s[start_index:i])\n",
    "                start_index=i+1\n",
    "            elif c=='\"':\n",
    "                block_start=True\n",
    "                start_index = i\n",
    "        else:\n",
    "            if c=='\"':\n",
    "                block_start=False\n",
    "    if s[-1]!=',':\n",
    "        ret_list.append(s[start_index:])\n",
    "    return ret_list\n",
    "\n",
    "def split_len(data_list):\n",
    "    len_list = []\n",
    "    for e in data_list:\n",
    "        len_list.append(len(e))\n",
    "    print(set(len_list))\n",
    "    if len (set(len_list)) > 1:\n",
    "        for i in set(len_list):\n",
    "            print(i, len_list.count(i))"
   ]
  },
  {
   "cell_type": "code",
   "execution_count": 11,
   "id": "f47d0310",
   "metadata": {},
   "outputs": [
    {
     "name": "stdout",
     "output_type": "stream",
     "text": [
      "[['중개사무소명', '개설등록번호', '개업공인중개사종별구분', '소재지도로명주소', '소재지지번주소', '전화번호', '개설등록일자', '공제가입유무', '대표자명', '위도', '경도', '중개보조원수', '소속공인중개사수', '홈페이지주소', '데이터기준일자', '제공기관코드', '제공기관명\\n'], ['제일공인중개사사무소', '26710-2015-00005', '공인중개사', '부산광역시 기장군 정관읍 구연로 26', '', '', '2015-01-07', 'Y', '송미경', '', '', '', '', '', '2022-11-25', '3400000', '부산광역시 기장군\\n'], ['늘채움부동산공인중개사사무소', '26710-2015-00013', '공인중개사', '\"부산광역시 기장군 기장읍 차성남로 91, 1층 일부\"', '', '', '2015-01-21', 'Y', '강경미', '', '', '', '', '', '2022-11-25', '3400000', '부산광역시 기장군\\n'], ['해부동산공인중개사사무소', '26710-2015-00014', '공인중개사', '부산광역시 기장군 기장읍 당사로3길 26', '', '', '2015-01-22', 'Y', '김종태', '', '', '', '', '', '2022-11-25', '3400000', '부산광역시 기장군\\n'], ['동부산오시리아명성부동산공인중개사사무소', '26710-2015-00020', '공인중개사', '\"부산광역시 기장군 기장읍 기장해안로 136, 109호(모닝시티)\"', '', '', '2015-02-05', 'Y', '이연수', '', '', '', '', '', '2022-11-25', '3400000', '부산광역시 기장군\\n'], ['OK부동산공인중개사사무소', '26710-2015-00039', '공인중개사', '부산광역시 기장군 일광면 일광로 48', '', '', '2015-05-11', 'Y', '전병운', '', '', '', '', '', '2022-11-25', '3400000', '부산광역시 기장군\\n'], ['신태양공인중개사사무소', '26710-2015-00040', '공인중개사', '부산광역시 기장군 일광읍 이화로 163', '', '', '2014-11-28', 'Y', '김영호', '', '', '', '', '', '2022-11-25', '3400000', '부산광역시 기장군\\n'], ['롯데황금공인중개사사무소', '26710-2015-00041', '공인중개사', '부산광역시 기장군 정관읍 정관3로 51', '', '', '2015-05-19', 'Y', '임은숙', '', '', '', '', '', '2022-11-25', '3400000', '부산광역시 기장군\\n'], ['삼보공인중개사사무소', '26710-2015-00045', '공인중개사', '\"부산광역시 기장군 정관읍 구연방곡로 89, 101호\"', '', '', '2012-02-16', 'Y', '김성곤', '', '', '', '', '', '2022-11-25', '3400000', '부산광역시 기장군\\n'], ['알뜰부동산공인중개사사무소', '26710-2015-00052', '공인중개사', '부산광역시 기장군 장안읍 장안로 74', '', '', '2015-06-17', 'Y', '주수길', '', '', '', '', '', '2022-11-25', '3400000', '부산광역시 기장군\\n']]\n",
      "{17}\n"
     ]
    }
   ],
   "source": [
    "# 데이터 받고 정재\n",
    "\n",
    "csv_data = []\n",
    "with open('전국공인중개사사무소표준데이터.csv') as f :\n",
    "    for line in f:\n",
    "        csv_data.append(my_split(line))\n",
    "print(csv_data[:10])\n",
    "split_len(csv_data)"
   ]
  },
  {
   "cell_type": "code",
   "execution_count": 31,
   "id": "22824023",
   "metadata": {},
   "outputs": [
    {
     "name": "stdout",
     "output_type": "stream",
     "text": [
      "0 중개사무소명\n",
      "1 개설등록번호\n",
      "2 개업공인중개사종별구분\n",
      "3 소재지도로명주소\n",
      "4 소재지지번주소\n",
      "5 전화번호\n",
      "6 개설등록일자\n",
      "7 공제가입유무\n",
      "8 대표자명\n",
      "9 위도\n",
      "10 경도\n",
      "11 중개보조원수\n",
      "12 소속공인중개사수\n",
      "13 홈페이지주소\n",
      "14 데이터기준일자\n",
      "15 제공기관코드\n",
      "16 제공기관명\n",
      "\n"
     ]
    },
    {
     "data": {
      "text/plain": [
       "29369"
      ]
     },
     "execution_count": 31,
     "metadata": {},
     "output_type": "execute_result"
    }
   ],
   "source": [
    "# 인덱스 확인하기 및 np로 변환\n",
    "\n",
    "for i, e in enumerate(csv_data[0]):\n",
    "    print(i, e)\n",
    "\n",
    "csv_np = np.array(csv_data[1:])\n",
    "# print(csv_np[:10])\n",
    "len(csv_np)"
   ]
  },
  {
   "cell_type": "code",
   "execution_count": 51,
   "id": "777795e2",
   "metadata": {},
   "outputs": [
    {
     "name": "stdout",
     "output_type": "stream",
     "text": [
      "['공인중개사' '공인중개사' '공인중개사' ... '공인중개사' '공인중개사' '공인중개사']\n",
      "23757\n",
      "5085\n",
      "공인중개사 비율: 80.89141611903709\n",
      "개업공인중개사 비율: 17.314174810173995\n"
     ]
    }
   ],
   "source": [
    "# 공인중개사 / 개업공인중개사 비율 구하기\n",
    "\n",
    "def persent(data_list, total_list):\n",
    "    return len(data_list) / len(total_list) * 100\n",
    "\n",
    "\n",
    "jop_list = []\n",
    "gongin_list = []\n",
    "gaeup_list = []\n",
    "\n",
    "jop_list = (csv_np[:, 2])\n",
    "print(jop_list)\n",
    "for i in jop_list:\n",
    "    if i == '공인중개사':\n",
    "        gongin_list.append(i)\n",
    "    elif i == '개업공인중개사':\n",
    "        gaeup_list.append(i)\n",
    "print (len(gongin_list))\n",
    "print (len(gaeup_list))\n",
    "\n",
    "print ('공인중개사 비율:', persent(gongin_list, csv_np))\n",
    "print ('개업공인중개사 비율:', persent(gaeup_list, csv_np))"
   ]
  },
  {
   "cell_type": "code",
   "execution_count": 53,
   "id": "c815b94f",
   "metadata": {},
   "outputs": [
    {
     "name": "stdout",
     "output_type": "stream",
     "text": [
      "공제미가입중개사 갯수: 30\n",
      "공제미가입중개사 비율: 0.10214852395382887\n"
     ]
    }
   ],
   "source": [
    "# 공제미가입 중개사 count, 전체 대비 비율\n",
    "filter_1 = csv_np[:, 7] == 'N'\n",
    "no_list = (csv_np[filter_1])\n",
    "\n",
    "print('공제미가입중개사 갯수:', len(no_list))\n",
    "print('공제미가입중개사 비율:', persent(no_list, csv_np))\n"
   ]
  },
  {
   "cell_type": "code",
   "execution_count": 126,
   "id": "56bb055d",
   "metadata": {},
   "outputs": [
    {
     "name": "stdout",
     "output_type": "stream",
     "text": [
      "공인중개사 중 흔한 상호명 TOP10: ['삼성', '현대', '우리', '하나', '미래', '행운', '태양', '황금', '제일', '에이스']\n",
      "공인중개사 중 안 흔한 상호명 TOP5: ['미사누리', '강서대한', '김강민부동산', '엔피엘경매전문', '바라봄']\n",
      "공인중개사 상호명을 포함하지 않는 리스트: ['미스터홈즈부동산중개광주장지센터', '삼동역힐스테이트부동산중개', '천일부동산중개사무소']\n",
      "2555\n"
     ]
    }
   ],
   "source": [
    "# 00 공인중개사 중 흔한 00 상호명 구하기\n",
    "# 00 공인중개사를 포함하지 않는 상호명 구하기\n",
    "place_list = csv_np[:, 0]\n",
    "place_name = '공인중개사'\n",
    "goinpalce_list = []\n",
    "not_goin_list = []\n",
    "gongin_list = []\n",
    "gongin_count = []\n",
    "total = []\n",
    "\n",
    "for i in place_list:\n",
    "    if '공인중개사' in i:\n",
    "        goinpalce_list.append(i)\n",
    "    else:\n",
    "        not_goin_list.append(i)\n",
    "# 공인중개사가 들어간 상호명\n",
    "# print(goinpalce_list)\n",
    "# 공인중개사가 안들어간 상호명\n",
    "# print(not_goin_list)\n",
    "\n",
    "goinpalce_set = set(goinpalce_list)\n",
    "# print(goinpalce_set)\n",
    "\n",
    "for i in goinpalce_set:\n",
    "    gongin_list.append(i)\n",
    "    gongin_count.append(goinpalce_list.count(i))\n",
    "\n",
    "gongin_dict = dict(zip(gongin_list, gongin_count))\n",
    "# print(gongin_dict)\n",
    "gongin_sorted = dict(sorted(gongin_dict.items(), key= lambda x: x[1], reverse = True))\n",
    "# print(gongin_sorted)\n",
    "total_list = list(gongin_sorted.items())\n",
    "np_total = np.array(total_list)\n",
    "# print(len(np_total))\n",
    "# print(np_total[:10])\n",
    "\n",
    "for i in np_total[:, 0]:\n",
    "    total.append(i.split(\"공인중개사\")[0])\n",
    "\n",
    "# print(total)    \n",
    "    \n",
    "print('공인중개사 중 흔한 상호명 TOP10:', total[:10])\n",
    "print('공인중개사 중 안 흔한 상호명 TOP5:', total[15080 : 15085])\n",
    "print('공인중개사 상호명을 포함하지 않는 리스트:', not_goin_list[:3])\n",
    "print(len(not_goin_list))"
   ]
  }
 ],
 "metadata": {
  "kernelspec": {
   "display_name": "Python 3 (ipykernel)",
   "language": "python",
   "name": "python3"
  },
  "language_info": {
   "codemirror_mode": {
    "name": "ipython",
    "version": 3
   },
   "file_extension": ".py",
   "mimetype": "text/x-python",
   "name": "python",
   "nbconvert_exporter": "python",
   "pygments_lexer": "ipython3",
   "version": "3.10.9"
  }
 },
 "nbformat": 4,
 "nbformat_minor": 5
}
