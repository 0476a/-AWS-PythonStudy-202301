{
 "cells": [
  {
   "cell_type": "markdown",
   "id": "a28842e7",
   "metadata": {},
   "source": [
    "### 전국푸드트럭허가구역표준데이터\n",
    "*전국/지자체별 푸드트럭 허가구역 갯수\n",
    "\n",
    "*전국/지자체별 푸드트럭 운영대수"
   ]
  },
  {
   "cell_type": "code",
   "execution_count": 24,
   "id": "4d5c40cb",
   "metadata": {},
   "outputs": [
    {
     "name": "stdout",
     "output_type": "stream",
     "text": [
      "0      부산광역시\n",
      "1      부산광역시\n",
      "2      부산광역시\n",
      "3        경기도\n",
      "4        경기도\n",
      "       ...  \n",
      "336      경기도\n",
      "337      경기도\n",
      "338      경기도\n",
      "339      경기도\n",
      "340      경기도\n",
      "Name: 시도명, Length: 304, dtype: object\n",
      "0      부산광역시\n",
      "1      부산광역시\n",
      "2      부산광역시\n",
      "3        경기도\n",
      "4        경기도\n",
      "       ...  \n",
      "337      경기도\n",
      "338      경기도\n",
      "339      경기도\n",
      "340      경기도\n",
      "341      경기도\n",
      "Name: 시도명, Length: 342, dtype: object\n"
     ]
    },
    {
     "data": {
      "text/plain": [
       "Counter({'부산광역시': 9,\n",
       "         '경기도': 62,\n",
       "         '전라북도': 7,\n",
       "         '인천광역시': 6,\n",
       "         '경상남도': 46,\n",
       "         '광주광역시': 11,\n",
       "         '강원도': 33,\n",
       "         '대구광역시': 12,\n",
       "         '충청남도': 21,\n",
       "         '충청북도': 41,\n",
       "         '서울특별시': 17,\n",
       "         '대전광역시': 6,\n",
       "         '경상북도': 8,\n",
       "         '전라남도': 13,\n",
       "         '제주특별자치도': 11,\n",
       "         '울산광역시': 1})"
      ]
     },
     "execution_count": 24,
     "metadata": {},
     "output_type": "execute_result"
    }
   ],
   "source": [
    "import numpy as np\n",
    "import pandas as pd\n",
    "import matplotlib.pyplot as plt\n",
    "from collections import Counter\n",
    "\n",
    "food_df = pd.read_csv('전국푸드트럭허가구역표준데이터.csv', encoding='cp949')\n",
    "food_df_set = food_df.drop_duplicates(['허가구역명'])\n",
    "# print(food_df.columns)\n",
    "v = food_df_set['시도명']\n",
    "f = food_df['시도명']\n",
    "\n",
    "print(v)\n",
    "print(f)\n",
    "Counter(v)"
   ]
  },
  {
   "cell_type": "code",
   "execution_count": null,
   "id": "b8f3e2cf",
   "metadata": {},
   "outputs": [],
   "source": []
  }
 ],
 "metadata": {
  "kernelspec": {
   "display_name": "Python 3 (ipykernel)",
   "language": "python",
   "name": "python3"
  },
  "language_info": {
   "codemirror_mode": {
    "name": "ipython",
    "version": 3
   },
   "file_extension": ".py",
   "mimetype": "text/x-python",
   "name": "python",
   "nbconvert_exporter": "python",
   "pygments_lexer": "ipython3",
   "version": "3.10.9"
  }
 },
 "nbformat": 4,
 "nbformat_minor": 5
}
