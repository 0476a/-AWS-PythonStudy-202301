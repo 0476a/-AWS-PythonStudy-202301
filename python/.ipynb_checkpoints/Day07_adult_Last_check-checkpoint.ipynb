{
 "cells": [
  {
   "cell_type": "markdown",
   "id": "76857f2e",
   "metadata": {},
   "source": [
    "### 상관도 분석: UCI Repo Adult 데이터\n",
    "* url: https://archive.ics.uci.edu/ml/machine-learning-databases/adult/adult.data\n",
    "\n",
    "* age / capital gain 상관도\n",
    "\n",
    "* hours-per-week / capital gain 상관도"
   ]
  },
  {
   "cell_type": "code",
   "execution_count": 19,
   "id": "919680a5",
   "metadata": {},
   "outputs": [],
   "source": [
    "import math\n",
    "def mean(num_list):\n",
    "    return sum(num_list) / len(num_list)\n",
    "\n",
    "def dev(num_list):    # 편차 : 평균 값 대비 차이 값\n",
    "    m = mean(num_list)\n",
    "    return [x-m for x in num_list]\n",
    "\n",
    "def var(num_list):    # 분산 : 편차에 대표성있는 값\n",
    "    n = len(num_list)\n",
    "    d = dev(num_list)\n",
    "    return sum([x*x for x in d]) / (n-1)\n",
    "\n",
    "def stdev(num_list):   # 표준편차 : 분산에서 단위가 맞지 않는 것을 바꿔주는 작업\n",
    "    return math.sqrt(var(num_list))\n",
    "\n",
    "def covar(list_1, list_2):     # 공분산 : 두 리스트의 분산을 구하는 것\n",
    "    n = len(list_1)\n",
    "    list_1_dev = dev(list_1)\n",
    "    list_2_dev = dev(list_2)\n",
    "    return sum(x * y for x, y in zip(list_1_dev, list_2_dev)) / (n - 1)\n",
    "\n",
    "def corel(list_1, list_2):     # 상관도 (-1 ~ 1) : 얼마나 서로 영향을 미치는지 나타내는 척도\n",
    "                               # -1과 가까우면 음의 상관관계 1과 가까우면 양의 상관관계 0과 가까우면 상관관계가 거의 X\n",
    "    return covar(list_1, list_2) / (stdev(list_1) * stdev(list_2))"
   ]
  },
  {
   "cell_type": "code",
   "execution_count": 1,
   "id": "cc51e81b",
   "metadata": {},
   "outputs": [
    {
     "name": "stdout",
     "output_type": "stream",
     "text": [
      "39, State-gov, 77516, Bachelors, 13, Never-married, Adm-clerical, Not-in-family, White, Male, 2174, 0, 40, United-States, <=50K\n",
      "50, Self-emp-not-inc, 83311, Bachelors, 13, Married-civ-spouse, Exec-managerial, Husband, White, Male, 0, 0, 13, United-States, <=50K\n",
      "38, Private, 215646, HS-grad, 9, Divorced, Handlers-cleaners, Not-in-family, White, Male, 0, 0, 40, United-States, <=50K\n",
      "53, Private, 234721, 11th, 7, Married-civ-spouse, Handlers-cleaners, Husband, Black, Male, 0, 0, 40, United-States, <=50K\n",
      "28, Private, 338409, Bachelors, 13, Married-civ-spouse, Prof-specialty, Wife, Black, Female, 0, 0, 40, Cuba, <=50K\n",
      "37, Private, 284582, Masters, 14, Married-civ-spouse, Exec-managerial, Wife, White, Female, 0, 0, 40, United-States, <=50K\n",
      "49, Private, 160187, 9th, 5, Married-spouse-absent, Other-service, Not-in-family, Black, Female, 0, 0, 16, Jamaica, <=50K\n",
      "52, Self-emp-not-inc, 209642, HS-grad, 9, Married-civ-spouse, Exec-managerial, Husband, White, Male, 0, 0, 45, United-States, >50K\n",
      "31, \n"
     ]
    }
   ],
   "source": [
    "import requests\n",
    "x = requests.get('https://archive.ics.uci.edu/ml/machine-learning-databases/adult/adult.data')\n",
    "\n",
    "print (x.text[:1000])"
   ]
  },
  {
   "cell_type": "code",
   "execution_count": 10,
   "id": "81a4cb1b",
   "metadata": {},
   "outputs": [],
   "source": [
    "pass1 = x.text.split('\\n')\n",
    "# print(pass1[0].split(',')[0]) # age\n",
    "# print(pass1[0].split(',')[10]) # cap_gain\n",
    "# print(pass1[0].split(',')[12]) # hours_per_week\n",
    "age_list = []\n",
    "cap_gain_list = []\n",
    "hours_per_week_list = []\n",
    "for e in pass1:\n",
    "    try:\n",
    "        t = e.split(',')\n",
    "        if len(t) < 5:\n",
    "            continue\n",
    "        age_list.append(t[0])\n",
    "        cap_gain_list.append(t[10])\n",
    "        hours_per_week_list.append(t[12])\n",
    "    except:\n",
    "        print(e, type(e))"
   ]
  },
  {
   "cell_type": "code",
   "execution_count": 11,
   "id": "f9f14779",
   "metadata": {},
   "outputs": [
    {
     "name": "stdout",
     "output_type": "stream",
     "text": [
      "32561\n",
      "32561\n",
      "32561\n"
     ]
    }
   ],
   "source": [
    "print(len(age_list))\n",
    "print(len(cap_gain_list))\n",
    "print(len(hours_per_week_list))"
   ]
  },
  {
   "cell_type": "code",
   "execution_count": 16,
   "id": "4ba7c4d4",
   "metadata": {},
   "outputs": [
    {
     "name": "stdout",
     "output_type": "stream",
     "text": [
      "[39, 50, 38, 53, 28, 37, 49, 52, 31, 42]\n",
      "[2174, 0, 0, 0, 0, 0, 0, 0, 14084, 5178]\n",
      "[40, 13, 40, 40, 40, 40, 16, 45, 50, 40]\n"
     ]
    }
   ],
   "source": [
    "print(age_list[:10])\n",
    "print(cap_gain_list[:10])\n",
    "print(hours_per_week_list[:10])\n",
    "age_list = [int(i) for i in age_list]\n",
    "cap_gain_list = [int(i) for i in cap_gain_list]\n",
    "hours_per_week_list = [int(i) for i in hours_per_week_list]\n"
   ]
  },
  {
   "cell_type": "code",
   "execution_count": 21,
   "id": "69cda58c",
   "metadata": {},
   "outputs": [
    {
     "name": "stdout",
     "output_type": "stream",
     "text": [
      "age vs. cap gain: 0.077674498166006\n",
      "hours per week vs. cap gain: 0.07840861539012314\n",
      "age vs. hours per week: 0.06875570750956339\n"
     ]
    }
   ],
   "source": [
    "print('age vs. cap gain:', corel(age_list, cap_gain_list))\n",
    "print('hours per week vs. cap gain:', corel(hours_per_week_list, cap_gain_list))\n",
    "print('age vs. hours per week:', corel(age_list, hours_per_week_list))"
   ]
  }
 ],
 "metadata": {
  "kernelspec": {
   "display_name": "Python 3 (ipykernel)",
   "language": "python",
   "name": "python3"
  },
  "language_info": {
   "codemirror_mode": {
    "name": "ipython",
    "version": 3
   },
   "file_extension": ".py",
   "mimetype": "text/x-python",
   "name": "python",
   "nbconvert_exporter": "python",
   "pygments_lexer": "ipython3",
   "version": "3.10.9"
  }
 },
 "nbformat": 4,
 "nbformat_minor": 5
}
