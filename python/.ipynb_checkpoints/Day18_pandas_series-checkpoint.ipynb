{
 "cells": [
  {
   "cell_type": "code",
   "execution_count": 4,
   "id": "6ada8a27",
   "metadata": {},
   "outputs": [
    {
     "name": "stdout",
     "output_type": "stream",
     "text": [
      "Requirement already satisfied: pandas in c:\\users\\itps\\appdata\\local\\programs\\python\\python310\\lib\\site-packages (1.5.3)\n",
      "Requirement already satisfied: numpy>=1.21.0 in c:\\users\\itps\\appdata\\local\\programs\\python\\python310\\lib\\site-packages (from pandas) (1.24.1)\n",
      "Requirement already satisfied: python-dateutil>=2.8.1 in c:\\users\\itps\\appdata\\local\\programs\\python\\python310\\lib\\site-packages (from pandas) (2.8.2)\n",
      "Requirement already satisfied: pytz>=2020.1 in c:\\users\\itps\\appdata\\local\\programs\\python\\python310\\lib\\site-packages (from pandas) (2022.7.1)\n",
      "Requirement already satisfied: six>=1.5 in c:\\users\\itps\\appdata\\local\\programs\\python\\python310\\lib\\site-packages (from python-dateutil>=2.8.1->pandas) (1.16.0)\n"
     ]
    },
    {
     "name": "stderr",
     "output_type": "stream",
     "text": [
      "\n",
      "[notice] A new release of pip available: 22.3.1 -> 23.0\n",
      "[notice] To update, run: python.exe -m pip install --upgrade pip\n"
     ]
    }
   ],
   "source": [
    "!pip install pandas"
   ]
  },
  {
   "cell_type": "code",
   "execution_count": 15,
   "id": "5d27f0ae",
   "metadata": {},
   "outputs": [
    {
     "name": "stdout",
     "output_type": "stream",
     "text": [
      "       0    1    2    3               4\n",
      "0    5.1  3.5  1.4  0.2     Iris-setosa\n",
      "1    4.9  3.0  1.4  0.2     Iris-setosa\n",
      "2    4.7  3.2  1.3  0.2     Iris-setosa\n",
      "3    4.6  3.1  1.5  0.2     Iris-setosa\n",
      "4    5.0  3.6  1.4  0.2     Iris-setosa\n",
      "..   ...  ...  ...  ...             ...\n",
      "145  6.7  3.0  5.2  2.3  Iris-virginica\n",
      "146  6.3  2.5  5.0  1.9  Iris-virginica\n",
      "147  6.5  3.0  5.2  2.0  Iris-virginica\n",
      "148  6.2  3.4  5.4  2.3  Iris-virginica\n",
      "149  5.9  3.0  5.1  1.8  Iris-virginica\n",
      "\n",
      "[150 rows x 5 columns]\n"
     ]
    }
   ],
   "source": [
    "import numpy as np\n",
    "import pandas as pd\n",
    "import requests\n",
    "\n",
    "# iris_data_str = requests.get('https://archive.ics.uci.edu/ml/machine-learning-databases/iris/iris.data')\n",
    "# print(iris_data_str.text)\n",
    "\n",
    "iris_df = pd.read_csv('iris.data', header = None)\n",
    "print(iris_df)"
   ]
  },
  {
   "cell_type": "code",
   "execution_count": 17,
   "id": "1e7ff222",
   "metadata": {},
   "outputs": [
    {
     "name": "stdout",
     "output_type": "stream",
     "text": [
      "0    a\n",
      "1    b\n",
      "2    c\n",
      "3    d\n",
      "4    e\n",
      "dtype: object\n",
      "<class 'pandas.core.frame.DataFrame'> <class 'pandas.core.series.Series'>\n"
     ]
    }
   ],
   "source": [
    "s1 = pd.Series(list('abcde'))\n",
    "print(s1)\n",
    "print(type(iris_df), type(s1))"
   ]
  },
  {
   "cell_type": "code",
   "execution_count": 28,
   "id": "1b56505d",
   "metadata": {},
   "outputs": [
    {
     "name": "stdout",
     "output_type": "stream",
     "text": [
      "6    16\n",
      "7    17\n",
      "8    18\n",
      "9    19\n",
      "dtype: int64\n"
     ]
    }
   ],
   "source": [
    "s2 = pd.Series([1,1.0,'a'])\n",
    "s3 = pd.Series([x for x in range(10,20)])\n",
    "# print(s3)\n",
    "# print(s3[3])\n",
    "# print(s3[3:8:2])\n",
    "# print(s3[[3,7,9]])\n",
    "print(s3[s3>15])"
   ]
  },
  {
   "cell_type": "code",
   "execution_count": 31,
   "id": "7ce96ce9",
   "metadata": {},
   "outputs": [
    {
     "name": "stdout",
     "output_type": "stream",
     "text": [
      "1\n",
      "int64\n",
      "(10,)\n",
      "0    10.0\n",
      "1    11.0\n",
      "2    12.0\n",
      "3    13.0\n",
      "4    14.0\n",
      "5    15.0\n",
      "6    16.0\n",
      "7    17.0\n",
      "8    18.0\n",
      "9    19.0\n",
      "dtype: float64\n"
     ]
    }
   ],
   "source": [
    "print(s3.ndim)\n",
    "print(s3.dtype)\n",
    "print(s3.shape)\n",
    "s3_f = s3.astype(np.float64)\n",
    "print(s3_f)"
   ]
  },
  {
   "cell_type": "code",
   "execution_count": 32,
   "id": "63377d2c",
   "metadata": {},
   "outputs": [
    {
     "name": "stdout",
     "output_type": "stream",
     "text": [
      "[10 11 12 13 14 15 16 17 18 19] <class 'numpy.ndarray'>\n"
     ]
    }
   ],
   "source": [
    "s3_np = s3.to_numpy()\n",
    "print(s3_np, type(s3_np))"
   ]
  },
  {
   "cell_type": "code",
   "execution_count": 34,
   "id": "911845f9",
   "metadata": {},
   "outputs": [
    {
     "name": "stdout",
     "output_type": "stream",
     "text": [
      "0    30\n",
      "1    33\n",
      "2    36\n",
      "3    39\n",
      "4    42\n",
      "5    45\n",
      "6    48\n",
      "7    51\n",
      "8    54\n",
      "9    57\n",
      "dtype: int64\n"
     ]
    }
   ],
   "source": [
    "print(s3*3)"
   ]
  },
  {
   "cell_type": "code",
   "execution_count": 54,
   "id": "2d7b87d7",
   "metadata": {},
   "outputs": [
    {
     "name": "stdout",
     "output_type": "stream",
     "text": [
      "      a    b  c\n",
      "0  10.0  100  a\n",
      "1  11.0  101  b\n",
      "2  12.0  102  c\n",
      "3  13.0  103  d\n",
      "4  14.0  104  e\n"
     ]
    }
   ],
   "source": [
    "### df\n",
    "\n",
    "s1 = pd.Series([x for x in range(10,20)])\n",
    "s2 = pd.Series([x for x in range(100,120)])\n",
    "s3 = pd.Series(list('abcdefghuijk'))\n",
    "df1 = pd.DataFrame({'a': s1, 'b': s2, 'c': s3})\n",
    "# print(df1)\n",
    "# print(df1['a'])\n",
    "# print(df1[['a', 'c']])\n",
    "# print(df1[2]) # 이건 안됨!\n",
    "# print(df1[2:5]) # 숫자의 범위를 넣어줘야함!\n",
    "# print(df1[2:5]['a'])\n",
    "print(df1[:5])"
   ]
  },
  {
   "cell_type": "code",
   "execution_count": 61,
   "id": "3be268d6",
   "metadata": {},
   "outputs": [
    {
     "name": "stdout",
     "output_type": "stream",
     "text": [
      "      a    b  c\n",
      "0  10.0  100  a\n",
      "1  11.0  101  b\n",
      "2  12.0  102  c\n",
      "3  13.0  103  d\n",
      "4  14.0  104  e\n",
      "     a    b    c\n",
      "10 NaN  110    j\n",
      "11 NaN  111    k\n",
      "12 NaN  112  NaN\n",
      "13 NaN  113  NaN\n",
      "14 NaN  114  NaN\n",
      "15 NaN  115  NaN\n",
      "16 NaN  116  NaN\n",
      "17 NaN  117  NaN\n",
      "18 NaN  118  NaN\n",
      "19 NaN  119  NaN\n"
     ]
    }
   ],
   "source": [
    "# 상위 5개 출력 (기본값 5)\n",
    "print(df1.head())\n",
    "# 하위 5개 출력 (기본값 5)\n",
    "# print(df1.tail())\n",
    "print(df1.tail(10))"
   ]
  },
  {
   "cell_type": "code",
   "execution_count": 70,
   "id": "ad2b7959",
   "metadata": {},
   "outputs": [
    {
     "name": "stdout",
     "output_type": "stream",
     "text": [
      "      a  c\n",
      "3  13.0  d\n",
      "4  14.0  e\n",
      "5  15.0  f\n",
      "6  16.0  g\n",
      "7  17.0  h\n",
      "8  18.0  u\n",
      "9  19.0  i\n"
     ]
    }
   ],
   "source": [
    "# 이걸로 좀 더 익숙해지기\n",
    "# print(df1)\n",
    "\n",
    "# print(df1.loc[3:10 , ['a', 'c']])\n",
    "\n",
    "# 숫자로만 인덱스함\n",
    "print(df1.iloc[3:10 , [0,2]])"
   ]
  }
 ],
 "metadata": {
  "kernelspec": {
   "display_name": "Python 3 (ipykernel)",
   "language": "python",
   "name": "python3"
  },
  "language_info": {
   "codemirror_mode": {
    "name": "ipython",
    "version": 3
   },
   "file_extension": ".py",
   "mimetype": "text/x-python",
   "name": "python",
   "nbconvert_exporter": "python",
   "pygments_lexer": "ipython3",
   "version": "3.10.9"
  }
 },
 "nbformat": 4,
 "nbformat_minor": 5
}
