{
 "cells": [
  {
   "cell_type": "code",
   "execution_count": 1,
   "id": "482ea058",
   "metadata": {},
   "outputs": [],
   "source": [
    "import numpy as np\n",
    "import matplotlib.pyplot as plt\n",
    "from scipy import stats\n",
    "\n",
    "np.set_printoptions(precision=5, suppress=True)\n"
   ]
  },
  {
   "cell_type": "code",
   "execution_count": 11,
   "id": "85748d94",
   "metadata": {},
   "outputs": [],
   "source": [
    "# 데이터 정재시켜주는 함수\n",
    "def read_data():\n",
    "    raw_data = []\n",
    "    with open('가스공급량_20230217170925.csv') as f:\n",
    "        for line in f:\n",
    "            raw_data.append(line[:-1].split(','))\n",
    "    np_data = np.array(raw_data[2:])\n",
    "    np_data = np_data[:, 2:].astype(np.int64)\n",
    "    return np_data\n",
    "\n",
    "def get_corr(np_data):\n",
    "    by_year = np.add.reduceat(np_data, np.arange(0, 130, 12))\n",
    "    return np.corrcoef(by_year[:,1], by_year[:, 5])"
   ]
  },
  {
   "cell_type": "code",
   "execution_count": 12,
   "id": "c44599e1",
   "metadata": {},
   "outputs": [
    {
     "name": "stdout",
     "output_type": "stream",
     "text": [
      "[[ 1.         -0.82276968]\n",
      " [-0.82276968  1.        ]]\n"
     ]
    }
   ],
   "source": [
    "d = read_data()\n",
    "out = get_corr(d)\n",
    "print(out)"
   ]
  }
 ],
 "metadata": {
  "kernelspec": {
   "display_name": "Python 3 (ipykernel)",
   "language": "python",
   "name": "python3"
  },
  "language_info": {
   "codemirror_mode": {
    "name": "ipython",
    "version": 3
   },
   "file_extension": ".py",
   "mimetype": "text/x-python",
   "name": "python",
   "nbconvert_exporter": "python",
   "pygments_lexer": "ipython3",
   "version": "3.10.9"
  }
 },
 "nbformat": 4,
 "nbformat_minor": 5
}
