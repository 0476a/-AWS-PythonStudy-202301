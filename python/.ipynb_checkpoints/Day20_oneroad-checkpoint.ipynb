{
 "cells": [
  {
   "cell_type": "markdown",
   "id": "f311084f",
   "metadata": {},
   "source": [
    "### 전국일방통행도로표준데이터\n",
    "* 데이터 전처리\n",
    "\n",
    "    (시도명, 지정사유, 지정연도, 도로폭, 도로차로수, 보차분리여부)\n",
    "* 결측치 처리 (column 개별 기준)\n",
    "* 오류치 처리 (unit의 차이)\n",
    "* 이상치 처리 (iqr 사용)\n",
    "* 전처리 내용 정리"
   ]
  },
  {
   "cell_type": "code",
   "execution_count": 1,
   "id": "c5292023",
   "metadata": {},
   "outputs": [
    {
     "name": "stdout",
     "output_type": "stream",
     "text": [
      "Index(['시도명', '시군구명', '도로명', '지정사유', '지정연도', '도로폭', '도로연장', '도로차로수', '보차분리여부',\n",
      "       '시작점위도', '시작점경도', '종료점위도', '종료점경도', '도로안내표지일련번호', '관리기관명', '관리기관전화번호',\n",
      "       '데이터기준일자', '제공기관코드', '제공기관명'],\n",
      "      dtype='object')\n"
     ]
    }
   ],
   "source": [
    "import numpy as np\n",
    "import pandas as pd\n",
    "import matplotlib.pyplot as plt\n",
    "\n",
    "pd_rawdata = pd.read_csv('전국일방통행도로표준데이터.csv', encoding='cp949')\n",
    "\n",
    "print(pd_rawdata.columns)\n",
    "\n",
    "column_selection = ['시도명', '지정사유', '지정연도', '도로폭', '도로차로수', '보차분리여부']\n",
    "pd_data = pd_rawdata[column_selection]\n",
    "del pd_rawdata\n",
    "# print(pd_rawdata[:3])"
   ]
  },
  {
   "cell_type": "code",
   "execution_count": 2,
   "id": "c106af7e",
   "metadata": {},
   "outputs": [
    {
     "name": "stdout",
     "output_type": "stream",
     "text": [
      "   시도명 지정사유  지정연도  도로폭  도로차로수 보차분리여부\n",
      "0  경기도  NaN   NaN  5.0    1.0      Y\n",
      "1  경기도  NaN   NaN  5.0    1.0      Y\n",
      "2  경기도  NaN   NaN  9.0    1.0      Y\n",
      "Index(['시도명', '지정사유', '지정연도', '도로폭', '도로차로수', '보차분리여부'], dtype='object')\n",
      "시도명         object\n",
      "지정사유        object\n",
      "지정연도       float64\n",
      "도로폭        float64\n",
      "도로차로수      float64\n",
      "보차분리여부    category\n",
      "dtype: object\n"
     ]
    }
   ],
   "source": [
    "print(pd_data[:3])\n",
    "pd_data['보차분리여부'] = pd_data['보차분리여부'].astype('category')\n",
    "print(pd_data.columns)\n",
    "print(pd_data.dtypes)"
   ]
  },
  {
   "cell_type": "code",
   "execution_count": 3,
   "id": "ce31bd94",
   "metadata": {},
   "outputs": [
    {
     "name": "stdout",
     "output_type": "stream",
     "text": [
      "시도명 False\n",
      "지정사유 True\n",
      "True     1567\n",
      "False     592\n",
      "Name: 지정사유, dtype: int64\n",
      "지정연도 True\n",
      "True     1609\n",
      "False     550\n",
      "Name: 지정연도, dtype: int64\n",
      "도로폭 False\n",
      "도로차로수 True\n",
      "False    2158\n",
      "True        1\n",
      "Name: 도로차로수, dtype: int64\n",
      "보차분리여부 False\n"
     ]
    }
   ],
   "source": [
    "for e in pd_data:\n",
    "    print(e, pd_data[e].hasnans)\n",
    "    if pd_data[e].hasnans == True:\n",
    "        print(pd_data[e].isna().value_counts())"
   ]
  },
  {
   "cell_type": "code",
   "execution_count": 8,
   "id": "e430f3ae",
   "metadata": {},
   "outputs": [
    {
     "name": "stdout",
     "output_type": "stream",
     "text": [
      "서울특별시      755\n",
      "경기도        384\n",
      "경상북도       329\n",
      "경상남도       152\n",
      "전라남도       115\n",
      "충청남도       113\n",
      "강원도         58\n",
      "광주광역시       58\n",
      "제주특별자치도     55\n",
      "인천광역시       51\n",
      "충청북도        42\n",
      "전라북도        37\n",
      "전국          10\n",
      "Name: 시도명, dtype: int64\n"
     ]
    }
   ],
   "source": [
    "pd_data['시도명'] = pd_data['시도명'].replace('10', '전국')\n",
    "print(pd_data['시도명'].value_counts())"
   ]
  },
  {
   "cell_type": "code",
   "execution_count": 6,
   "id": "7d1bf0f5",
   "metadata": {},
   "outputs": [],
   "source": [
    "pd_data['지정사유'] = pd_data['지정사유'].replace(np.NaN, '이유없음')\n",
    "pd_data['지정사유'] = pd_data['지정사유'].replace('혼자지역', '혼잡지역')\n",
    "pd_data['지정사유'] = pd_data['지정사유'].replace('혼잡구역', '혼잡지역')\n",
    "pd_data['지정사유'] = pd_data['지정사유'].replace('혼잡비역', '혼잡지역')\n",
    "\n",
    "# print(pd_data['지정사유'].value_counts())"
   ]
  },
  {
   "cell_type": "code",
   "execution_count": 7,
   "id": "3cd87caa",
   "metadata": {},
   "outputs": [],
   "source": [
    "pd_data['지정연도'] = pd_data['지정연도'].replace(np.NaN, '0.0')\n",
    "# print(pd_data['지정연도'].value_counts())"
   ]
  },
  {
   "cell_type": "code",
   "execution_count": 1,
   "id": "82dead3f",
   "metadata": {},
   "outputs": [],
   "source": [
    "# filter1 = (pd_data['도로폭'] > 2.7) & (pd_data['도로폭'] < 20)\n",
    "# filter2 = !((pd_data['도로폭'] > 2.7) & (pd_data['도로폭'] < 20))\n",
    "# pd_data_mean = round(pd_data['도로폭'][filter1].mean()) \n",
    "# # print(pd_data_mean)\n",
    "# pd_data_no = pd_data['도로폭'][filter2]\n",
    "\n",
    "# print(pd_data['도로폭'].replace(pd_data_no, 6))"
   ]
  },
  {
   "cell_type": "code",
   "execution_count": 14,
   "id": "07fa30fc",
   "metadata": {},
   "outputs": [
    {
     "name": "stdout",
     "output_type": "stream",
     "text": [
      "1.0    2044\n",
      "2.0      90\n",
      "4.0      12\n",
      "3.0       9\n",
      "5.0       4\n",
      "Name: 도로차로수, dtype: int64\n"
     ]
    }
   ],
   "source": [
    "pd_data['도로차로수'] = pd_data['도로차로수'].replace(np.NaN, 1.0)\n",
    "pd_data['도로차로수'] = pd_data['도로차로수'].replace(60.0, 1.0)\n",
    "print(pd_data['도로차로수'].value_counts())"
   ]
  },
  {
   "cell_type": "code",
   "execution_count": 18,
   "id": "f79eaa72",
   "metadata": {},
   "outputs": [
    {
     "name": "stdout",
     "output_type": "stream",
     "text": [
      "N    1658\n",
      "Y     501\n",
      "Name: 보차분리여부, dtype: int64\n"
     ]
    }
   ],
   "source": [
    "pd_data['보차분리여부'] = pd_data['보차분리여부'].replace(' ', 'N')\n",
    "print(pd_data['보차분리여부'].value_counts())"
   ]
  },
  {
   "cell_type": "code",
   "execution_count": 15,
   "id": "60d912fd",
   "metadata": {},
   "outputs": [
    {
     "name": "stdout",
     "output_type": "stream",
     "text": [
      "시도명 False\n",
      "지정사유 False\n",
      "지정연도 False\n",
      "도로폭 False\n",
      "도로차로수 False\n",
      "보차분리여부 False\n"
     ]
    }
   ],
   "source": [
    "for e in pd_data:\n",
    "    print(e, pd_data[e].hasnans)\n",
    "    if pd_data[e].hasnans == True:\n",
    "        print(pd_data[e].isna().value_counts())\n",
    "        "
   ]
  },
  {
   "cell_type": "code",
   "execution_count": 18,
   "id": "c0c282b6",
   "metadata": {},
   "outputs": [
    {
     "name": "stdout",
     "output_type": "stream",
     "text": [
      "시도명         object\n",
      "지정사유        object\n",
      "지정연도        object\n",
      "도로폭        float64\n",
      "도로차로수      float64\n",
      "보차분리여부    category\n",
      "dtype: object\n"
     ]
    }
   ],
   "source": [
    "print(pd_data.dtypes)"
   ]
  },
  {
   "cell_type": "markdown",
   "id": "535d0100",
   "metadata": {},
   "source": [
    "### 시도명\n",
    "* dtype: object\n",
    "* value:\n",
    "* 결측치 없음\n",
    "* 오류치 (10개, 처리후 오류치 없음)\n",
    "\n",
    "    ('10' --> '전국')\n",
    "### 지정사유\n",
    "* dtype: object\n",
    "* value:\n",
    "* 오류치(3개, 처리후 오류치 없음)\n",
    "    \n",
    "    (혼자지역 -> 혼잡지역)\n",
    "    \n",
    "    (혼잡구역 -> 혼잡지역)\n",
    "    \n",
    "    (혼잡비역 -> 혼잡지역)\n",
    "* 결측치 (592개, 처리후 결측치 없음)\n",
    "\n",
    "    '이유 없음'으로 결측치를 대체\n",
    "### 지정연도\n",
    "* dtype: object\n",
    "* 결측치 (550개, 처리후 결측치 없음)\n",
    "    \n",
    "   '0.0'으로 결측치를 대체\n",
    "   \n",
    "### 도로폭\n",
    "* dtype: float64\n",
    "* min: 2.0, max: 32.0\n",
    "* 결측치 없음\n",
    "   \n",
    "### 도로차로수\n",
    "* dtype: np.float64\n",
    "* min : 5.0, max: 1.0\n",
    "* 결측치 (1개, 처리후 결측치 없음)\n",
    "\n",
    "    1.0으로 결측치를 대체\n",
    "* 이상치 (1개, 처리후 이상치 없음)\n",
    "\n",
    "    60.0 -> 1.0 으로 바꿔줌.\n",
    "    \n",
    "### 보호분리여부\n",
    "* dtype: category\n",
    "* value: 'Y', 'N'\n",
    "* 결측치 없음\n",
    "* 오류치(1개, 처리후 오류치 없음)\n",
    "\n",
    "    ('' -> 'N')\n",
    "    "
   ]
  }
 ],
 "metadata": {
  "kernelspec": {
   "display_name": "Python 3 (ipykernel)",
   "language": "python",
   "name": "python3"
  },
  "language_info": {
   "codemirror_mode": {
    "name": "ipython",
    "version": 3
   },
   "file_extension": ".py",
   "mimetype": "text/x-python",
   "name": "python",
   "nbconvert_exporter": "python",
   "pygments_lexer": "ipython3",
   "version": "3.10.9"
  }
 },
 "nbformat": 4,
 "nbformat_minor": 5
}
