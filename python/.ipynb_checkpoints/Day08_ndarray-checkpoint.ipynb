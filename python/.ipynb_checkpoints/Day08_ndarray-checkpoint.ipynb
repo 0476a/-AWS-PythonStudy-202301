{
 "cells": [
  {
   "cell_type": "code",
   "execution_count": 4,
   "id": "36202c0e",
   "metadata": {},
   "outputs": [],
   "source": [
    "import numpy as np"
   ]
  },
  {
   "cell_type": "code",
   "execution_count": 2,
   "id": "20ca2a2e",
   "metadata": {},
   "outputs": [
    {
     "name": "stdout",
     "output_type": "stream",
     "text": [
      "Requirement already satisfied: numpy in c:\\users\\itps\\appdata\\local\\programs\\python\\python310\\lib\\site-packages (1.24.1)\n"
     ]
    },
    {
     "name": "stderr",
     "output_type": "stream",
     "text": [
      "\n",
      "[notice] A new release of pip available: 22.3.1 -> 23.0\n",
      "[notice] To update, run: python.exe -m pip install --upgrade pip\n"
     ]
    }
   ],
   "source": [
    "!pip install numpy"
   ]
  },
  {
   "cell_type": "code",
   "execution_count": 7,
   "id": "3bf44c8f",
   "metadata": {},
   "outputs": [
    {
     "name": "stdout",
     "output_type": "stream",
     "text": [
      "[1, 2, 3, 4, 5]\n",
      "[1 2 3 4 5]\n",
      "<class 'numpy.ndarray'>\n"
     ]
    }
   ],
   "source": [
    "a1 = np.array([1, 2, 3, 4, 5])\n",
    "print([1,2,3,4,5])\n",
    "print(a1)\n",
    "print(type(a1))"
   ]
  },
  {
   "cell_type": "code",
   "execution_count": 18,
   "id": "f8e63647",
   "metadata": {},
   "outputs": [
    {
     "name": "stdout",
     "output_type": "stream",
     "text": [
      "[0 1 2 3 4 5 6 7 8 9]\n",
      "[ 3  6  9 12 15 18 21 24 27 30 33 36 39 42 45 48 51 54 57 60 63 66 69 72\n",
      " 75 78 81 84 87 90 93 96 99]\n",
      "[1.3 1.8 2.3 2.8 3.3 3.8 4.3 4.8 5.3 5.8 6.3 6.8 7.3 7.8 8.3 8.8 9.3 9.8]\n"
     ]
    }
   ],
   "source": [
    "a2 = np.arange(10)\n",
    "print(a2)\n",
    "\n",
    "# 변수 a3, 100 아래 3의 배수\n",
    "a3 = np.arange(3, 100, 3)\n",
    "print(a3)\n",
    "\n",
    "# 1에서 부터 10아래 0.5씩 증가하는 숫자, step = 0.5 (실수 사용가능!)\n",
    "a4 = np.arange(1.3, 10, 0.5)\n",
    "print(a4)\n",
    "\n",
    "# 파이썬 리스트에서는 range에 실수 사용 불가\n",
    "# litsa = [i for i in range(1.3, 10, 0.5)] 오류 발생\n"
   ]
  },
  {
   "cell_type": "code",
   "execution_count": 20,
   "id": "0513bd20",
   "metadata": {},
   "outputs": [
    {
     "name": "stdout",
     "output_type": "stream",
     "text": [
      "[ 0.          0.71428571  1.42857143  2.14285714  2.85714286  3.57142857\n",
      "  4.28571429  5.          5.71428571  6.42857143  7.14285714  7.85714286\n",
      "  8.57142857  9.28571429 10.        ]\n"
     ]
    }
   ],
   "source": [
    "# 등분하는 것 -> 3등분 해줌 \n",
    "a4 = np.linspace(0, 10, 15) # stop 값도 포함 해줌!\n",
    "print(a4)\n"
   ]
  },
  {
   "cell_type": "code",
   "execution_count": 27,
   "id": "2ed5db8b",
   "metadata": {},
   "outputs": [
    {
     "name": "stdout",
     "output_type": "stream",
     "text": [
      "[0. 0. 0. 0. 0.]\n",
      "[1 1 1 1 1]\n"
     ]
    },
    {
     "data": {
      "text/plain": [
       "array([1., 1., 1., 1., 1.])"
      ]
     },
     "execution_count": 27,
     "metadata": {},
     "output_type": "execute_result"
    }
   ],
   "source": [
    "a5 = np.zeros(5)\n",
    "print(a5)\n",
    "\n",
    "a6 = np.ones(5, dtype = np.int64)\n",
    "print(a6)\n",
    "a6.astype(np.float64)"
   ]
  },
  {
   "cell_type": "code",
   "execution_count": 44,
   "id": "8ae7418c",
   "metadata": {},
   "outputs": [
    {
     "name": "stdout",
     "output_type": "stream",
     "text": [
      "[1.  2.  3.5 4.2]\n",
      "['1' '2' 'abc' 'def']\n"
     ]
    }
   ],
   "source": [
    "# 자료형이 다른게 들어오면 어느 하나의 자료형으로 바뀌게 됨!\n",
    "lista = [1,2,3.5,4.2]\n",
    "a7 = np.array(lista)\n",
    "print(a7)\n",
    "\n",
    "listb= [1,2,'abc','def']\n",
    "a8 = np.array(listb)\n",
    "print(a8)\n",
    "# a8.astype(np.int64)"
   ]
  },
  {
   "cell_type": "code",
   "execution_count": 43,
   "id": "739407b5",
   "metadata": {},
   "outputs": [
    {
     "name": "stdout",
     "output_type": "stream",
     "text": [
      "float64\n",
      "1\n",
      "(4,)\n",
      "4\n",
      "8\n",
      "<memory at 0x000001857F00D6C0>\n"
     ]
    }
   ],
   "source": [
    "# 타입 값을 알려줌\n",
    "print(a7.dtype)\n",
    "# 1차원이라는 것을 알려줌.\n",
    "print(a7.ndim)\n",
    "# 모양 및 크기 표현\n",
    "print(a7.shape)\n",
    "# 배열안에 모든 엘리먼트 들의 갯수\n",
    "print(a7.size)\n",
    "\n",
    "print(a7.itemsize)\n",
    "print(a7.data)"
   ]
  },
  {
   "cell_type": "code",
   "execution_count": 51,
   "id": "d125fa66",
   "metadata": {},
   "outputs": [
    {
     "name": "stdout",
     "output_type": "stream",
     "text": [
      "[10 15 20 25 30 35 40 45 50 55 60 65 70 75 80 85 90 95]\n",
      "10 95\n",
      "[25 30 35 40]\n",
      "[20 30 40 50]\n"
     ]
    }
   ],
   "source": [
    "a10 = np.arange(10,100,5)\n",
    "print(a10)\n",
    "# 특정인덱스\n",
    "print(a10[0], a10[-1])\n",
    "\n",
    "# 스타트, 스탑\n",
    "print(a10[3:7])\n",
    "# 스타트, 스타브, 스텝\n",
    "print(a10[2: 9: 2])\n",
    "\n"
   ]
  },
  {
   "cell_type": "code",
   "execution_count": 54,
   "id": "83faed32",
   "metadata": {},
   "outputs": [
    {
     "name": "stdout",
     "output_type": "stream",
     "text": [
      "[10 15 20 25 30 35 40 45 50 55 60 65 70 75 80 85 90 95]\n",
      "[15 25 45]\n",
      "[10, 15, 20, 25, 30, 35, 40, 45, 50, 55, 60, 65, 70, 75, 80, 85, 90, 95]\n"
     ]
    },
    {
     "ename": "TypeError",
     "evalue": "list indices must be integers or slices, not list",
     "output_type": "error",
     "traceback": [
      "\u001b[1;31m---------------------------------------------------------------------------\u001b[0m",
      "\u001b[1;31mTypeError\u001b[0m                                 Traceback (most recent call last)",
      "Cell \u001b[1;32mIn[54], line 7\u001b[0m\n\u001b[0;32m      5\u001b[0m list10 \u001b[38;5;241m=\u001b[39m [x \u001b[38;5;28;01mfor\u001b[39;00m x \u001b[38;5;129;01min\u001b[39;00m \u001b[38;5;28mrange\u001b[39m(\u001b[38;5;241m10\u001b[39m, \u001b[38;5;241m100\u001b[39m, \u001b[38;5;241m5\u001b[39m)]\n\u001b[0;32m      6\u001b[0m \u001b[38;5;28mprint\u001b[39m(list10)\n\u001b[1;32m----> 7\u001b[0m \u001b[38;5;28mprint\u001b[39m(\u001b[43mlist10\u001b[49m\u001b[43m[\u001b[49m\u001b[43m[\u001b[49m\u001b[38;5;241;43m1\u001b[39;49m\u001b[43m,\u001b[49m\u001b[38;5;241;43m3\u001b[39;49m\u001b[43m,\u001b[49m\u001b[38;5;241;43m7\u001b[39;49m\u001b[43m]\u001b[49m\u001b[43m]\u001b[49m)\n",
      "\u001b[1;31mTypeError\u001b[0m: list indices must be integers or slices, not list"
     ]
    }
   ],
   "source": [
    "a10 = np.arange(10,100,5)\n",
    "print(a10)\n",
    "print(a10[[1, 3, 7]])\n",
    "\n",
    "list10 = [x for x in range(10, 100, 5)]\n",
    "print(list10)\n",
    "# 파이썬에서는 인덱스에 리스트 값을 줄수 x\n",
    "# print(list10[[1,3,7]])"
   ]
  },
  {
   "cell_type": "code",
   "execution_count": 60,
   "id": "e6f0cfc4",
   "metadata": {},
   "outputs": [
    {
     "name": "stdout",
     "output_type": "stream",
     "text": [
      "[10 15 20 25 30 35 40 45 50 55 60 65 70 75 80 85 90 95]\n",
      "[15 25 35 45 55 65 75 85 95]\n",
      "[False  True False  True False  True False  True False  True False  True\n",
      " False  True False  True False  True]\n",
      "(18,)\n",
      "(18,)\n",
      "[15 25 35 45 55 65 75 85 95]\n"
     ]
    }
   ],
   "source": [
    "a10 = np.arange(10,100,5)\n",
    "print(a10)\n",
    "print(a10[a10%10 == 5])\n",
    "\n",
    "x = (a10%10 == 5)\n",
    "print(x)\n",
    "print(x.shape)\n",
    "print(a10.shape)\n",
    "print(a10[x])"
   ]
  },
  {
   "cell_type": "code",
   "execution_count": 68,
   "id": "55c0015b",
   "metadata": {},
   "outputs": [
    {
     "name": "stdout",
     "output_type": "stream",
     "text": [
      "[0, 1, 2, 3, 4]\n",
      "[10, 11, 12, 13, 14]\n",
      "[0, 1, 2, 3, 4, 10, 11, 12, 13, 14]\n"
     ]
    },
    {
     "ename": "TypeError",
     "evalue": "unsupported operand type(s) for -: 'list' and 'list'",
     "output_type": "error",
     "traceback": [
      "\u001b[1;31m---------------------------------------------------------------------------\u001b[0m",
      "\u001b[1;31mTypeError\u001b[0m                                 Traceback (most recent call last)",
      "Cell \u001b[1;32mIn[68], line 6\u001b[0m\n\u001b[0;32m      4\u001b[0m \u001b[38;5;28mprint\u001b[39m(listb)\n\u001b[0;32m      5\u001b[0m \u001b[38;5;28mprint\u001b[39m(lista \u001b[38;5;241m+\u001b[39m listb)\n\u001b[1;32m----> 6\u001b[0m \u001b[38;5;28mprint\u001b[39m(\u001b[43mlista\u001b[49m\u001b[43m \u001b[49m\u001b[38;5;241;43m-\u001b[39;49m\u001b[43m \u001b[49m\u001b[43mlistb\u001b[49m)\n",
      "\u001b[1;31mTypeError\u001b[0m: unsupported operand type(s) for -: 'list' and 'list'"
     ]
    }
   ],
   "source": [
    "lista = [x for x in range(5)]\n",
    "listb = [x for x in range(10,15)]\n",
    "print(lista)\n",
    "print(listb)\n",
    "print(lista + listb)\n",
    "# print(lista - listb) # 오류남!"
   ]
  },
  {
   "cell_type": "code",
   "execution_count": 69,
   "id": "ff8eb6c4",
   "metadata": {},
   "outputs": [
    {
     "name": "stdout",
     "output_type": "stream",
     "text": [
      "[0 1 2 3 4]\n",
      "[10 11 12 13 14]\n",
      "add: [10 12 14 16 18]\n",
      "[ 0  1  2  3  4 10 11 12 13 14]\n",
      "sub: [-10 -10 -10 -10 -10]\n",
      "mul: [ 0 11 24 39 56]\n",
      "div: [0.         0.09090909 0.16666667 0.23076923 0.28571429]\n"
     ]
    }
   ],
   "source": [
    "a1 = np.arange(5)\n",
    "a2 = np.arange(10,15)\n",
    "print(a1)\n",
    "print(a2)\n",
    "print('add:', a1 + a2)\n",
    "# 튜플에 감싸서 사용해야함!!\n",
    "print(   np.concatenate((a1,a2))   )\n",
    "print('sub:', a1 - a2)\n",
    "print('mul:', a1 * a2)\n",
    "print('div:', a1 / a2)"
   ]
  },
  {
   "cell_type": "code",
   "execution_count": 70,
   "id": "e9dee294",
   "metadata": {},
   "outputs": [
    {
     "name": "stdout",
     "output_type": "stream",
     "text": [
      "[0 1 2 3 4 5 6]\n",
      "[10 11 12 13 14]\n"
     ]
    },
    {
     "ename": "ValueError",
     "evalue": "operands could not be broadcast together with shapes (7,) (5,) ",
     "output_type": "error",
     "traceback": [
      "\u001b[1;31m---------------------------------------------------------------------------\u001b[0m",
      "\u001b[1;31mValueError\u001b[0m                                Traceback (most recent call last)",
      "Cell \u001b[1;32mIn[70], line 5\u001b[0m\n\u001b[0;32m      3\u001b[0m \u001b[38;5;28mprint\u001b[39m(a1)\n\u001b[0;32m      4\u001b[0m \u001b[38;5;28mprint\u001b[39m(a2)\n\u001b[1;32m----> 5\u001b[0m \u001b[38;5;28mprint\u001b[39m(\u001b[38;5;124m'\u001b[39m\u001b[38;5;124madd:\u001b[39m\u001b[38;5;124m'\u001b[39m, \u001b[43ma1\u001b[49m\u001b[43m \u001b[49m\u001b[38;5;241;43m+\u001b[39;49m\u001b[43m \u001b[49m\u001b[43ma2\u001b[49m)\n",
      "\u001b[1;31mValueError\u001b[0m: operands could not be broadcast together with shapes (7,) (5,) "
     ]
    }
   ],
   "source": [
    "a1 = np.arange(7)\n",
    "a2 = np.arange(10,15)\n",
    "print(a1)\n",
    "print(a2)\n",
    "# print('add:', a1 + a2) # 사이즈가 같아야 계산이 가능함!"
   ]
  }
 ],
 "metadata": {
  "kernelspec": {
   "display_name": "Python 3 (ipykernel)",
   "language": "python",
   "name": "python3"
  },
  "language_info": {
   "codemirror_mode": {
    "name": "ipython",
    "version": 3
   },
   "file_extension": ".py",
   "mimetype": "text/x-python",
   "name": "python",
   "nbconvert_exporter": "python",
   "pygments_lexer": "ipython3",
   "version": "3.10.9"
  }
 },
 "nbformat": 4,
 "nbformat_minor": 5
}
