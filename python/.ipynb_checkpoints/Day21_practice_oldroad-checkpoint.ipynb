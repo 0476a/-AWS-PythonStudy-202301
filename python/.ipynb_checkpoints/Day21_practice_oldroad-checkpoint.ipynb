{
 "cells": [
  {
   "cell_type": "code",
   "execution_count": 1,
   "id": "732b8594",
   "metadata": {},
   "outputs": [],
   "source": [
    "import numpy as np\n",
    "import pandas as pd\n",
    "import matplotlib.pyplot as plt\n",
    "import pickle\n",
    "\n",
    "pd_raw = pd.read_csv('전국노인장애인보호구역표준데이터.csv', encoding='cp949')\n",
    "\n",
    "col_selection = ['시도명', '제한속도', 'CCTV설치여부', 'CCTV설치대수', '보호구역도로폭']\n",
    "pd_data = pd_raw[col_selection]"
   ]
  },
  {
   "cell_type": "code",
   "execution_count": 2,
   "id": "8231e81e",
   "metadata": {},
   "outputs": [
    {
     "name": "stdout",
     "output_type": "stream",
     "text": [
      "(2518, 5)\n",
      "시도명          object\n",
      "제한속도          int64\n",
      "CCTV설치여부     object\n",
      "CCTV설치대수    float64\n",
      "보호구역도로폭      object\n",
      "dtype: object\n",
      "시도명 \t False\n",
      "제한속도 \t False\n",
      "CCTV설치여부 \t False\n",
      "CCTV설치대수 \t True\n",
      "보호구역도로폭 \t True\n"
     ]
    }
   ],
   "source": [
    "print(pd_data.shape)\n",
    "print(pd_data.dtypes)\n",
    "for e in pd_data:\n",
    "    print(e, '\\t', pd_data[e].hasnans)"
   ]
  },
  {
   "cell_type": "code",
   "execution_count": 3,
   "id": "889659cb",
   "metadata": {},
   "outputs": [
    {
     "name": "stdout",
     "output_type": "stream",
     "text": [
      "['서울특별시' '경상북도' '충청남도' '강원도' '경기도' '전라북도' '대전광역시' '경상남도' '인천광역시' '울산광역시'\n",
      " '부산광역시' '대구광역시' '충청북도' '전라남도' '광주광역시' '세종특별자치시' '제주특별자치도']\n",
      "False\n"
     ]
    }
   ],
   "source": [
    "# 시도명\n",
    "print(pd_data['시도명'].unique())\n",
    "print(pd_data['시도명'].hasnans)\n",
    "\n",
    "# 결축치, 오류치, 이상치 : 없음"
   ]
  },
  {
   "cell_type": "code",
   "execution_count": 4,
   "id": "6917c09f",
   "metadata": {},
   "outputs": [
    {
     "name": "stdout",
     "output_type": "stream",
     "text": [
      "[30 50 60 40 38 39 41 42 43 44 45 46 47 48 49 51 52 53 54 55 31 32 33 34\n",
      " 35 36 37 20]\n",
      "False\n",
      "30.0 30.0 0.0 30.0 30.0\n"
     ]
    }
   ],
   "source": [
    "# 제한속도\n",
    "print(pd_data['제한속도'].unique())\n",
    "print(pd_data['제한속도'].hasnans)\n",
    "\n",
    "# 이상치\n",
    "q1, q3 = pd_data['제한속도'].quantile([0.25, 0.75])\n",
    "iqr = q3 - q1\n",
    "upper = q3 + 1.5*iqr\n",
    "lower = q1 - 1.5*iqr\n",
    "print(q1, q3, iqr, lower, upper)\n",
    "\n",
    "# 결축치, 오류치, 이상치 : 없음"
   ]
  },
  {
   "cell_type": "code",
   "execution_count": 5,
   "id": "a217fd78",
   "metadata": {},
   "outputs": [
    {
     "name": "stdout",
     "output_type": "stream",
     "text": [
      "['Y' 'N']\n",
      "False\n"
     ]
    }
   ],
   "source": [
    "# CCTV설치여부\n",
    "print(pd_data['CCTV설치여부'].unique())\n",
    "print(pd_data['CCTV설치여부'].hasnans)\n",
    "\n",
    "# 결축치, 오류치, 이상치 : 없음"
   ]
  },
  {
   "cell_type": "code",
   "execution_count": 6,
   "id": "82102aa8",
   "metadata": {},
   "outputs": [
    {
     "name": "stdout",
     "output_type": "stream",
     "text": [
      "[ 1. nan  0.  2.  4.  3.  5.  8.  9.]\n",
      "True\n",
      "[1. 0. 2. 4. 3. 5. 8. 9.]\n",
      "False\n"
     ]
    }
   ],
   "source": [
    "# CCTV설치대수\n",
    "print(pd_data['CCTV설치대수'].unique())\n",
    "print(pd_data['CCTV설치대수'].hasnans)\n",
    "\n",
    "# 결측치 : CCTV설치여부가 Y인 값에는 1을 CCTV설치여부가 N인 값에는 0을 넣어주기.\n",
    "filter_y = pd_data['CCTV설치여부'] == 'Y'\n",
    "filter_n = pd_data['CCTV설치여부'] == 'N'\n",
    "\n",
    "# pd_data.loc[filter_y, 'CCTV설치대수'] = pd_data.loc[filter_y, 'CCTV설치대수'].replace(np.NaN, 1)\n",
    "# pd_data.loc[filter_n, 'CCTV설치대수'] = pd_data.loc[filter_n, 'CCTV설치대수'].replace(np.NaN, 0)\n",
    "\n",
    "# 풀이\n",
    "pd_data.loc[filter_y, 'CCTV설치대수'] = pd_data.loc[filter_y, 'CCTV설치대수'].fillna(1.0)\n",
    "pd_data.loc[filter_n, 'CCTV설치대수'] = pd_data.loc[filter_n, 'CCTV설치대수'].fillna(0.0)\n",
    "\n",
    "print(pd_data['CCTV설치대수'].unique())\n",
    "print(pd_data['CCTV설치대수'].hasnans)\n"
   ]
  },
  {
   "cell_type": "code",
   "execution_count": 7,
   "id": "d7fec754",
   "metadata": {},
   "outputs": [
    {
     "name": "stdout",
     "output_type": "stream",
     "text": [
      "[ 3.    6.    7.    8.    9.    0.    7.5   6.5  15.   11.    4.   20.\n",
      " 12.   13.   28.   27.   10.   17.5  24.   25.    5.   14.   16.   19.5\n",
      "  4.75  4.5  21.5  33.   30.   12.5   8.5   9.5  17.   35.   12.1  21.\n",
      "  1.    5.5  18.   23.   36.   15.5  22.    5.2   9.25 29.   34.   16.5\n",
      " 13.5  26.   10.5  22.5  19.    9.75  6.25  7.75 16.75 40.    5.7   8.4\n",
      "  3.5  10.55  2.  ]\n",
      "False\n",
      "count    2518.000000\n",
      "mean        5.259591\n",
      "std         5.846626\n",
      "min         0.000000\n",
      "25%         0.000000\n",
      "50%         6.000000\n",
      "75%         8.000000\n",
      "max        40.000000\n",
      "Name: 보호구역도로폭, dtype: float64\n"
     ]
    },
    {
     "name": "stderr",
     "output_type": "stream",
     "text": [
      "C:\\Users\\ITPS\\AppData\\Local\\Temp\\ipykernel_5552\\4258802984.py:35: SettingWithCopyWarning: \n",
      "A value is trying to be set on a copy of a slice from a DataFrame\n",
      "\n",
      "See the caveats in the documentation: https://pandas.pydata.org/pandas-docs/stable/user_guide/indexing.html#returning-a-view-versus-a-copy\n",
      "  pd_data.fillna(0.0, inplace = True)\n",
      "C:\\Users\\ITPS\\AppData\\Local\\Temp\\ipykernel_5552\\4258802984.py:36: SettingWithCopyWarning: \n",
      "A value is trying to be set on a copy of a slice from a DataFrame.\n",
      "Try using .loc[row_indexer,col_indexer] = value instead\n",
      "\n",
      "See the caveats in the documentation: https://pandas.pydata.org/pandas-docs/stable/user_guide/indexing.html#returning-a-view-versus-a-copy\n",
      "  pd_data['보호구역도로폭'] = pd_data['보호구역도로폭'].apply(fn1)\n"
     ]
    }
   ],
   "source": [
    "# 보호구역도로폭\n",
    "# print(pd_data['보호구역도로폭'].unique())\n",
    "# print(pd_data['보호구역도로폭'].hasnans)\n",
    "\n",
    "# 오류치 : 숫자a~숫자b 형태의 문자열 --> '숫자a'와 '숫자b'의 평균치 (np.float64) 값으로 대체\n",
    "# def myfn1(x):\n",
    "#     if type(x) == type(' '):\n",
    "#         if '~' in x:\n",
    "#             m = np.array(x.split('~')).astype(np.float64).mean()\n",
    "#             return str(m)\n",
    "        \n",
    "# y = pd_data['보호구역도로폭'].apply(myfn1)\n",
    "\n",
    "# # print(pd_data['보호구역도로폭'].isna().value_counts())\n",
    "# y = y.astype(np.float64)\n",
    "\n",
    "# # 결축치 : 전체 도로폭 평균치로 대체\n",
    "\n",
    "# y = y.replace(np.NaN, y.mean())\n",
    "# # print(y.isna().value_counts())\n",
    "# pd_data['보호구역도로폭'] = y\n",
    "\n",
    "# print(pd_data['보호구역도로폭'].unique())\n",
    "# print(pd_data['보호구역도로폭'].hasnans)\n",
    "\n",
    "\n",
    "def fn1 (x):\n",
    "    if (x == np.NaN) or (type(x) == type(1.0)):\n",
    "        return x\n",
    "    if '~' in x:\n",
    "        return np.mean(np.array(x.split('~')).astype(np.float64))\n",
    "    else:\n",
    "        return float(x)\n",
    "    \n",
    "pd_data.fillna(0.0, inplace = True) \n",
    "pd_data['보호구역도로폭'] = pd_data['보호구역도로폭'].apply(fn1)\n",
    "print(pd_data['보호구역도로폭'].unique())\n",
    "print(pd_data['보호구역도로폭'].hasnans)\n",
    "print(pd_data['보호구역도로폭'].describe())"
   ]
  },
  {
   "cell_type": "code",
   "execution_count": 8,
   "id": "c2025b3f",
   "metadata": {},
   "outputs": [
    {
     "name": "stdout",
     "output_type": "stream",
     "text": [
      "count    2518.000000\n",
      "mean        5.259591\n",
      "std         5.846626\n",
      "min         0.000000\n",
      "25%         0.000000\n",
      "50%         6.000000\n",
      "75%         8.000000\n",
      "max        40.000000\n",
      "Name: 보호구역도로폭, dtype: float64\n",
      "-12.0 20.0\n",
      "False    2462\n",
      "True       56\n",
      "Name: 보호구역도로폭, dtype: int64\n",
      "[ 3.    6.    7.    8.    9.    0.    7.5   6.5  15.   11.    4.   20.\n",
      " 12.   13.     nan 10.   17.5   5.   14.   16.   19.5   4.75  4.5  12.5\n",
      "  8.5   9.5  17.   12.1   1.    5.5  18.   15.5   5.2   9.25 16.5  13.5\n",
      " 10.5  19.    9.75  6.25  7.75 16.75  5.7   8.4   3.5  10.55  2.  ]\n",
      "True\n",
      "count    2462.000000\n",
      "mean        4.758184\n",
      "std         4.805244\n",
      "min         0.000000\n",
      "25%         0.000000\n",
      "50%         6.000000\n",
      "75%         8.000000\n",
      "max        20.000000\n",
      "Name: 보호구역도로폭, dtype: float64\n"
     ]
    }
   ],
   "source": [
    "# 이상치: upper 보다 큰 값을 np.NaN으로 교체, 후에 dropna() 이용 셈플 삭제\n",
    "print(pd_data['보호구역도로폭'].describe())\n",
    "q1, q3 = pd_data['보호구역도로폭'].quantile([0.25, 0.75])\n",
    "iqr = q3 - q1\n",
    "upper = q3 + 1.5*iqr\n",
    "lower = q1 - 1.5*iqr\n",
    "print(lower, upper)\n",
    "filter1 = pd_data['보호구역도로폭'] > upper\n",
    "print(filter1.value_counts())\n",
    "pd_data.loc[filter1, '보호구역도로폭'] = np.NaN\n",
    "\n",
    "print(pd_data['보호구역도로폭'].unique())\n",
    "print(pd_data['보호구역도로폭'].hasnans)\n",
    "\n",
    "print(pd_data['보호구역도로폭'].describe())"
   ]
  },
  {
   "cell_type": "code",
   "execution_count": 9,
   "id": "55a3bb64",
   "metadata": {},
   "outputs": [
    {
     "name": "stdout",
     "output_type": "stream",
     "text": [
      "(2518, 5)\n",
      "(2462, 5)\n",
      "        시도명  제한속도 CCTV설치여부  CCTV설치대수  보호구역도로폭\n",
      "0     서울특별시    30        Y       1.0      3.0\n",
      "1      경상북도    30        N       0.0      6.0\n",
      "2      경상북도    30        N       0.0      6.0\n",
      "3      경상북도    30        N       0.0      7.0\n",
      "4      경상북도    30        N       0.0      7.0\n",
      "...     ...   ...      ...       ...      ...\n",
      "2513  대구광역시    30        N       0.0      0.0\n",
      "2514  대구광역시    30        N       0.0      0.0\n",
      "2515  대구광역시    30        N       0.0      0.0\n",
      "2516  대구광역시    30        N       0.0      0.0\n",
      "2517  대구광역시    30        N       0.0      0.0\n",
      "\n",
      "[2462 rows x 5 columns]\n",
      "(2462, 5)\n"
     ]
    }
   ],
   "source": [
    "pd_data_f = pd_data.dropna()\n",
    "print(pd_data.shape)\n",
    "print(pd_data_f.shape)\n",
    "print(pd_data_f)\n",
    "pd_oldway = pd_data_f\n",
    "print(pd_oldway.shape)\n",
    "pd_oldway.to_pickle('pd_oldway')"
   ]
  },
  {
   "cell_type": "code",
   "execution_count": null,
   "id": "9eae51e7",
   "metadata": {},
   "outputs": [],
   "source": [
    "# csv\n",
    "pd_data.to_csv ('전국노인장애인보호구역표준데이터_pass1.csv')"
   ]
  },
  {
   "cell_type": "code",
   "execution_count": null,
   "id": "2080c888",
   "metadata": {},
   "outputs": [],
   "source": [
    "#pickle\n",
    "with open('전국어린이보호구역표준데이터_pass1.pickle', 'wb') as f:\n",
    "    pickle.dump(pd_data, f)"
   ]
  }
 ],
 "metadata": {
  "kernelspec": {
   "display_name": "Python 3 (ipykernel)",
   "language": "python",
   "name": "python3"
  },
  "language_info": {
   "codemirror_mode": {
    "name": "ipython",
    "version": 3
   },
   "file_extension": ".py",
   "mimetype": "text/x-python",
   "name": "python",
   "nbconvert_exporter": "python",
   "pygments_lexer": "ipython3",
   "version": "3.10.9"
  }
 },
 "nbformat": 4,
 "nbformat_minor": 5
}
