{
 "cells": [
  {
   "cell_type": "code",
   "execution_count": 1,
   "id": "f3af4568",
   "metadata": {},
   "outputs": [],
   "source": [
    "# import의 경우 위쪽에 적어준다.\n",
    "import requests\n",
    "import numpy as np\n",
    "\n",
    "x = requests.get(\"https://archive.ics.uci.edu/ml/machine-learning-databases/iris/iris.data\")"
   ]
  },
  {
   "cell_type": "code",
   "execution_count": 2,
   "id": "61d49af0",
   "metadata": {},
   "outputs": [],
   "source": [
    "raw_data = []\n",
    "for line in x.text.split('\\n'):\n",
    "    raw_data.append(line.split(','))\n",
    "\n",
    "for sample in raw_data:\n",
    "    if len(sample)<1:\n",
    "        continue\n",
    "    for i, value in enumerate(sample[:4]):\n",
    "        try:\n",
    "            sample[i] = float(value)\n",
    "        except:\n",
    "            sample[i] = 0.0"
   ]
  },
  {
   "cell_type": "code",
   "execution_count": 3,
   "id": "5b3c4b1e",
   "metadata": {},
   "outputs": [
    {
     "name": "stdout",
     "output_type": "stream",
     "text": [
      "[[5.1, 3.5, 1.4, 0.2, 'Iris-setosa'], [4.9, 3.0, 1.4, 0.2, 'Iris-setosa'], [4.7, 3.2, 1.3, 0.2, 'Iris-setosa']]\n"
     ]
    }
   ],
   "source": [
    "print(raw_data[:3])"
   ]
  },
  {
   "cell_type": "markdown",
   "id": "0cc6f22a",
   "metadata": {},
   "source": [
    "### 문자열 --> 숫자\n",
    "* Iris Setosa --> 0\n",
    "* Iris Versicolour --> 1\n",
    "* Iris Virginica -->2\n",
    "\n",
    "np_data = np.array(raw_data)"
   ]
  },
  {
   "cell_type": "code",
   "execution_count": 7,
   "id": "c1297116",
   "metadata": {},
   "outputs": [],
   "source": [
    "# for sample in raw_data:\n",
    "#     sample[-1] = 0.0\n",
    "# print(raw_data)"
   ]
  },
  {
   "cell_type": "code",
   "execution_count": 4,
   "id": "e91c7276",
   "metadata": {},
   "outputs": [],
   "source": [
    "# 해당 문자열을 포함하고 있는 값을 바꿔주기\n",
    "for sample in raw_data:\n",
    "    if len(sample) < 2:\n",
    "        continue\n",
    "    if 'setosa' in sample[-1]:\n",
    "        sample[-1] = 0.0\n",
    "    elif 'versicolor' in sample[-1]:\n",
    "        sample[-1] = 1.0\n",
    "    elif 'virginica' in sample[-1]:\n",
    "        sample[-1] = 2.0"
   ]
  },
  {
   "cell_type": "code",
   "execution_count": 6,
   "id": "e14eaa5b",
   "metadata": {},
   "outputs": [
    {
     "name": "stdout",
     "output_type": "stream",
     "text": [
      "[5.1, 3.5, 1.4, 0.2, 0.0]\n",
      "[6.4, 3.2, 4.5, 1.5, 1.0]\n",
      "[5.8, 2.7, 5.1, 1.9, 2.0]\n"
     ]
    }
   ],
   "source": [
    "print(raw_data[0])\n",
    "print(raw_data[51])\n",
    "print(raw_data[101])"
   ]
  },
  {
   "cell_type": "code",
   "execution_count": 8,
   "id": "df833337",
   "metadata": {},
   "outputs": [
    {
     "name": "stdout",
     "output_type": "stream",
     "text": [
      "[[5.9, 3.0, 5.1, 1.8, 2.0], [0.0], [0.0]]\n",
      "152\n"
     ]
    }
   ],
   "source": [
    "print(raw_data[-3:])\n",
    "print(len(raw_data))\n",
    "raw_data = raw_data[:150]"
   ]
  },
  {
   "cell_type": "code",
   "execution_count": 9,
   "id": "218fc11b",
   "metadata": {},
   "outputs": [
    {
     "name": "stdout",
     "output_type": "stream",
     "text": [
      "150\n"
     ]
    }
   ],
   "source": [
    "print(len(raw_data))"
   ]
  },
  {
   "cell_type": "code",
   "execution_count": 12,
   "id": "478069e8",
   "metadata": {},
   "outputs": [
    {
     "data": {
      "text/plain": [
       "array([[5.1, 3.5, 1.4, 0.2, 0. ],\n",
       "       [4.9, 3. , 1.4, 0.2, 0. ],\n",
       "       [4.7, 3.2, 1.3, 0.2, 0. ]])"
      ]
     },
     "execution_count": 12,
     "metadata": {},
     "output_type": "execute_result"
    }
   ],
   "source": [
    "np_data = np.array(raw_data)\n",
    "np_data.shape\n",
    "np_data[:3]"
   ]
  },
  {
   "cell_type": "markdown",
   "id": "d8394cf1",
   "metadata": {},
   "source": [
    "### 기본 통계값\n",
    "* 전체(150개 샘플) 평균, 표준편차 - sepal length, sepal width, petal length, petal width\n",
    "* 품종별(50개씩) 평균, 표준편차\n",
    "\n",
    "\n",
    "* 평균 np.mean()\n",
    "* 표준편차 np.std()"
   ]
  },
  {
   "cell_type": "code",
   "execution_count": 42,
   "id": "3d0189d6",
   "metadata": {},
   "outputs": [
    {
     "name": "stdout",
     "output_type": "stream",
     "text": [
      "sepal_length 평균, 표준편차\n",
      "평균:  5.84\n",
      "표준편차:  0.83\n",
      "sepal_width 평균, 표준편차\n",
      "평균:  3.05\n",
      "표준편차:  0.43\n",
      "petal_length 평균, 표준편차\n",
      "평균:  3.76\n",
      "표준편차:  1.76\n",
      "petal_width 평균, 표준편차\n",
      "평균:  1.2\n",
      "표준편차:  0.76\n"
     ]
    }
   ],
   "source": [
    "# 전체 평균, 표준편차\n",
    "print('sepal_length 평균, 표준편차')\n",
    "sepal_length = np_data[:, 0]\n",
    "print('평균: ', round (np.mean(sepal_length),2))\n",
    "print('표준편차: ', round(np.std(sepal_length),2))\n",
    "\n",
    "print('sepal_width 평균, 표준편차')\n",
    "sepal_width = np_data[:, 1]\n",
    "print('평균: ', round(np.mean(sepal_width),2))\n",
    "print('표준편차: ', round(np.std(sepal_width),2))\n",
    "\n",
    "print('petal_length 평균, 표준편차')\n",
    "petal_length = np_data[:, 2]\n",
    "print('평균: ', round(np.mean(petal_length),2))\n",
    "print('표준편차: ', round(np.std(petal_length),2))\n",
    "\n",
    "print('petal_width 평균, 표준편차')\n",
    "petal_width = np_data[:, 3]\n",
    "print('평균: ', round(np.mean(petal_width),2))\n",
    "print('표준편차: ', round(np.std(petal_width),2))"
   ]
  },
  {
   "cell_type": "code",
   "execution_count": 28,
   "id": "f3ce2831",
   "metadata": {},
   "outputs": [
    {
     "name": "stdout",
     "output_type": "stream",
     "text": [
      "setosa의 sepal_length 평균, 표준편차\n",
      "평균:  5.006\n",
      "표준편차:  0.3489469873777391\n",
      "setosa의 sepal_width 평균, 표준편차\n",
      "평균:  3.418\n",
      "표준편차:  0.37719490982779713\n",
      "setosa의 petal_length 평균, 표준편차\n",
      "평균:  1.464\n",
      "표준편차:  0.17176728442867112\n",
      "setosa의 petal_width 평균, 표준편차\n",
      "평균:  0.244\n",
      "표준편차:  0.10613199329137281\n"
     ]
    }
   ],
   "source": [
    "# 'setosa' 평균 및 표준편차\n",
    "filter1 = np_data[:, 4] == 0.0\n",
    "setosa_list = np_data[filter1]\n",
    "# print(setosa_list)\n",
    "\n",
    "print('setosa의 sepal_length 평균, 표준편차')\n",
    "sepal_length = setosa_list[:, 0]\n",
    "print('평균: ', np.mean(sepal_length))\n",
    "print('표준편차: ', np.std(sepal_length))\n",
    "\n",
    "print('setosa의 sepal_width 평균, 표준편차')\n",
    "sepal_width = setosa_list[:, 1]\n",
    "print('평균: ', np.mean(sepal_width))\n",
    "print('표준편차: ', np.std(sepal_width))\n",
    "\n",
    "print('setosa의 petal_length 평균, 표준편차')\n",
    "petal_length = setosa_list[:, 2]\n",
    "print('평균: ', np.mean(petal_length))\n",
    "print('표준편차: ', np.std(petal_length))\n",
    "\n",
    "print('setosa의 petal_width 평균, 표준편차')\n",
    "petal_width = setosa_list[:, 3]\n",
    "print('평균: ', np.mean(petal_width))\n",
    "print('표준편차: ', np.std(petal_width))"
   ]
  },
  {
   "cell_type": "code",
   "execution_count": 31,
   "id": "10e30663",
   "metadata": {},
   "outputs": [
    {
     "name": "stdout",
     "output_type": "stream",
     "text": [
      "versicolor의 sepal_length 평균, 표준편차\n",
      "평균:  5.936\n",
      "표준편차:  0.5109833656783751\n",
      "versicolor의 sepal_width 평균, 표준편차\n",
      "평균:  2.7700000000000005\n",
      "표준편차:  0.31064449134018135\n",
      "versicolor의 petal_length 평균, 표준편차\n",
      "평균:  4.26\n",
      "표준편차:  0.4651881339845203\n",
      "versicolor의 petal_width 평균, 표준편차\n",
      "평균:  1.3259999999999998\n",
      "표준편차:  0.19576516544063705\n"
     ]
    }
   ],
   "source": [
    "# 'versicolor' 평균 및 표준편차\n",
    "filter2 = np_data[:, 4] == 1.0\n",
    "versicolor_list = np_data[filter2]\n",
    "# print(versicolor_list)\n",
    "\n",
    "print('versicolor의 sepal_length 평균, 표준편차')\n",
    "sepal_length = versicolor_list[:, 0]\n",
    "print('평균: ', np.mean(sepal_length))\n",
    "print('표준편차: ', np.std(sepal_length))\n",
    "\n",
    "print('versicolor의 sepal_width 평균, 표준편차')\n",
    "sepal_width = versicolor_list[:, 1]\n",
    "print('평균: ', np.mean(sepal_width))\n",
    "print('표준편차: ', np.std(sepal_width))\n",
    "\n",
    "print('versicolor의 petal_length 평균, 표준편차')\n",
    "petal_length = versicolor_list[:, 2]\n",
    "print('평균: ', np.mean(petal_length))\n",
    "print('표준편차: ', np.std(petal_length))\n",
    "\n",
    "print('versicolor의 petal_width 평균, 표준편차')\n",
    "petal_width = versicolor_list[:, 3]\n",
    "print('평균: ', np.mean(petal_width))\n",
    "print('표준편차: ', np.std(petal_width))"
   ]
  },
  {
   "cell_type": "code",
   "execution_count": 33,
   "id": "89f1520a",
   "metadata": {},
   "outputs": [
    {
     "name": "stdout",
     "output_type": "stream",
     "text": [
      "virginica_list의 sepal_length 평균, 표준편차\n",
      "평균:  6.587999999999998\n",
      "표준편차:  0.6294886813914926\n",
      "virginica_list의 sepal_width 평균, 표준편차\n",
      "평균:  2.974\n",
      "표준편차:  0.3192553836664309\n",
      "virginica_list의 petal_length 평균, 표준편차\n",
      "평균:  5.5520000000000005\n",
      "표준편차:  0.546347874526844\n",
      "virginica_list의 petal_width 평균, 표준편차\n",
      "평균:  2.0260000000000002\n",
      "표준편차:  0.2718896835115301\n"
     ]
    }
   ],
   "source": [
    "# 'virginica' 평균 및 표준편차\n",
    "filter3 = np_data[:, 4] == 2.0\n",
    "virginica_list = np_data[filter3]\n",
    "# print(virginica_list)\n",
    "\n",
    "print('virginica_list의 sepal_length 평균, 표준편차')\n",
    "sepal_length = virginica_list[:, 0]\n",
    "print('평균: ', np.mean(sepal_length))\n",
    "print('표준편차: ', np.std(sepal_length))\n",
    "\n",
    "print('virginica_list의 sepal_width 평균, 표준편차')\n",
    "sepal_width = virginica_list[:, 1]\n",
    "print('평균: ', np.mean(sepal_width))\n",
    "print('표준편차: ', np.std(sepal_width))\n",
    "\n",
    "print('virginica_list의 petal_length 평균, 표준편차')\n",
    "petal_length = virginica_list[:, 2]\n",
    "print('평균: ', np.mean(petal_length))\n",
    "print('표준편차: ', np.std(petal_length))\n",
    "\n",
    "print('virginica_list의 petal_width 평균, 표준편차')\n",
    "petal_width = virginica_list[:, 3]\n",
    "print('평균: ', np.mean(petal_width))\n",
    "print('표준편차: ', np.std(petal_width))"
   ]
  },
  {
   "cell_type": "code",
   "execution_count": 56,
   "id": "82fe2eb4",
   "metadata": {},
   "outputs": [
    {
     "name": "stdout",
     "output_type": "stream",
     "text": [
      "[5.84333333 3.054      3.75866667 1.19866667 1.        ]\n",
      "[0.82530129 0.43214658 1.75852918 0.76061262 0.81649658]\n",
      "[[ 1.         -0.10936925  0.87175416  0.81795363  0.78256123]\n",
      " [-0.10936925  1.         -0.4205161  -0.35654409 -0.4194462 ]\n",
      " [ 0.87175416 -0.4205161   1.          0.9627571   0.94904254]\n",
      " [ 0.81795363 -0.35654409  0.9627571   1.          0.95646382]\n",
      " [ 0.78256123 -0.4194462   0.94904254  0.95646382  1.        ]]\n"
     ]
    }
   ],
   "source": [
    "# 풀이\n",
    "# print(np_data[:3])\n",
    "print(np.mean(np_data, axis = 0))\n",
    "print(np.std(np_data, axis = 0))\n",
    "print(np.corrcoef(np_data.T)) # 상관도"
   ]
  },
  {
   "cell_type": "code",
   "execution_count": 59,
   "id": "fa491a23",
   "metadata": {},
   "outputs": [
    {
     "name": "stdout",
     "output_type": "stream",
     "text": [
      "[5.006 3.418 1.464 0.244 0.   ]\n",
      "[0.34894699 0.37719491 0.17176728 0.10613199 0.        ]\n",
      "[5.936 2.77  4.26  1.326 1.   ]\n",
      "[0.51098337 0.31064449 0.46518813 0.19576517 0.        ]\n"
     ]
    }
   ],
   "source": [
    "filter_setosa = np_data[:, -1] == 0.0\n",
    "filter_versicolor = np_data[:, -1] == 1.0\n",
    "filter_virginica = np_data[:, -1] == 2.0\n",
    "\n",
    "print(np.mean(np_data[filter_setosa], axis = 0))\n",
    "print(np.std(np_data[filter_setosa], axis = 0))\n",
    "\n",
    "print(np.mean(np_data[filter_versicolor], axis = 0))\n",
    "print(np.std(np_data[filter_versicolor], axis = 0))\n",
    "\n",
    "print(np.mean(np_data[filter_virginica], axis = 0))\n",
    "print(np.std(np_data[filter_virginica], axis = 0))"
   ]
  }
 ],
 "metadata": {
  "kernelspec": {
   "display_name": "Python 3 (ipykernel)",
   "language": "python",
   "name": "python3"
  },
  "language_info": {
   "codemirror_mode": {
    "name": "ipython",
    "version": 3
   },
   "file_extension": ".py",
   "mimetype": "text/x-python",
   "name": "python",
   "nbconvert_exporter": "python",
   "pygments_lexer": "ipython3",
   "version": "3.10.9"
  }
 },
 "nbformat": 4,
 "nbformat_minor": 5
}
