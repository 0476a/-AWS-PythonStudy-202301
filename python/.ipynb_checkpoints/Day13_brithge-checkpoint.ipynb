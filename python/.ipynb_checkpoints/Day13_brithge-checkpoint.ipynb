{
 "cells": [
  {
   "cell_type": "markdown",
   "id": "5c3dd586",
   "metadata": {},
   "source": [
    "### 브레인 스토밍 해보기 (필요한 정보 구하기)\n",
    "* 육교를 관리기관 및 각 갯수\n",
    "* 안전등급이 보통, 미흡, 양호의 갯수\n",
    "* 2010년대 이후로 지어진 육교 갯수\n",
    "* 장애인편의 시설 종류와 해당 편의시설의 갯수\n",
    "* 육교들의 총 위도와 경도의 평균 값 구하기\n",
    "* 도로종류가 시도인 육교의 갯수\n",
    "* 내진설계가 되어있는 육교 리스트 출력\n",
    "### 내가 고민한 것"
   ]
  },
  {
   "cell_type": "markdown",
   "id": "39249f28",
   "metadata": {},
   "source": [
    "- 제각각 결측치 있는 샘플은 버림.\n",
    "\n",
    "\n",
    "* 내진설계 된 육교 퍼센트\n",
    "* 안전등급별 육교 갯수, 비율\n",
    "* 육교가 만들어진 연도 vs. 장애인편의시설 간 상관관계\n",
    "   - 연도, 장애인편의시설 갖춘 육교의 갯수 / 해당연도 건설 육교 갯수\n",
    "* 길이가 가장 긴 육교 (육교연장)\n",
    "* 가장 튼튼한 육교 (허용통행하중)\n",
    "* 가장 높은 육교 (통행제한 높이)\n",
    "\n",
    "* 육교 연장, 허용통행하중, 통행제한 높이에 대해\n",
    "* 최대, 최소값, 평균, 표준편차"
   ]
  },
  {
   "cell_type": "code",
   "execution_count": 1,
   "id": "19671734",
   "metadata": {},
   "outputs": [],
   "source": [
    "import numpy as np\n",
    "\n",
    "def my_split(s):\n",
    "    block_start = False\n",
    "    start_index = 0\n",
    "    ret_list=[]\n",
    "    for i, c in enumerate(s):\n",
    "        if block_start==False:\n",
    "            if c==',':\n",
    "                ret_list.append(s[start_index:i])\n",
    "                start_index=i+1\n",
    "            elif c=='\"':\n",
    "                block_start=True\n",
    "                start_index = i\n",
    "        else:\n",
    "            if c=='\"':\n",
    "                block_start=False\n",
    "    if s[-1]!=',':\n",
    "        ret_list.append(s[start_index:])\n",
    "    return ret_list\n",
    "\n",
    "def split_len(data_list):\n",
    "    len_list = []\n",
    "    for e in data_list:\n",
    "        len_list.append(len(e))\n",
    "    print(set(len_list))\n",
    "    if len (set(len_list)) > 1:\n",
    "        for i in set(len_list):\n",
    "            print(i, len_list.count(i))"
   ]
  },
  {
   "cell_type": "code",
   "execution_count": 3,
   "id": "baf0022b",
   "metadata": {},
   "outputs": [
    {
     "name": "stdout",
     "output_type": "stream",
     "text": [
      "[['육교명', '도로종류', '도로노선번호', '도로노선명', '소재지도로명주소', '위도', '경도', '육교연장', '육교높이', '허용통행하중', '통행제한높이', '육교폭', '난간높이', '조명개수', '장애인편의시설설치여부', '장애인편의시설종류', '장애인편의시설수량', '부대시설종류', '부대시설수량', '육교준공일자', '내진설계적용여부', '안전등급', '사용제한구분', '육교보수보강내역', '최종안전점검유형', '최종안전점검일자', '관리기관명', '데이터기준일자', '제공기관코드', '제공기관명\\n'], ['우신초교 앞 보도육교', '시도', '147', '신길로', '서울특별시 영등포구 신길로 190', '37.509263', '126.910801', '23', '4.7', '', '4.5', '3.4', '1', '8', 'Y', '점자블록+핸드레일 촉지판', '24', '', '', '1980-09-18', ' ', '보통', '제한없음', '', '정기점검', '2022-04-16', '서울특별시 영등포구청', '2022-07-04', '3180000', '서울특별시 영등포구\\n'], ['영등포역 횡단 보도육교', '기타', '없음', '경인선', '서울특별시 영등포구 경인로94길 7', '37.513895', '126.903695', '83', '', '0.5', '5.6', '3.2', '1.8', '14', 'Y', '엘리베이터', '', '', '', '1974-12-01', ' ', '보통', '제한없음', '', '정기점검', '2022-04-16', '서울특별시 영등포구청', '2022-07-04', '3180000', '서울특별시 영등포구\\n']]\n",
      "{30}\n"
     ]
    }
   ],
   "source": [
    "# 데이터 정재\n",
    "csv_data = []\n",
    "with open('전국육교정보표준데이터.csv') as f:\n",
    "    for line in f:\n",
    "        csv_data.append(my_split(line))\n",
    "print(csv_data[:3])\n",
    "split_len(csv_data)"
   ]
  },
  {
   "cell_type": "code",
   "execution_count": 4,
   "id": "0d89022f",
   "metadata": {},
   "outputs": [
    {
     "name": "stdout",
     "output_type": "stream",
     "text": [
      "0 육교명\n",
      "1 도로종류\n",
      "2 도로노선번호\n",
      "3 도로노선명\n",
      "4 소재지도로명주소\n",
      "5 위도\n",
      "6 경도\n",
      "7 육교연장\n",
      "8 육교높이\n",
      "9 허용통행하중\n",
      "10 통행제한높이\n",
      "11 육교폭\n",
      "12 난간높이\n",
      "13 조명개수\n",
      "14 장애인편의시설설치여부\n",
      "15 장애인편의시설종류\n",
      "16 장애인편의시설수량\n",
      "17 부대시설종류\n",
      "18 부대시설수량\n",
      "19 육교준공일자\n",
      "20 내진설계적용여부\n",
      "21 안전등급\n",
      "22 사용제한구분\n",
      "23 육교보수보강내역\n",
      "24 최종안전점검유형\n",
      "25 최종안전점검일자\n",
      "26 관리기관명\n",
      "27 데이터기준일자\n",
      "28 제공기관코드\n",
      "29 제공기관명\n",
      "\n"
     ]
    }
   ],
   "source": [
    "# 인덱스 확인\n",
    "for e, i in enumerate(csv_data[0]):\n",
    "    print(e, i)"
   ]
  },
  {
   "cell_type": "code",
   "execution_count": 11,
   "id": "aeff513e",
   "metadata": {},
   "outputs": [
    {
     "name": "stdout",
     "output_type": "stream",
     "text": [
      "[['우신초교 앞 보도육교' '시도' '147' '신길로' '서울특별시 영등포구 신길로 190' '37.509263'\n",
      "  '126.910801' '23' '4.7' '' '4.5' '3.4' '1' '8' 'Y' '점자블록+핸드레일 촉지판' '24'\n",
      "  '' '' '1980-09-18' ' ' '보통' '제한없음' '' '정기점검' '2022-04-16' '서울특별시 영등포구청'\n",
      "  '2022-07-04' '3180000' '서울특별시 영등포구\\n']\n",
      " ['영등포역 횡단 보도육교' '기타' '없음' '경인선' '서울특별시 영등포구 경인로94길 7' '37.513895'\n",
      "  '126.903695' '83' '' '0.5' '5.6' '3.2' '1.8' '14' 'Y' '엘리베이터' '' '' ''\n",
      "  '1974-12-01' ' ' '보통' '제한없음' '' '정기점검' '2022-04-16' '서울특별시 영등포구청'\n",
      "  '2022-07-04' '3180000' '서울특별시 영등포구\\n']\n",
      " ['문래 보도육교' '시도' '245' '서부간선도로' '서울특별시 영등포구 문래로4길 4' '37.520246'\n",
      "  '126.882018' '40' '5.1' '0.5' '4.5' '4' '1.2' '' 'Y' '엘리베이터' '' '' ''\n",
      "  '2006-06-30' 'Y' '양호' '제한없음' '' '정기점검' '2022-04-16' '서울특별시 영등포구청'\n",
      "  '2022-07-04' '3180000' '서울특별시 영등포구\\n']]\n",
      "1218\n"
     ]
    }
   ],
   "source": [
    "# 넘파이 변환\n",
    "csv_np = np.array(csv_data[1:])\n",
    "print(csv_np[:3])\n",
    "csv_len = len(csv_np)\n",
    "print(csv_len)"
   ]
  },
  {
   "cell_type": "code",
   "execution_count": 15,
   "id": "2b283142",
   "metadata": {},
   "outputs": [
    {
     "name": "stdout",
     "output_type": "stream",
     "text": [
      "166\n",
      "내진설계 된 육교 퍼센트: 13.628899835796387 %\n"
     ]
    }
   ],
   "source": [
    "# 내진설계 된 육교 퍼센트\n",
    "filter1 =  csv_np[:, 20] == \"Y\"\n",
    "neagin_len = len(csv_np[filter1])\n",
    "print(neagin_len)\n",
    "print('내진설계 된 육교 퍼센트:',(neagin_len / csv_len) * 100, '%')"
   ]
  },
  {
   "cell_type": "code",
   "execution_count": 24,
   "id": "ffd46c0d",
   "metadata": {},
   "outputs": [
    {
     "name": "stdout",
     "output_type": "stream",
     "text": [
      "등급: ['미흡' '보통' '불량' '양호' '우수']\n",
      "갯수: [ 25 390   1 795   7]\n",
      "비율: [ 2.05254516 32.01970443  0.08210181 65.27093596  0.57471264]\n",
      "안전등급별 육교 갯수: [('양호', 795), ('보통', 390), ('미흡', 25), ('우수', 7), ('불량', 1)]\n",
      "안전등급별 육교 비율: [('양호', 65.27093596059113), ('보통', 32.01970443349754), ('미흡', 2.052545155993432), ('우수', 0.5747126436781609), ('불량', 0.08210180623973727)]\n"
     ]
    }
   ],
   "source": [
    "# 안전등급별 육교 갯수, 비율 \n",
    "grade, counts = np.unique(csv_np[:, 21], return_counts = True)\n",
    "print('등급:', grade)\n",
    "print('갯수:', counts)\n",
    "\n",
    "persent = (counts/csv_len) * 100\n",
    "print('비율:', persent)\n",
    "\n",
    "grade_count = sorted(zip(grade,counts), key = lambda x:x[1], reverse=True)\n",
    "print('안전등급별 육교 갯수:', grade_count)\n",
    "grade_persent = sorted(zip(grade,persent), key = lambda x:x[1], reverse=True)\n",
    "print('안전등급별 육교 비율:',grade_persent)"
   ]
  },
  {
   "cell_type": "code",
   "execution_count": 44,
   "id": "86123885",
   "metadata": {},
   "outputs": [
    {
     "name": "stdout",
     "output_type": "stream",
     "text": [
      "['1980' '1974' '2006' '2006' '2006' '2016' '1978' '2008' '1998' '1997']\n"
     ]
    }
   ],
   "source": [
    "# 비어있는 준공일자 빼고 년도 리스트만 모으기\n",
    "year_list = []\n",
    "filter2 = csv_np[:, 19] != \"\"\n",
    "day_list = csv_np[filter2][:, 19]\n",
    "# print(day_list[:20])\n",
    "for i in day_list:\n",
    "    if '-' in i:\n",
    "        year_list.append(i[:i.index('-')])\n",
    "# print(year_list)\n",
    "np_year = np.array(year_list)\n",
    "print(np_year[:10])"
   ]
  },
  {
   "cell_type": "code",
   "execution_count": 38,
   "id": "1c8594d8",
   "metadata": {},
   "outputs": [
    {
     "name": "stdout",
     "output_type": "stream",
     "text": [
      "[('2022', 3), ('2021', 1), ('2020', 6), ('2019', 3), ('2018', 10), ('2017', 4), ('2016', 19), ('2015', 11), ('2014', 13), ('2013', 9), ('2012', 31), ('2011', 22), ('2010', 28), ('2009', 45), ('2008', 36), ('2007', 24), ('2006', 33), ('2005', 27), ('2004', 26), ('2003', 28), ('2002', 22), ('2001', 26), ('2000', 18), ('1999', 23), ('1998', 44), ('1997', 53), ('1996', 50), ('1995', 23), ('1994', 27), ('1993', 47), ('1992', 47), ('1991', 10), ('1990', 4), ('1989', 7), ('1988', 7), ('1987', 5), ('1986', 8), ('1984', 3), ('1983', 1), ('1982', 2), ('1980', 4), ('1978', 1), ('1977', 3), ('1976', 1), ('1974', 1), ('1972', 1), ('1971', 2), ('1970', 2), ('1968', 1)]\n"
     ]
    }
   ],
   "source": [
    "# 연도 별 육교갯수\n",
    "year, count = np.unique(np_year, return_counts=True)\n",
    "# print(year)\n",
    "# print(count)\n",
    "total_year = sorted(zip(year,count), key = lambda x:x[0], reverse=True)\n",
    "print(total_year)"
   ]
  },
  {
   "cell_type": "code",
   "execution_count": 49,
   "id": "587da892",
   "metadata": {},
   "outputs": [
    {
     "name": "stdout",
     "output_type": "stream",
     "text": [
      "[['우신초교 앞 보도육교' '시도' '147' '신길로' '서울특별시 영등포구 신길로 190' '37.509263'\n",
      "  '126.910801' '23' '4.7' '' '4.5' '3.4' '1' '8' 'Y' '점자블록+핸드레일 촉지판' '24'\n",
      "  '' '' '1980-09-18' ' ' '보통' '제한없음' '' '정기점검' '2022-04-16' '서울특별시 영등포구청'\n",
      "  '2022-07-04' '3180000' '서울특별시 영등포구\\n']\n",
      " ['영등포역 횡단 보도육교' '기타' '없음' '경인선' '서울특별시 영등포구 경인로94길 7' '37.513895'\n",
      "  '126.903695' '83' '' '0.5' '5.6' '3.2' '1.8' '14' 'Y' '엘리베이터' '' '' ''\n",
      "  '1974-12-01' ' ' '보통' '제한없음' '' '정기점검' '2022-04-16' '서울특별시 영등포구청'\n",
      "  '2022-07-04' '3180000' '서울특별시 영등포구\\n']\n",
      " ['문래 보도육교' '시도' '245' '서부간선도로' '서울특별시 영등포구 문래로4길 4' '37.520246'\n",
      "  '126.882018' '40' '5.1' '0.5' '4.5' '4' '1.2' '' 'Y' '엘리베이터' '' '' ''\n",
      "  '2006-06-30' 'Y' '양호' '제한없음' '' '정기점검' '2022-04-16' '서울특별시 영등포구청'\n",
      "  '2022-07-04' '3180000' '서울특별시 영등포구\\n']]\n",
      "['Y' 'Y' 'Y' 'Y' 'Y' 'Y' 'Y' 'Y' 'Y' 'Y' 'Y' 'Y' 'Y' 'Y' 'Y' 'Y' 'Y' 'Y'\n",
      " 'Y' 'Y' 'Y' 'Y' 'Y' 'Y' 'Y' 'Y' 'Y' 'Y' 'Y' 'Y' 'Y' 'Y' 'Y' 'Y' 'Y' 'Y'\n",
      " 'Y' 'Y' 'Y' 'Y' 'Y' 'Y' 'Y' 'Y' 'Y' 'Y' 'Y' 'Y' 'Y' 'Y' 'Y' 'Y' 'Y' 'Y'\n",
      " 'Y' 'Y' 'Y' 'Y' 'Y' 'Y' 'Y' 'Y' 'Y' 'Y' 'Y' 'Y' 'Y' 'Y' 'Y' 'Y' 'Y' 'Y'\n",
      " 'Y' 'Y' 'Y' 'Y' 'Y' 'Y' 'Y' 'Y' 'Y' 'Y' 'Y' 'Y' 'Y' 'Y' 'Y' 'Y' 'Y' 'Y'\n",
      " 'Y' 'Y' 'Y' 'Y' 'Y' 'Y' 'Y' 'Y' 'Y' 'Y' 'Y' 'Y' 'Y' 'Y' 'Y' 'Y' 'Y' 'Y'\n",
      " 'Y' 'Y' 'Y' 'Y' 'Y' 'Y' 'Y' 'Y' 'Y' 'Y' 'Y' 'Y' 'Y' 'Y' 'Y' 'Y' 'Y' 'Y'\n",
      " 'Y' 'Y' 'Y' 'Y' 'Y' 'Y' 'Y' 'Y' 'Y' 'Y' 'Y' 'Y' 'Y' 'Y' 'Y' 'Y' 'Y' 'Y'\n",
      " 'Y' 'Y' 'Y' 'Y' 'Y' 'Y' 'Y' 'Y' 'Y' 'Y' 'Y' 'Y' 'Y' 'Y' 'Y' 'Y' 'Y' 'Y'\n",
      " 'Y' 'Y' 'Y' 'Y' 'Y' 'Y' 'Y' 'Y' 'Y' 'Y' 'Y' 'Y' 'Y' 'Y' 'Y' 'Y' 'Y' 'Y'\n",
      " 'Y' 'Y' 'Y' 'Y' 'Y' 'Y' 'Y' 'Y' 'Y' 'Y' 'Y' 'Y' 'Y' 'Y' 'Y' 'Y' 'Y' 'Y'\n",
      " 'Y' 'Y' 'Y' 'Y' 'Y' 'Y' 'Y' 'Y' 'Y' 'Y' 'Y' 'Y' 'Y' 'Y' 'Y' 'Y' 'Y' 'Y'\n",
      " 'Y' 'Y' 'Y' 'Y' 'Y' 'Y' 'Y' 'Y' 'Y' 'Y' 'Y' 'Y' 'Y' 'Y' 'Y' 'Y' 'Y' 'Y'\n",
      " 'Y' 'Y' 'Y' 'Y' 'Y' 'Y' 'Y' 'Y' 'Y' 'Y' 'Y' 'Y' 'Y' 'Y' 'Y' 'Y' 'Y' 'Y'\n",
      " 'Y' 'Y' 'Y' 'Y' 'Y' 'Y' 'Y' 'Y' 'Y' 'Y' 'Y' 'Y' 'Y' 'Y' 'Y' 'Y' 'Y' 'Y'\n",
      " 'Y' 'Y' 'Y' 'Y' 'Y' 'Y' 'Y' 'Y' 'Y' 'Y' 'Y' 'Y' 'Y' 'Y' 'Y' 'Y' 'Y' 'Y'\n",
      " 'Y' 'Y' 'Y' 'Y' 'Y' 'Y' 'Y' 'Y' 'Y' 'Y' 'Y' 'Y' 'Y' 'Y' 'Y' 'Y' 'Y' 'Y'\n",
      " 'Y' 'Y' 'Y' 'Y' 'Y' 'Y' 'Y' 'Y' 'Y' 'Y' 'Y' 'Y' 'Y' 'Y' 'Y' 'Y' 'Y' 'Y'\n",
      " 'Y' 'Y' 'Y' 'Y' 'Y' 'Y' 'Y' 'Y' 'Y' 'Y' 'Y' 'Y' 'Y' 'Y' 'Y' 'Y' 'Y' 'Y'\n",
      " 'Y' 'Y' 'Y' 'Y' 'Y' 'Y' 'Y' 'Y' 'Y' 'Y' 'Y' 'Y' 'Y' 'Y' 'Y' 'Y' 'Y' 'Y'\n",
      " 'Y' 'Y' 'Y' 'Y' 'Y' 'Y' 'Y' 'Y' 'Y' 'Y' 'Y' 'Y' 'Y' 'Y' 'Y' 'Y' 'Y' 'Y'\n",
      " 'Y' 'Y' 'Y' 'Y' 'Y' 'Y' 'Y' 'Y' 'Y' 'Y' 'Y' 'Y' 'Y' 'Y' 'Y' 'Y' 'Y' 'Y'\n",
      " 'Y' 'Y' 'Y' 'Y' 'Y' 'Y' 'Y' 'Y' 'Y' 'Y' 'Y' 'Y' 'Y' 'Y' 'Y' 'Y' 'Y' 'Y'\n",
      " 'Y' 'Y' 'Y' 'Y' 'Y' 'Y' 'Y' 'Y' 'Y' 'Y' 'Y' 'Y' 'Y' 'Y' 'Y' 'Y' 'Y' 'Y'\n",
      " 'Y' 'Y' 'Y' 'Y' 'Y' 'Y' 'Y' 'Y' 'Y' 'Y' 'Y' 'Y' 'Y' 'Y' 'Y' 'Y' 'Y' 'Y'\n",
      " 'Y' 'Y' 'Y' 'Y' 'Y' 'Y' 'Y' 'Y' 'Y' 'Y']\n"
     ]
    }
   ],
   "source": [
    "day_find_list = csv_np[filter2]\n",
    "print(day_find_list[:3])\n",
    "filter3 = day_find_list[:, 14] == 'Y'\n",
    "print(day_find_list[filter3][:, 14])"
   ]
  }
 ],
 "metadata": {
  "kernelspec": {
   "display_name": "Python 3 (ipykernel)",
   "language": "python",
   "name": "python3"
  },
  "language_info": {
   "codemirror_mode": {
    "name": "ipython",
    "version": 3
   },
   "file_extension": ".py",
   "mimetype": "text/x-python",
   "name": "python",
   "nbconvert_exporter": "python",
   "pygments_lexer": "ipython3",
   "version": "3.10.9"
  }
 },
 "nbformat": 4,
 "nbformat_minor": 5
}
