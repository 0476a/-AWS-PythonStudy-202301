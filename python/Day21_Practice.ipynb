{
 "cells": [
  {
   "cell_type": "markdown",
   "id": "389eb4a0",
   "metadata": {},
   "source": [
    "### 1~3 각 개별 jupyter note에서 전처리 후, pickle 또는 csv저장.\n",
    "\n",
    "1. 전국일방통행도로표준데이터\n",
    "    * 시도명, 지정사유, 지정연도, 도로폭, 도로차로수, 보차분리여부\n",
    "2. 전국어린이보호구역표준데이터 시도명 작업필요\n",
    "    * 시설종류, 관할경찰서명, CCTV설치여부, CCTV설치대수, 제공기관명, 보호구역도로폭\n",
    "3. 전국노인장애인보호구역표준데이터\n",
    "    * 시도명, 제한속도, CCTV설치여부, CCTV설치대수, 보호구역도로폭\n",
    "4. 새로운 jupyter note에서 종합\n",
    "    * 시도명, 어린이보호구역 CCTV 설치대수, 노인장애인보호구역 CCTV 설치대수, 일방통행 보차분리 ycount"
   ]
  },
  {
   "cell_type": "code",
   "execution_count": 1,
   "id": "581c41c7",
   "metadata": {},
   "outputs": [],
   "source": [
    "import numpy as np\n",
    "import pandas as pd\n",
    "import matplotlib.pyplot as plt\n",
    "import pickle"
   ]
  },
  {
   "cell_type": "code",
   "execution_count": 5,
   "id": "950f18f5",
   "metadata": {},
   "outputs": [],
   "source": [
    "pd_kids = pd.read_pickle('pd_kids')\n",
    "pd_oldway = pd.read_pickle('pd_oldway')\n",
    "pd_oneway = pd.read_pickle('pd_oneway')"
   ]
  },
  {
   "cell_type": "code",
   "execution_count": 6,
   "id": "62aeb5d6",
   "metadata": {},
   "outputs": [
    {
     "name": "stdout",
     "output_type": "stream",
     "text": [
      "(13957, 7)\n",
      "(2453, 5)\n",
      "(2103, 6)\n"
     ]
    }
   ],
   "source": [
    "print(pd_kids.shape)\n",
    "print(pd_oldway.shape)\n",
    "print(pd_oneway.shape)"
   ]
  },
  {
   "cell_type": "code",
   "execution_count": 7,
   "id": "41cbfded",
   "metadata": {},
   "outputs": [
    {
     "name": "stdout",
     "output_type": "stream",
     "text": [
      "시설종류         object\n",
      "관할경찰서명       object\n",
      "CCTV설치여부     object\n",
      "CCTV설치대수    float64\n",
      "제공기관명        object\n",
      "보호구역도로폭     float64\n",
      "시도명          object\n",
      "dtype: object\n"
     ]
    }
   ],
   "source": [
    "print(pd_kids.dtypes)"
   ]
  },
  {
   "cell_type": "code",
   "execution_count": 9,
   "id": "9362329c",
   "metadata": {},
   "outputs": [
    {
     "name": "stdout",
     "output_type": "stream",
     "text": [
      "시도명          object\n",
      "제한속도          int64\n",
      "CCTV설치여부     object\n",
      "CCTV설치대수    float64\n",
      "보호구역도로폭     float64\n",
      "dtype: object\n"
     ]
    }
   ],
   "source": [
    "print(pd_oldway.dtypes)"
   ]
  },
  {
   "cell_type": "code",
   "execution_count": 8,
   "id": "bea8270f",
   "metadata": {},
   "outputs": [
    {
     "name": "stdout",
     "output_type": "stream",
     "text": [
      "시도명        object\n",
      "지정사유       object\n",
      "지정연도      float64\n",
      "도로폭       float64\n",
      "도로차로수     float64\n",
      "보차분리여부     object\n",
      "dtype: object\n"
     ]
    }
   ],
   "source": [
    "print(pd_oneway.dtypes)"
   ]
  }
 ],
 "metadata": {
  "kernelspec": {
   "display_name": "Python 3 (ipykernel)",
   "language": "python",
   "name": "python3"
  },
  "language_info": {
   "codemirror_mode": {
    "name": "ipython",
    "version": 3
   },
   "file_extension": ".py",
   "mimetype": "text/x-python",
   "name": "python",
   "nbconvert_exporter": "python",
   "pygments_lexer": "ipython3",
   "version": "3.10.9"
  }
 },
 "nbformat": 4,
 "nbformat_minor": 5
}
