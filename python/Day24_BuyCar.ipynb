{
 "cells": [
  {
   "cell_type": "markdown",
   "id": "2b2c6d68",
   "metadata": {},
   "source": [
    "### 자동차 만족도 조사\n",
    "* 안전도가 high 이상일 때 구매가와 만족도의 구성비\n",
    "* 유지비용이 high 이상일 때 구매가와 만족도의 구성비\n",
    "* 만족도가 high 이상일 때 구매가의 구성비\n",
    "* 탑승인원이 4명이상일 때 안전도의 구성비와 탑승인원이 4명미만일 때 안전도의 구성비 비교\n",
    "### 내가 생각한거"
   ]
  },
  {
   "cell_type": "code",
   "execution_count": 15,
   "id": "8113bed6",
   "metadata": {},
   "outputs": [
    {
     "name": "stdout",
     "output_type": "stream",
     "text": [
      "(1728, 7)\n"
     ]
    },
    {
     "data": {
      "text/html": [
       "<div>\n",
       "<style scoped>\n",
       "    .dataframe tbody tr th:only-of-type {\n",
       "        vertical-align: middle;\n",
       "    }\n",
       "\n",
       "    .dataframe tbody tr th {\n",
       "        vertical-align: top;\n",
       "    }\n",
       "\n",
       "    .dataframe thead th {\n",
       "        text-align: right;\n",
       "    }\n",
       "</style>\n",
       "<table border=\"1\" class=\"dataframe\">\n",
       "  <thead>\n",
       "    <tr style=\"text-align: right;\">\n",
       "      <th></th>\n",
       "      <th>구매가</th>\n",
       "      <th>유지비용</th>\n",
       "      <th>문갯수</th>\n",
       "      <th>탑승인원</th>\n",
       "      <th>수납공간</th>\n",
       "      <th>안전도</th>\n",
       "      <th>만족도</th>\n",
       "    </tr>\n",
       "  </thead>\n",
       "  <tbody>\n",
       "    <tr>\n",
       "      <th>0</th>\n",
       "      <td>vhigh</td>\n",
       "      <td>vhigh</td>\n",
       "      <td>2</td>\n",
       "      <td>2</td>\n",
       "      <td>small</td>\n",
       "      <td>low</td>\n",
       "      <td>unacc</td>\n",
       "    </tr>\n",
       "    <tr>\n",
       "      <th>1</th>\n",
       "      <td>vhigh</td>\n",
       "      <td>vhigh</td>\n",
       "      <td>2</td>\n",
       "      <td>2</td>\n",
       "      <td>small</td>\n",
       "      <td>med</td>\n",
       "      <td>unacc</td>\n",
       "    </tr>\n",
       "    <tr>\n",
       "      <th>2</th>\n",
       "      <td>vhigh</td>\n",
       "      <td>vhigh</td>\n",
       "      <td>2</td>\n",
       "      <td>2</td>\n",
       "      <td>small</td>\n",
       "      <td>high</td>\n",
       "      <td>unacc</td>\n",
       "    </tr>\n",
       "    <tr>\n",
       "      <th>3</th>\n",
       "      <td>vhigh</td>\n",
       "      <td>vhigh</td>\n",
       "      <td>2</td>\n",
       "      <td>2</td>\n",
       "      <td>med</td>\n",
       "      <td>low</td>\n",
       "      <td>unacc</td>\n",
       "    </tr>\n",
       "    <tr>\n",
       "      <th>4</th>\n",
       "      <td>vhigh</td>\n",
       "      <td>vhigh</td>\n",
       "      <td>2</td>\n",
       "      <td>2</td>\n",
       "      <td>med</td>\n",
       "      <td>med</td>\n",
       "      <td>unacc</td>\n",
       "    </tr>\n",
       "  </tbody>\n",
       "</table>\n",
       "</div>"
      ],
      "text/plain": [
       "     구매가   유지비용 문갯수 탑승인원   수납공간   안전도    만족도\n",
       "0  vhigh  vhigh   2    2  small   low  unacc\n",
       "1  vhigh  vhigh   2    2  small   med  unacc\n",
       "2  vhigh  vhigh   2    2  small  high  unacc\n",
       "3  vhigh  vhigh   2    2    med   low  unacc\n",
       "4  vhigh  vhigh   2    2    med   med  unacc"
      ]
     },
     "execution_count": 15,
     "metadata": {},
     "output_type": "execute_result"
    }
   ],
   "source": [
    "import numpy as np\n",
    "import pandas as pd\n",
    "import matplotlib.pyplot as plt\n",
    "import matplotlib\n",
    "\n",
    "current_font_list = matplotlib.rcParams['font.family']\n",
    "\n",
    "font_path = \"C:\\Windows\\Fonts\\gulim.ttc\"\n",
    "kfont = matplotlib.font_manager.FontProperties(fname=font_path).get_name()\n",
    "matplotlib.rcParams['font.family'] = [kfont] + current_font_list\n",
    "\n",
    "url = 'https://archive.ics.uci.edu/ml/machine-learning-databases/car/car.data'\n",
    "pd_data = pd.read_csv(url, header = None)\n",
    "pd_data.columns = ['구매가', '유지비용', '문갯수', '탑승인원', '수납공간', '안전도', '만족도']\n",
    "print(pd_data.shape)\n",
    "pd_data.head()"
   ]
  },
  {
   "cell_type": "markdown",
   "id": "ce13da55",
   "metadata": {},
   "source": [
    "* 구매가가 만족도에 미치는 영향\n",
    "    - figure를 좌우로 나누어, 왼쪽은 구매가vs.만족도 산점도, 오른쪽은 아래위로 분할, 위쪽은 구매가 vhigh 중 만족도별 count, 아래쪽은 구매가 low중 만족도별 count (bar)\n",
    "* 수납공간이 크면 탑승인원도 많은가."
   ]
  },
  {
   "cell_type": "code",
   "execution_count": 23,
   "id": "fa1260f8",
   "metadata": {},
   "outputs": [
    {
     "name": "stdout",
     "output_type": "stream",
     "text": [
      "vhigh    432\n",
      "high     432\n",
      "med      432\n",
      "low      432\n",
      "Name: 구매가, dtype: int64\n",
      "unacc    1210\n",
      "acc       384\n",
      "good       69\n",
      "vgood      65\n",
      "Name: 만족도, dtype: int64\n"
     ]
    }
   ],
   "source": [
    "print(pd_data['구매가'].value_counts())\n",
    "print(pd_data['만족도'].value_counts())"
   ]
  },
  {
   "cell_type": "code",
   "execution_count": 35,
   "id": "cef3cf76",
   "metadata": {},
   "outputs": [
    {
     "data": {
      "text/plain": [
       "<matplotlib.collections.PathCollection at 0x224eaf56a10>"
      ]
     },
     "execution_count": 35,
     "metadata": {},
     "output_type": "execute_result"
    },
    {
     "data": {
      "image/png": "[encoded data removed]",
      "text/plain": [
       "<Figure size 640x480 with 3 Axes>"
      ]
     },
     "metadata": {},
     "output_type": "display_data"
    }
   ],
   "source": [
    "fig = plt.figure()\n",
    "buy_axe = fig.add_subplot(1,2,1)\n",
    "hight_axe = fig.add_subplot(2,2,2)\n",
    "low_axe = fig.add_subplot(2,2,4)\n",
    "\n",
    "\n",
    "\n",
    "buy_axe.scatter(pd_data['구매가'], pd_data['만족도'])\n",
    "hight_axe.plot\n",
    "# buy_axe.scatter(pd_data.loc[[filter1, pd_data['구매가']]].value_counts(), pd_data['만족도'].value_counts())\n"
   ]
  }
 ],
 "metadata": {
  "kernelspec": {
   "display_name": "Python 3 (ipykernel)",
   "language": "python",
   "name": "python3"
  },
  "language_info": {
   "codemirror_mode": {
    "name": "ipython",
    "version": 3
   },
   "file_extension": ".py",
   "mimetype": "text/x-python",
   "name": "python",
   "nbconvert_exporter": "python",
   "pygments_lexer": "ipython3",
   "version": "3.10.9"
  }
 },
 "nbformat": 4,
 "nbformat_minor": 5
}
