{
 "cells": [
  {
   "cell_type": "code",
   "execution_count": 1,
   "id": "e1176d1e",
   "metadata": {},
   "outputs": [],
   "source": [
    "def my_sq_prod(number_list):\n",
    "    return_value = 1\n",
    "    for number in number_list:\n",
    "        return_value = return_value * number**2\n",
    "    return return_value\n",
    "\n",
    "assert my_sq_prod([1,2,3]) == 36"
   ]
  },
  {
   "cell_type": "code",
   "execution_count": 2,
   "id": "87ccf5b4",
   "metadata": {},
   "outputs": [],
   "source": [
    "import math\n",
    "\n",
    "def my_sq_prod(python_list):\n",
    "    return_list = []\n",
    "    return_value = 1\n",
    "    for a in python_list:\n",
    "        return_list.append(a**2)\n",
    "    return(math.prod(return_list))\n",
    "        \n",
    "assert my_sq_prod([1,2,3]) == 36"
   ]
  },
  {
   "cell_type": "code",
   "execution_count": 3,
   "id": "a0fa0e1d",
   "metadata": {},
   "outputs": [],
   "source": [
    "import numpy as np\n",
    "import math\n",
    "\n",
    "def my_sq_prod3(numpy_ndarray):\n",
    "    return_value = 1\n",
    "    return_value = numpy_ndarray**2\n",
    "    return (math.prod(return_value))\n",
    "\n",
    "assert my_sq_prod3(np.array([4,5,6])) == 14400"
   ]
  },
  {
   "cell_type": "code",
   "execution_count": 4,
   "id": "118dbbac",
   "metadata": {},
   "outputs": [],
   "source": [
    "def score_check():\n",
    "    score = 0\n",
    "    if my_sq_prod([1,2,3])==36:\n",
    "        score += 30\n",
    "    print(score)"
   ]
  },
  {
   "cell_type": "code",
   "execution_count": 23,
   "id": "24887128",
   "metadata": {},
   "outputs": [
    {
     "name": "stdout",
     "output_type": "stream",
     "text": [
      "30\n"
     ]
    }
   ],
   "source": [
    "!python 성명.py"
   ]
  },
  {
   "cell_type": "code",
   "execution_count": 24,
   "id": "ccdd73f8",
   "metadata": {},
   "outputs": [],
   "source": [
    "def my_sq_prod(number_list):\n",
    "\n",
    "    return_value = 1\n",
    "\n",
    "    for number in number_list:\n",
    "\n",
    "        return_value = return_value * number**2\n",
    "\n",
    "    return return_value\n",
    "\n",
    "\n",
    "\n",
    "assert my_sq_prod([1,2,3]) == 36"
   ]
  },
  {
   "cell_type": "code",
   "execution_count": 25,
   "id": "f2ecfa08",
   "metadata": {},
   "outputs": [],
   "source": [
    "import math\n",
    "\n",
    "\n",
    "\n",
    "def my_sq_prod(python_list):\n",
    "\n",
    "    return_list = []\n",
    "\n",
    "    return_value = 1\n",
    "\n",
    "    for a in python_list:\n",
    "\n",
    "        return_list.append(a**2)\n",
    "\n",
    "    return(math.prod(return_list))\n",
    "\n",
    "assert my_sq_prod([1,2,3]) == 36"
   ]
  },
  {
   "cell_type": "code",
   "execution_count": 26,
   "id": "a20e9040",
   "metadata": {},
   "outputs": [],
   "source": [
    "import numpy as np\n",
    "\n",
    "import math\n",
    "\n",
    "\n",
    "\n",
    "def my_sq_prod3(numpy_ndarray):\n",
    "\n",
    "    return_value = 1\n",
    "\n",
    "    return_value = numpy_ndarray**2\n",
    "\n",
    "    return (math.prod(return_value))\n",
    "\n",
    "\n",
    "\n",
    "assert my_sq_prod3(np.array([4,5,6])) == 14400"
   ]
  },
  {
   "cell_type": "code",
   "execution_count": 27,
   "id": "c708f003",
   "metadata": {},
   "outputs": [
    {
     "name": "stdout",
     "output_type": "stream",
     "text": [
      "30\n"
     ]
    }
   ],
   "source": [
    "!python 성명.py"
   ]
  }
 ],
 "metadata": {
  "kernelspec": {
   "display_name": "Python 3 (ipykernel)",
   "language": "python",
   "name": "python3"
  },
  "language_info": {
   "codemirror_mode": {
    "name": "ipython",
    "version": 3
   },
   "file_extension": ".py",
   "mimetype": "text/x-python",
   "name": "python",
   "nbconvert_exporter": "python",
   "pygments_lexer": "ipython3",
   "version": "3.10.9"
  }
 },
 "nbformat": 4,
 "nbformat_minor": 5
}
