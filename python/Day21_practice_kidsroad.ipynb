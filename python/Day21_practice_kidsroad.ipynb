{
 "cells": [
  {
   "cell_type": "code",
   "execution_count": 1,
   "id": "2e6e2759",
   "metadata": {},
   "outputs": [],
   "source": [
    "import numpy as np\n",
    "import pandas as pd\n",
    "import matplotlib.pyplot as plt\n",
    "import pickle\n",
    "\n",
    "pd_raw = pd.read_csv('전국어린이보호구역표준데이터.csv', encoding='cp949')\n",
    "\n",
    "col_selection = ['시설종류', '관할경찰서명', 'CCTV설치여부', 'CCTV설치대수', '제공기관명', '보호구역도로폭']\n",
    "pd_data = pd_raw[col_selection]"
   ]
  },
  {
   "cell_type": "code",
   "execution_count": 2,
   "id": "d7816d2c",
   "metadata": {},
   "outputs": [
    {
     "name": "stdout",
     "output_type": "stream",
     "text": [
      "(15056, 6)\n",
      "시설종류         object\n",
      "관할경찰서명       object\n",
      "CCTV설치여부     object\n",
      "CCTV설치대수    float64\n",
      "제공기관명        object\n",
      "보호구역도로폭      object\n",
      "dtype: object\n",
      "시설종류 \t False\n",
      "관할경찰서명 \t False\n",
      "CCTV설치여부 \t False\n",
      "CCTV설치대수 \t True\n",
      "제공기관명 \t False\n",
      "보호구역도로폭 \t True\n"
     ]
    }
   ],
   "source": [
    "print(pd_data.shape)\n",
    "print(pd_data.dtypes)\n",
    "for e in pd_data:\n",
    "    print(e, '\\t', pd_data[e].hasnans)"
   ]
  },
  {
   "cell_type": "code",
   "execution_count": 3,
   "id": "77902d9d",
   "metadata": {},
   "outputs": [
    {
     "name": "stdout",
     "output_type": "stream",
     "text": [
      "['유치원' '초등학교' '어린이집' '특수학교' '학원' '외국인학교' '대안학교' '국제학교' '외국인교육기관'\n",
      " '초등학교+어린이집']\n",
      "False\n"
     ]
    }
   ],
   "source": [
    "# 시설종류\n",
    "print(pd_data['시설종류'].unique())\n",
    "print(pd_data['시설종류'].hasnans)\n",
    "\n",
    "# 결측치, 오류치, 이상치: 없음"
   ]
  },
  {
   "cell_type": "code",
   "execution_count": 4,
   "id": "2876bbea",
   "metadata": {},
   "outputs": [
    {
     "name": "stdout",
     "output_type": "stream",
     "text": [
      "['고창경찰서' '보령경찰서' '인천서부경찰서' '남동경찰서' '구미경찰서' '대전광역시 동부경찰서' '양산경찰서' '안산상록경찰서'\n",
      " '파주경찰서' '대전광역시 중부경찰서' '화성동탄경찰서' '군포경찰서' '광주경찰서' '부산강서경찰서' '양천경찰서' '합천경찰서'\n",
      " '속초경찰서' '전주완산경찰서' '전주덕진경찰서' '순천경찰서' '서산경찰서' '부산중부경찰서' '대전광역시 대덕경찰서'\n",
      " '이천경찰서' '서초경찰서' '평창경찰서' '진천경찰서' '대전유성경찰서' '세종남부경찰서' '동해경찰서' '시흥경찰서'\n",
      " '경기도 수원시 남부경찰서' '금산경찰서' '경산경찰서' '원주경찰서' '용산경찰서' '강북경찰서' '부천원미경찰서' '부평경찰서'\n",
      " '삼산경찰서' '연수경찰서' '대구광역시 성서경찰서' '남양주북부경찰서' '남양주남부경찰서' '동대문경찰서' '동작경찰서'\n",
      " '서울중부경찰서' '서울남대문경찰서' '영덕경찰서' '강동경찰서' '일산서부경찰서' '문경경찰서' '세종북부경찰서' '만안경찰서'\n",
      " '동안경찰서' '서부경찰서' '곡성경찰서' '용인동부경찰서' '북부경찰서' '홍성경찰서' '충남논산경찰서' '사상경찰서'\n",
      " '무주경찰서' '울진경찰서' '광주광역시 북부경찰서' '광진경찰서' '횡성경찰서' '용인서부경찰서' '연제경찰서' '수서경찰서'\n",
      " '강남경찰서' '충청북도 보은경찰서' '영동경찰서' '영등포경찰서' '동두천경찰서' '마포경찰서' '도봉경찰서' '완주경찰서'\n",
      " '금천경찰서' '부천소사경찰서' '부천오정경찰서' '서울관악경찰서' '광명경찰서' '보성경찰서' '과천경찰서' '진주경찰서'\n",
      " '사하경찰서' '청송경찰서' '부산광역시 해운대경찰서' '강화경찰서' '남해경찰서' '장흥경찰서' '광양경찰서' '인천중부경찰서'\n",
      " '부산북부경찰서' '익산경찰서' '경기도 수원시 서부경찰서' '경기도 수원시 중부경찰서' '창원서부경찰서' '창원중부경찰서'\n",
      " '거창경찰서' '순창경찰서' '전라남도 영광경찰서' '대구광역시 중부경찰서' '진해경찰서' '마산서부경찰서' '중랑경찰서'\n",
      " '태백경찰서' '마산중부경찰서' '밀양경찰서' '완도경찰서' '김천경찰서' '함평경찰서' '부산광역시 남부경찰서' '포천경찰서'\n",
      " '울릉경찰서' '경상북도 상주경찰서' '부산진경찰서' '영천경찰서' '예산경찰서' '사천경찰서' '통영경찰서'\n",
      " '경상북도 의성경찰서' '하동경찰서' '장수경찰서' '정선경찰서' '고성경찰서' '광주광역시 동부경찰서' '의령경찰서'\n",
      " '김해중부경찰서' '김해서부경찰서' '함양경찰서' '산청경찰서' '창녕경찰서' '삼척경찰서' '울산북부경찰서' '거제경찰서'\n",
      " '마산동부경찰서' '함안경찰서' '광산경찰서' '서천경찰서' '남원경찰서' '남부경찰서' '장성경찰서' '달성경찰서' '철원경찰서'\n",
      " '옥천경찰서' '부여경찰서' '대전동부경찰서' '대전중부경찰서' '홍천경찰서' '화순경철서경찰서' '가평경찰서'\n",
      " '강원도 화천경찰서' '임실경찰서' '경기도 하남경찰서' '제주서귀포경찰서' '진안경찰서' '제주동부경찰서' '제주서부경찰서'\n",
      " '영주경찰서' '영양경찰서' '대구동부경찰서' '고령경찰서' '김포경찰서' '초량지구대' '자성대파출소' '수성지구대'\n",
      " '좌천파출소' '혜화경찰서' '천안동남경찰서' '안동경찰서' '제천경찰서' '영암경찰서' '천안서북경찰서' '부안경찰서'\n",
      " '공주경찰서' '안산단원경찰서' '춘천경찰서' '괴산경찰서' '고양경찰서' '일산동부경찰서' '울산중부경찰서' '동래경찰서'\n",
      " '둔산경찰서' '목포경찰서' '금정경찰서' '인제경찰서' '대구수성경찰서' '오산경찰서' '서울특별시 강서경찰서'\n",
      " '대구광역시 달서경찰서' '서울특별시 성북경찰서' '서울특별시 종암경찰서' '종로경찰서' '울주경찰서' '청도경찰서' '구리경찰서'\n",
      " '태안경찰서' '평택경찰서' '여주경찰서' '의왕경찰서' '전라남도 해남경찰서' '화성서부경찰서' '의정부경찰서' '정읍경찰서'\n",
      " '구로경찰서' '충주경찰서' '논현경찰서' '강릉경찰서' '양주경찰서' '서울특별시 서대문경찰서' '미추홀경찰서' '성동경찰서'\n",
      " '노원경찰서' '강진경찰서' '담양경찰서' '군산경찰서' '진도경찰서' '울산동부경찰서' '기장경찰서' '나주경찰서' '분당경찰서'\n",
      " '성남수정경찰서' '성남 중원 경찰서' '성남중원경찰서' '대전서부경찰서' '경주경찰서' '연천경찰서' '봉화경찰서' '영도경찰서'\n",
      " '충청북도 단양경찰서' '예천경찰서' '세종경찰서' '논산경찰서' '충남청양경찰서' '영월경찰서' '안성경찰서' '은평경찰서'\n",
      " '군위경찰서' '방배경찰서' '고흥경찰서' '여수경찰서' '인천광역시 계양경찰서' '양평경찰서' '아산경찰서' '무안경찰서'\n",
      " '포항북부 경찰서' '포항남부 경찰서' '포항남부경찰서' '포항북부경찰서' '경상북도 포항북부경찰서' '경상북도 포항남부경찰서'\n",
      " '성주경찰서' '청원경찰서' '흥덕경찰서' '상당경찰서' '칠곡경찰서' '송파경찰서' '대전둔산경찰서' '대전대덕경찰서'\n",
      " '양구경찰서']\n",
      "False\n"
     ]
    },
    {
     "name": "stderr",
     "output_type": "stream",
     "text": [
      "C:\\Users\\ITPS\\AppData\\Local\\Temp\\ipykernel_10692\\3287676014.py:19: SettingWithCopyWarning: \n",
      "A value is trying to be set on a copy of a slice from a DataFrame.\n",
      "Try using .loc[row_indexer,col_indexer] = value instead\n",
      "\n",
      "See the caveats in the documentation: https://pandas.pydata.org/pandas-docs/stable/user_guide/indexing.html#returning-a-view-versus-a-copy\n",
      "  pd_data.loc[:, '관할경찰서명'] = pd_data.loc[:, '관할경찰서명'].apply(e1)\n"
     ]
    }
   ],
   "source": [
    "# 관할경찰서명\n",
    "# print(pd_data['관할경찰서명'].unique())\n",
    "# print(pd_data['관할경찰서명'].hasnans)\n",
    "\n",
    "# 결측치, 이상치: 없음\n",
    "\n",
    "# 오류치: 경찰서가 빠져있는 곳이 있음 -> 경찰서를 넣어줌.\n",
    "def e1(x):\n",
    "    if '지구대' in x:\n",
    "        return x\n",
    "    elif '파출소' in x:\n",
    "        return x\n",
    "    elif '경찰서' in x:\n",
    "        return x\n",
    "    else:\n",
    "        return x + '경찰서'\n",
    "    \n",
    "\n",
    "pd_data.loc[:, '관할경찰서명'] = pd_data.loc[:, '관할경찰서명'].apply(e1)\n",
    "\n",
    "\n",
    "print(pd_data['관할경찰서명'].unique())\n",
    "print(pd_data['관할경찰서명'].hasnans)"
   ]
  },
  {
   "cell_type": "code",
   "execution_count": 5,
   "id": "67fc84d1",
   "metadata": {},
   "outputs": [
    {
     "name": "stdout",
     "output_type": "stream",
     "text": [
      "['Y' 'N']\n",
      "False\n"
     ]
    }
   ],
   "source": [
    "# CCTV설치여부\n",
    "print(pd_data['CCTV설치여부'].unique())\n",
    "print(pd_data['CCTV설치여부'].hasnans)\n",
    "\n",
    "# 결측치, 오류치, 이상치: 없음"
   ]
  },
  {
   "cell_type": "code",
   "execution_count": 6,
   "id": "6db034df",
   "metadata": {},
   "outputs": [
    {
     "name": "stdout",
     "output_type": "stream",
     "text": [
      "[nan  2.  3.  5.  4.  6.  1.  0.  7. 24. 10.  9. 14.  8. 11. 20. 19. 18.\n",
      " 15. 12. 34. 13. 36. 17. 23. 46. 21. 16. 22. 28. 26. 29. 32. 35.]\n",
      "True\n",
      "[ 1.  2.  3.  5.  4.  6.  0.  7. 24. 10.  9. 14.  8. 11. 20. 19. 18. 15.\n",
      " 12. 34. 13. 36. 17. 23. 46. 21. 16. 22. 28. 26. 29. 32. 35.]\n",
      "False\n"
     ]
    }
   ],
   "source": [
    "# CCTV설치대수\n",
    "print(pd_data['CCTV설치대수'].unique())\n",
    "print(pd_data['CCTV설치대수'].hasnans)\n",
    "\n",
    "# 결측치 : CCTV설치여부가 Y인 값에는 1을 CCTV설치여부가 N인 값에는 0을 넣어주기.\n",
    "filter_y = pd_data['CCTV설치여부'] == 'Y'\n",
    "filter_n = pd_data['CCTV설치여부'] == 'N'\n",
    "\n",
    "pd_data.loc[filter_y, 'CCTV설치대수'] = pd_data.loc[filter_y, 'CCTV설치대수'].replace(np.NaN, 1)\n",
    "pd_data.loc[filter_n, 'CCTV설치대수'] = pd_data.loc[filter_n, 'CCTV설치대수'].replace(np.NaN, 0)\n",
    "\n",
    "print(pd_data['CCTV설치대수'].unique())\n",
    "print(pd_data['CCTV설치대수'].hasnans)\n",
    "\n",
    "# 오류치, 이상치: 없음"
   ]
  },
  {
   "cell_type": "code",
   "execution_count": 7,
   "id": "30d8408b",
   "metadata": {},
   "outputs": [
    {
     "name": "stdout",
     "output_type": "stream",
     "text": [
      "['전라북도 고창군' '충청남도 보령시' '인천광역시 서구' '인천광역시 남동구' '경상북도 구미시' '대전광역시 동구'\n",
      " '경상남도 양산시' '경기도 안산시' '경기도 파주시' '대전광역시 중구' '경기도 화성시' '경기도 군포시' '경기도 광주시'\n",
      " '부산광역시 강서구' '서울특별시 양천구' '경상남도 합천군' '강원도 속초시' '전라북도 전주시' '전라남도 순천시'\n",
      " '충청남도 서산시' '강원도 양양군' '부산광역시 중구' '대전광역시 대덕구' '경기도 이천시' '서울특별시 서초구'\n",
      " '강원도 평창군' '충청북도 진천군' '대전광역시 유성구' '세종특별자치시' '강원도 동해시' '경기도 시흥시' '경기도 수원시'\n",
      " '충청남도 금산군' '경상북도 경산시' '강원도 원주시' '서울특별시 용산구' '서울특별시 강북구' '경기도 부천시'\n",
      " '인천광역시 부평구' '인천광역시 연수구' '대구광역시 달서구' '경기도 남양주시' '서울특별시 동대문구' '서울특별시 동작구'\n",
      " '서울특별시 중구' '경상북도 영덕군' '서울특별시 강동구' '경기도 고양시' '경상북도 문경시' '경기도 안양시'\n",
      " '부산광역시 서구' '전라남도 곡성군' '경기도 용인시' '대구광역시 북구' '충청남도 홍성군' '충청남도 논산시'\n",
      " '광주광역시 서구' '부산광역시 사상구' '전라북도 무주군' '경상북도 울진군' '광주광역시 북구' '서울특별시 광진구'\n",
      " '강원도 횡성군' '부산광역시 연제구' '서울특별시 강남구' '충청북도 보은군' '충청북도 영동군' '서울특별시 영등포구'\n",
      " '경기도 동두천시' '서울특별시 마포구' '서울특별시 도봉구' '전라북도 완주군' '서울특별시 금천구' '서울특별시 관악구'\n",
      " '경기도 광명시' '전라남도 보성군' '경기도 과천시' '경상남도 진주시' '부산광역시 사하구' '경상북도 청송군'\n",
      " '부산광역시 해운대구' '인천광역시 강화군' '경상남도 남해군' '전라남도 장흥군' '전라남도 광양시' '인천광역시 동구'\n",
      " '부산광역시 북구' '전라북도 익산시' '경상남도 창원시' '경상남도 거창군' '전라북도 순창군' '전라남도 영광군'\n",
      " '대구광역시 중구' '서울특별시 중랑구' '강원도 태백시' '경상남도 밀양시' '전라남도 완도군' '경상북도 김천시'\n",
      " '전라남도 함평군' '부산광역시 남구' '경기도 포천시' '경상북도 울릉군' '경상북도 상주시' '부산광역시 부산진구'\n",
      " '경상북도 영천시' '충청남도 예산군' '경상남도' '경상북도 의성군' '전라북도 장수군' '강원도 정선군' '광주광역시 동구'\n",
      " '경상남도 창녕군' '강원도 삼척시' '울산광역시 북구' '광주광역시 광산구' '충청남도 서천군' '전라북도 남원시'\n",
      " '울산광역시 남구' '전라남도 장성군' '대구광역시 달성군' '강원도 철원군' '충청북도 옥천군' '충청남도 부여군'\n",
      " '경상남도 김해시' '대전광역시' '강원도 고성군' '강원도 홍천군' '전라남도 화순군' '경기도 가평군' '경상남도 사천시'\n",
      " '강원도 화천군' '전라북도 임실군' '대구광역시 서구' '경기도 하남시' '경상남도 통영시' '경상남도 의령군' '제주특별자치도'\n",
      " '전라북도 진안군' '경상북도 영주시' '경상북도 영양군' '대구광역시 동구' '경상북도 고령군' '경기도 김포시'\n",
      " '부산광역시 동구' '서울특별시 종로구' '충청남도 천안시' '경상북도 안동시' '충청북도 제천시' '전라남도 영암군'\n",
      " '대전광역시 서구' '전라북도 부안군' '충청남도 공주시' '강원도 춘천시' '충청북도 증평군' '충청북도 괴산군'\n",
      " '울산광역시 중구' '부산광역시 동래구' '전라남도 신안군' '대구광역시 남구' '전라남도 목포시' '부산광역시 금정구'\n",
      " '강원도 인제군' '대구광역시 수성구' '경기도 오산시' '서울특별시 강서구' '경상남도 함안군' '서울특별시 성북구'\n",
      " '인천광역시 중구' '울산광역시 울주군' '경상북도 청도군' '경기도 구리시' '충청남도 태안군' '경기도 평택시'\n",
      " '경기도 여주시' '경기도 의왕시' '전라남도 해남군' '광주광역시 남구' '경기도 의정부시' '전라북도 정읍시'\n",
      " '서울특별시 구로구' '충청북도 충주시' '강원도 강릉시' '경기도 양주시' '서울특별시 서대문구' '인천광역시 옹진군'\n",
      " '인천광역시 미추홀구' '서울특별시 성동구' '서울특별시 노원구' '전라남도 강진군' '경상남도 거제시' '전라남도 담양군'\n",
      " '전라북도 군산시' '전라남도 진도군' '울산광역시 동구' '경상남도 산청군' '부산광역시 기장군' '전라남도 나주시'\n",
      " '경기도 성남시' '경상북도 경주시' '경기도 연천군' '경상남도 함양군' '경상북도 봉화군' '부산광역시 영도구'\n",
      " '충청북도 단양군' '경상북도 예천군' '경상남도 고성군' '충청남도 계룡시' '충청남도 청양군' '강원도 영월군'\n",
      " '경기도 안성시' '서울특별시 은평구' '경상북도 군위군' '전라남도 고흥군' '전라남도 여수시' '부산광역시 수영구'\n",
      " '인천광역시 계양구' '경기도 양평군' '충청남도 아산시' '전라남도 무안군' '경상북도 포항시' '경상북도 성주군'\n",
      " '충청북도 청주시' '경상북도 칠곡군' '서울특별시 송파구' '강원도 양구군']\n",
      "False\n"
     ]
    }
   ],
   "source": [
    "# 제공기관명\n",
    "print(pd_data['제공기관명'].unique())\n",
    "print(pd_data['제공기관명'].hasnans)\n",
    "# 결측치, 오류치, 이상치: 없음"
   ]
  },
  {
   "cell_type": "code",
   "execution_count": 8,
   "id": "547fcc78",
   "metadata": {},
   "outputs": [
    {
     "name": "stdout",
     "output_type": "stream",
     "text": [
      "['전라북도' '충청남도' '인천광역시' '경상북도' '대전광역시' '경상남도' '경기도' '부산광역시' '서울특별시' '강원도'\n",
      " '전라남도' '충청북도' '세종특별자치시' '대구광역시' '광주광역시' '울산광역시' '제주특별자치도']\n",
      "False\n"
     ]
    },
    {
     "name": "stderr",
     "output_type": "stream",
     "text": [
      "C:\\Users\\ITPS\\AppData\\Local\\Temp\\ipykernel_10692\\1464143944.py:6: SettingWithCopyWarning: \n",
      "A value is trying to be set on a copy of a slice from a DataFrame.\n",
      "Try using .loc[row_indexer,col_indexer] = value instead\n",
      "\n",
      "See the caveats in the documentation: https://pandas.pydata.org/pandas-docs/stable/user_guide/indexing.html#returning-a-view-versus-a-copy\n",
      "  pd_data['시도명'] = city_list\n"
     ]
    }
   ],
   "source": [
    "# 시도명 추가\n",
    "city_list = []\n",
    "for i in pd_data['제공기관명']:\n",
    "    city_list.append(i.split(' ')[0])\n",
    "# print(city_list)\n",
    "pd_data['시도명'] = city_list\n",
    "\n",
    "print(pd_data['시도명'].unique())\n",
    "print(pd_data['시도명'].hasnans)\n",
    "\n",
    "# 결측치, 오류치, 이상치: 없음"
   ]
  },
  {
   "cell_type": "code",
   "execution_count": 9,
   "id": "299d738e",
   "metadata": {},
   "outputs": [
    {
     "name": "stdout",
     "output_type": "stream",
     "text": [
      "[10.94574953  5.5        10.          9.         13.          8.\n",
      " 17.5         7.         11.5        14.         19.5        15.\n",
      "  4.5         6.5         5.          6.         12.5         9.5\n",
      "  7.5        20.5        24.         12.         10.5         8.5\n",
      " 13.5        36.         16.5        17.         15.5         4.95\n",
      " 11.          4.75       21.         22.5        19.         16.\n",
      " 22.         14.5        18.         20.         25.         21.5\n",
      "  3.5        18.5        26.          8.25        7.15        6.55\n",
      "  4.35        9.8         5.65        5.25        7.2         6.15\n",
      "  6.45       10.6         7.3         6.05        9.45       29.5\n",
      " 10.25        7.75        7.25       19.25       23.         43.5\n",
      "  5.3        12.35        5.8         6.65        5.35       12.75\n",
      "  6.25        6.75        6.3        10.45        8.3        15.75\n",
      " 28.         27.5        26.5        27.         34.         23.5\n",
      " 25.5        30.         37.5        32.5        31.          4.25\n",
      "  5.75        8.75        7.35        9.75       12.25        6.95\n",
      " 20.9        14.25       11.75       13.85        4.         15.85\n",
      " 22.1         8.55       25.25       20.3        15.4         6.7\n",
      " 11.85        6.8         7.4         8.65       33.5        13.25\n",
      " 18.25       16.25       29.         11.45       31.5        28.5\n",
      " 35.5        57.         14.75        4.45        6.9         8.85\n",
      "  9.25       41.5        24.5        38.         11.25       34.5       ]\n",
      "False\n"
     ]
    },
    {
     "name": "stderr",
     "output_type": "stream",
     "text": [
      "C:\\Users\\ITPS\\AppData\\Local\\Temp\\ipykernel_10692\\4189083423.py:21: SettingWithCopyWarning: \n",
      "A value is trying to be set on a copy of a slice from a DataFrame.\n",
      "Try using .loc[row_indexer,col_indexer] = value instead\n",
      "\n",
      "See the caveats in the documentation: https://pandas.pydata.org/pandas-docs/stable/user_guide/indexing.html#returning-a-view-versus-a-copy\n",
      "  pd_data['보호구역도로폭'] = y\n"
     ]
    }
   ],
   "source": [
    "# 보호구역도로폭 \n",
    "# print(pd_data['보호구역도로폭'].unique())\n",
    "# print(pd_data['보호구역도로폭'].hasnans)\n",
    "\n",
    "# 오류치 : 숫자a~숫자b 형태의 문자열 --> '숫자a'와 '숫자b'의 평균치 (np.float64) 값으로 대체\n",
    "def myfn1(x):\n",
    "    if type(x) == type(' '):\n",
    "        if '~' in x:\n",
    "            m = np.array(x.split('~')).astype(np.float64).mean()\n",
    "            return str(m)\n",
    "        \n",
    "y = pd_data['보호구역도로폭'].apply(myfn1)\n",
    "\n",
    "# print(pd_data['보호구역도로폭'].isna().value_counts())\n",
    "y = y.astype(np.float64)\n",
    "\n",
    "# 결축치 : 전체 도로폭 평균치로 대체\n",
    "\n",
    "y = y.replace(np.NaN, y.mean())\n",
    "# print(y.isna().value_counts())\n",
    "pd_data['보호구역도로폭'] = y\n",
    "\n",
    "print(pd_data['보호구역도로폭'].unique())\n",
    "print(pd_data['보호구역도로폭'].hasnans)"
   ]
  },
  {
   "cell_type": "code",
   "execution_count": 10,
   "id": "93d0fb37",
   "metadata": {},
   "outputs": [
    {
     "name": "stdout",
     "output_type": "stream",
     "text": [
      "count    15056.000000\n",
      "mean        10.945750\n",
      "std          2.313757\n",
      "min          3.500000\n",
      "25%         10.945750\n",
      "50%         10.945750\n",
      "75%         10.945750\n",
      "max         57.000000\n",
      "Name: 보호구역도로폭, dtype: float64\n",
      "10.945749525616698 10.945749525616698\n",
      "False    13957\n",
      "True      1099\n",
      "Name: 보호구역도로폭, dtype: int64\n",
      "[10.94574953  5.5        10.          9.                 nan  8.\n",
      "  7.          4.5         6.5         5.          6.          9.5\n",
      "  7.5        10.5         8.5         4.95        4.75        3.5\n",
      "  8.25        7.15        6.55        4.35        9.8         5.65\n",
      "  5.25        7.2         6.15        6.45       10.6         7.3\n",
      "  6.05        9.45       10.25        7.75        7.25        5.3\n",
      "  5.8         6.65        5.35        6.25        6.75        6.3\n",
      " 10.45        8.3         4.25        5.75        8.75        7.35\n",
      "  9.75        6.95        4.          8.55        6.7         6.8\n",
      "  7.4         8.65        4.45        6.9         8.85        9.25      ]\n",
      "True\n",
      "count    13957.000000\n",
      "mean        10.533632\n",
      "std          1.295090\n",
      "min          3.500000\n",
      "25%         10.945750\n",
      "50%         10.945750\n",
      "75%         10.945750\n",
      "max         10.945750\n",
      "Name: 보호구역도로폭, dtype: float64\n"
     ]
    }
   ],
   "source": [
    "# 이상치: upper 보다 큰 값을 np.NaN으로 교체, 후에 dropna() 이용 셈플 삭제\n",
    "print(pd_data['보호구역도로폭'].describe())\n",
    "q1, q3 = pd_data['보호구역도로폭'].quantile([0.25, 0.75])\n",
    "iqr = q3 - q1\n",
    "upper = q3 + 1.5*iqr\n",
    "lower = q1 - 1.5*iqr\n",
    "print(lower, upper)\n",
    "filter1 = pd_data['보호구역도로폭'] > upper\n",
    "print(filter1.value_counts())\n",
    "pd_data.loc[filter1, '보호구역도로폭'] = np.NaN\n",
    "\n",
    "print(pd_data['보호구역도로폭'].unique())\n",
    "print(pd_data['보호구역도로폭'].hasnans)\n",
    "\n",
    "print(pd_data['보호구역도로폭'].describe())"
   ]
  },
  {
   "cell_type": "code",
   "execution_count": 11,
   "id": "e43f20c7",
   "metadata": {},
   "outputs": [
    {
     "name": "stdout",
     "output_type": "stream",
     "text": [
      "(15056, 7)\n",
      "(13957, 7)\n",
      "(13957, 7)\n"
     ]
    }
   ],
   "source": [
    "pd_data_f = pd_data.dropna()\n",
    "print(pd_data.shape)\n",
    "print(pd_data_f.shape)\n",
    "pd_kids = pd_data_f\n",
    "print(pd_kids.shape)\n",
    "pd_kids.to_pickle('pd_kids')"
   ]
  },
  {
   "cell_type": "code",
   "execution_count": 12,
   "id": "d2d3f6c4",
   "metadata": {},
   "outputs": [],
   "source": [
    "# 시도명 뽑는 것 풀이\n",
    "\n",
    "# pd_data['제공기관명'].unique()\n",
    "# pd_data['시도명'] = pd_data['제공기관명'].apply(lambda x : x.split()[0])\n",
    "# apply, map, applymap, aggregate, agg"
   ]
  },
  {
   "cell_type": "code",
   "execution_count": 13,
   "id": "a6492ad0",
   "metadata": {},
   "outputs": [],
   "source": [
    "# csv\n",
    "pd_data.to_csv ('전국어린이보호구역표준데이터_pass1.csv')"
   ]
  },
  {
   "cell_type": "code",
   "execution_count": 14,
   "id": "f15bb3b9",
   "metadata": {},
   "outputs": [],
   "source": [
    "#pickle\n",
    "with open('전국어린이보호구역표준데이터_pass1.pickle', 'wb') as f:\n",
    "    pickle.dump(pd_data, f)"
   ]
  }
 ],
 "metadata": {
  "kernelspec": {
   "display_name": "Python 3 (ipykernel)",
   "language": "python",
   "name": "python3"
  },
  "language_info": {
   "codemirror_mode": {
    "name": "ipython",
    "version": 3
   },
   "file_extension": ".py",
   "mimetype": "text/x-python",
   "name": "python",
   "nbconvert_exporter": "python",
   "pygments_lexer": "ipython3",
   "version": "3.10.9"
  }
 },
 "nbformat": 4,
 "nbformat_minor": 5
}
